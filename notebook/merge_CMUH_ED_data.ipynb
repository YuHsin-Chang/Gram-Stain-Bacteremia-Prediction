{
 "cells": [
  {
   "cell_type": "markdown",
   "metadata": {},
   "source": [
    "- **要加入急診的資料, 臨床資料要用來跑 baseline model**"
   ]
  },
  {
   "cell_type": "markdown",
   "metadata": {},
   "source": [
    "## **Library**"
   ]
  },
  {
   "cell_type": "code",
   "execution_count": 1,
   "metadata": {},
   "outputs": [],
   "source": [
    "import pandas as pd\n",
    "import os \n",
    "import sys\n",
    "import numpy as np\n",
    "from tqdm import tqdm\n",
    "from glob import glob\n",
    "from datetime import timedelta\n",
    "\n",
    "src_path = os.path.abspath(os.path.join(os.getcwd(), '..', 'src'))\n",
    "sys.path.insert(0, src_path)  # 加入搜尋路徑最前面\n",
    "\n",
    "from data_preprocess import(\n",
    "    combine_datetime_MK,\n",
    "    check_column,\n",
    "    calculate_mews,\n",
    "    calculate_SIRS,\n",
    "    ED_list_process\n",
    ")"
   ]
  },
  {
   "cell_type": "markdown",
   "metadata": {},
   "source": [
    "## **Settings**"
   ]
  },
  {
   "cell_type": "code",
   "execution_count": 2,
   "metadata": {},
   "outputs": [
    {
     "name": "stdout",
     "output_type": "stream",
     "text": [
      "目前的工作目錄是： D:\\python_code\\CPD\\GS\n"
     ]
    }
   ],
   "source": [
    "# %%[設定project路徑]\n",
    "root_path = r\"D:\\python_code\\CPD\\GS\"\n",
    "os.chdir(root_path)\n",
    "current_directory = os.getcwd()\n",
    "\n",
    "print(\"目前的工作目錄是：\", current_directory)\n",
    " \n",
    "hospital= 'CMUH'\n",
    "\n",
    "ED_data_path = r'D:\\張裕鑫\\RESEARCH\\Databank\\CMUH\\ER 名單\\processed_ED_list_csv'\n",
    "\n",
    "variable_path= f'{root_path}\\\\data'\n",
    "os.makedirs(variable_path, exist_ok=True)\n"
   ]
  },
  {
   "cell_type": "markdown",
   "metadata": {},
   "source": [
    "## **Import files**"
   ]
  },
  {
   "cell_type": "markdown",
   "metadata": {},
   "source": [
    "#### **CBC/CPD資料**"
   ]
  },
  {
   "cell_type": "code",
   "execution_count": 3,
   "metadata": {},
   "outputs": [],
   "source": [
    "dtype= {'ID':int, 'Sample_ID':int, 'Age': int, }\n",
    "\n",
    "df_CMUH_2021_origin=  pd.read_csv(rf'{variable_path}\\CMUH_GS_2021.csv',\n",
    "                                         dtype=dtype, parse_dates=['Report_Time'], encoding= 'utf-8-sig')\n",
    "\n",
    "\n",
    "df_CMUH_2023_origin=  pd.read_csv(rf'{variable_path}\\CMUH_GS_2023.csv',\n",
    "                                         dtype=dtype, parse_dates=['Report_Time'], encoding= 'utf-8-sig')"
   ]
  },
  {
   "cell_type": "markdown",
   "metadata": {},
   "source": [
    "#### **ED list**"
   ]
  },
  {
   "cell_type": "code",
   "execution_count": 4,
   "metadata": {},
   "outputs": [
    {
     "name": "stderr",
     "output_type": "stream",
     "text": [
      "  0%|          | 0/29 [00:00<?, ?it/s]d:\\python_code\\CPD\\GS\\src\\data_preprocess.py:76: DtypeWarning: Columns (39,40,41,46,101,114,119,121,125,128,129,130,131) have mixed types. Specify dtype option on import or set low_memory=False.\n",
      "  df = pd.read_csv(df_path, encoding='utf-8-sig')\n",
      "  3%|▎         | 1/29 [00:00<00:07,  3.77it/s]d:\\python_code\\CPD\\GS\\src\\data_preprocess.py:76: DtypeWarning: Columns (41,46,51,101,119,121,125,128,129,130,131) have mixed types. Specify dtype option on import or set low_memory=False.\n",
      "  df = pd.read_csv(df_path, encoding='utf-8-sig')\n",
      "  7%|▋         | 2/29 [00:00<00:06,  4.19it/s]d:\\python_code\\CPD\\GS\\src\\data_preprocess.py:76: DtypeWarning: Columns (39,40,92,114,119,121,123,125,128,129,130,131) have mixed types. Specify dtype option on import or set low_memory=False.\n",
      "  df = pd.read_csv(df_path, encoding='utf-8-sig')\n",
      " 10%|█         | 3/29 [00:00<00:06,  4.24it/s]d:\\python_code\\CPD\\GS\\src\\data_preprocess.py:76: DtypeWarning: Columns (39,83,101,116,119,121,125,126,127,128,129,130,131,132,133,134) have mixed types. Specify dtype option on import or set low_memory=False.\n",
      "  df = pd.read_csv(df_path, encoding='utf-8-sig')\n",
      " 14%|█▍        | 4/29 [00:00<00:05,  4.35it/s]d:\\python_code\\CPD\\GS\\src\\data_preprocess.py:76: DtypeWarning: Columns (39,41,81,92,97,114,119,121,125,128,129,130,131) have mixed types. Specify dtype option on import or set low_memory=False.\n",
      "  df = pd.read_csv(df_path, encoding='utf-8-sig')\n",
      " 17%|█▋        | 5/29 [00:01<00:05,  4.57it/s]d:\\python_code\\CPD\\GS\\src\\data_preprocess.py:76: DtypeWarning: Columns (39,40,41,92,101,114,116,119,125,127,128,129,130,131,132,133,134) have mixed types. Specify dtype option on import or set low_memory=False.\n",
      "  df = pd.read_csv(df_path, encoding='utf-8-sig')\n",
      " 21%|██        | 6/29 [00:01<00:05,  4.58it/s]d:\\python_code\\CPD\\GS\\src\\data_preprocess.py:76: DtypeWarning: Columns (39,41,83,92,119,121,125,128,129,130,131) have mixed types. Specify dtype option on import or set low_memory=False.\n",
      "  df = pd.read_csv(df_path, encoding='utf-8-sig')\n",
      " 24%|██▍       | 7/29 [00:01<00:04,  4.68it/s]d:\\python_code\\CPD\\GS\\src\\data_preprocess.py:76: DtypeWarning: Columns (40,41,92,101,114,119,120,125,128,129,130,131) have mixed types. Specify dtype option on import or set low_memory=False.\n",
      "  df = pd.read_csv(df_path, encoding='utf-8-sig')\n",
      " 28%|██▊       | 8/29 [00:01<00:04,  4.54it/s]d:\\python_code\\CPD\\GS\\src\\data_preprocess.py:76: DtypeWarning: Columns (41,44,83,92,115,116,119,120,125,127,128,129,130,131,132,133,134) have mixed types. Specify dtype option on import or set low_memory=False.\n",
      "  df = pd.read_csv(df_path, encoding='utf-8-sig')\n",
      " 31%|███       | 9/29 [00:02<00:04,  4.47it/s]d:\\python_code\\CPD\\GS\\src\\data_preprocess.py:76: DtypeWarning: Columns (21,23,40,41,43,51,72,81,83,92,97,114,116,119,120,125,127,128,129,130,131,132,133,134) have mixed types. Specify dtype option on import or set low_memory=False.\n",
      "  df = pd.read_csv(df_path, encoding='utf-8-sig')\n",
      " 34%|███▍      | 10/29 [00:02<00:04,  3.88it/s]d:\\python_code\\CPD\\GS\\src\\data_preprocess.py:76: DtypeWarning: Columns (40,83,92,119,120) have mixed types. Specify dtype option on import or set low_memory=False.\n",
      "  df = pd.read_csv(df_path, encoding='utf-8-sig')\n",
      " 38%|███▊      | 11/29 [00:02<00:04,  3.96it/s]d:\\python_code\\CPD\\GS\\src\\data_preprocess.py:76: DtypeWarning: Columns (40,41,44,83,92,119,120,125,128,129,130,131) have mixed types. Specify dtype option on import or set low_memory=False.\n",
      "  df = pd.read_csv(df_path, encoding='utf-8-sig')\n",
      " 41%|████▏     | 12/29 [00:02<00:04,  4.09it/s]d:\\python_code\\CPD\\GS\\src\\data_preprocess.py:76: DtypeWarning: Columns (40,41,51,83,101,114,119) have mixed types. Specify dtype option on import or set low_memory=False.\n",
      "  df = pd.read_csv(df_path, encoding='utf-8-sig')\n",
      " 45%|████▍     | 13/29 [00:03<00:03,  4.18it/s]d:\\python_code\\CPD\\GS\\src\\data_preprocess.py:76: DtypeWarning: Columns (40,83,92,114,119,120,125,128,129,130,131) have mixed types. Specify dtype option on import or set low_memory=False.\n",
      "  df = pd.read_csv(df_path, encoding='utf-8-sig')\n",
      " 48%|████▊     | 14/29 [00:03<00:03,  3.97it/s]d:\\python_code\\CPD\\GS\\src\\data_preprocess.py:76: DtypeWarning: Columns (41,92,114,119,120,125,128,129,130,131) have mixed types. Specify dtype option on import or set low_memory=False.\n",
      "  df = pd.read_csv(df_path, encoding='utf-8-sig')\n",
      " 52%|█████▏    | 15/29 [00:03<00:03,  3.84it/s]d:\\python_code\\CPD\\GS\\src\\data_preprocess.py:76: DtypeWarning: Columns (39,40,41,83,92,101,114,116,119,121,123,125,127,128,129,130,131,132,133,134) have mixed types. Specify dtype option on import or set low_memory=False.\n",
      "  df = pd.read_csv(df_path, encoding='utf-8-sig')\n",
      " 55%|█████▌    | 16/29 [00:03<00:03,  3.98it/s]d:\\python_code\\CPD\\GS\\src\\data_preprocess.py:76: DtypeWarning: Columns (39,40,41,44,51,83,101,116,119,120,123,124,125,127,128,129,130,131,132,133,134) have mixed types. Specify dtype option on import or set low_memory=False.\n",
      "  df = pd.read_csv(df_path, encoding='utf-8-sig')\n",
      " 59%|█████▊    | 17/29 [00:04<00:03,  3.95it/s]d:\\python_code\\CPD\\GS\\src\\data_preprocess.py:76: DtypeWarning: Columns (41,83,92) have mixed types. Specify dtype option on import or set low_memory=False.\n",
      "  df = pd.read_csv(df_path, encoding='utf-8-sig')\n",
      " 62%|██████▏   | 18/29 [00:04<00:02,  3.74it/s]d:\\python_code\\CPD\\GS\\src\\data_preprocess.py:76: DtypeWarning: Columns (40,41,44,92,126) have mixed types. Specify dtype option on import or set low_memory=False.\n",
      "  df = pd.read_csv(df_path, encoding='utf-8-sig')\n",
      " 66%|██████▌   | 19/29 [00:04<00:02,  3.79it/s]d:\\python_code\\CPD\\GS\\src\\data_preprocess.py:76: DtypeWarning: Columns (39,40,41,83,92,118,121,126) have mixed types. Specify dtype option on import or set low_memory=False.\n",
      "  df = pd.read_csv(df_path, encoding='utf-8-sig')\n",
      " 69%|██████▉   | 20/29 [00:04<00:02,  3.78it/s]d:\\python_code\\CPD\\GS\\src\\data_preprocess.py:76: DtypeWarning: Columns (39,41,51,61,92,101,126) have mixed types. Specify dtype option on import or set low_memory=False.\n",
      "  df = pd.read_csv(df_path, encoding='utf-8-sig')\n",
      " 72%|███████▏  | 21/29 [00:05<00:02,  3.75it/s]d:\\python_code\\CPD\\GS\\src\\data_preprocess.py:76: DtypeWarning: Columns (21,39,40,41,43,72,81,83,92,126) have mixed types. Specify dtype option on import or set low_memory=False.\n",
      "  df = pd.read_csv(df_path, encoding='utf-8-sig')\n",
      " 76%|███████▌  | 22/29 [00:05<00:01,  3.59it/s]d:\\python_code\\CPD\\GS\\src\\data_preprocess.py:76: DtypeWarning: Columns (39,40,41,92,126) have mixed types. Specify dtype option on import or set low_memory=False.\n",
      "  df = pd.read_csv(df_path, encoding='utf-8-sig')\n",
      " 79%|███████▉  | 23/29 [00:05<00:01,  3.52it/s]d:\\python_code\\CPD\\GS\\src\\data_preprocess.py:76: DtypeWarning: Columns (39,40,41,83,92,101,113,126) have mixed types. Specify dtype option on import or set low_memory=False.\n",
      "  df = pd.read_csv(df_path, encoding='utf-8-sig')\n",
      " 83%|████████▎ | 24/29 [00:06<00:01,  3.50it/s]d:\\python_code\\CPD\\GS\\src\\data_preprocess.py:76: DtypeWarning: Columns (39,40,41,51,101,126) have mixed types. Specify dtype option on import or set low_memory=False.\n",
      "  df = pd.read_csv(df_path, encoding='utf-8-sig')\n",
      " 86%|████████▌ | 25/29 [00:06<00:01,  3.55it/s]d:\\python_code\\CPD\\GS\\src\\data_preprocess.py:76: DtypeWarning: Columns (39,40,41,83,92,113,126) have mixed types. Specify dtype option on import or set low_memory=False.\n",
      "  df = pd.read_csv(df_path, encoding='utf-8-sig')\n",
      " 90%|████████▉ | 26/29 [00:06<00:00,  3.50it/s]d:\\python_code\\CPD\\GS\\src\\data_preprocess.py:76: DtypeWarning: Columns (39,83,92,101,113,126) have mixed types. Specify dtype option on import or set low_memory=False.\n",
      "  df = pd.read_csv(df_path, encoding='utf-8-sig')\n",
      " 93%|█████████▎| 27/29 [00:07<00:00,  3.19it/s]d:\\python_code\\CPD\\GS\\src\\data_preprocess.py:76: DtypeWarning: Columns (40,41,51,83,101,126) have mixed types. Specify dtype option on import or set low_memory=False.\n",
      "  df = pd.read_csv(df_path, encoding='utf-8-sig')\n",
      " 97%|█████████▋| 28/29 [00:07<00:00,  3.27it/s]d:\\python_code\\CPD\\GS\\src\\data_preprocess.py:76: DtypeWarning: Columns (39,46,84) have mixed types. Specify dtype option on import or set low_memory=False.\n",
      "  df = pd.read_csv(df_path, encoding='utf-8-sig')\n",
      "100%|██████████| 29/29 [00:07<00:00,  3.82it/s]\n"
     ]
    }
   ],
   "source": [
    "raw_paths = glob(ED_data_path+r'\\110*.csv') +glob(ED_data_path+r'\\111*.csv')+glob(ED_data_path+r'\\112*.csv') \n",
    "\n",
    "df_EDlist_origin= pd.concat([ED_list_process(p) for p in tqdm(raw_paths)])\n",
    "df_EDlist_origin.reset_index(drop=True, inplace=True)"
   ]
  },
  {
   "cell_type": "markdown",
   "metadata": {},
   "source": [
    "- 先處理跑掉的ER list 格式"
   ]
  },
  {
   "cell_type": "code",
   "execution_count": 5,
   "metadata": {},
   "outputs": [],
   "source": [
    "ER_total= df_EDlist_origin.copy()"
   ]
  },
  {
   "cell_type": "code",
   "execution_count": 6,
   "metadata": {},
   "outputs": [
    {
     "name": "stdout",
     "output_type": "stream",
     "text": [
      "9311\n"
     ]
    },
    {
     "name": "stderr",
     "output_type": "stream",
     "text": [
      "C:\\Users\\張裕鑫\\AppData\\Local\\Temp\\ipykernel_28200\\973942761.py:19: FutureWarning: Setting an item of incompatible dtype is deprecated and will raise an error in a future version of pandas. Value '[nan nan nan ... nan nan nan]' has dtype incompatible with float64, please explicitly cast to a compatible dtype first.\n",
      "  ER_total.loc[mask, cols_to_shift] = ER_total.loc[mask, cols_to_shift].shift(1, axis=1)\n",
      "C:\\Users\\張裕鑫\\AppData\\Local\\Temp\\ipykernel_28200\\973942761.py:19: FutureWarning: Setting an item of incompatible dtype is deprecated and will raise an error in a future version of pandas. Value '[nan nan nan ... nan nan nan]' has dtype incompatible with float64, please explicitly cast to a compatible dtype first.\n",
      "  ER_total.loc[mask, cols_to_shift] = ER_total.loc[mask, cols_to_shift].shift(1, axis=1)\n",
      "C:\\Users\\張裕鑫\\AppData\\Local\\Temp\\ipykernel_28200\\973942761.py:19: FutureWarning: Setting an item of incompatible dtype is deprecated and will raise an error in a future version of pandas. Value '[951.0 954.0 36.0 ... 1031.0 827.0 851.0]' has dtype incompatible with float64, please explicitly cast to a compatible dtype first.\n",
      "  ER_total.loc[mask, cols_to_shift] = ER_total.loc[mask, cols_to_shift].shift(1, axis=1)\n",
      "C:\\Users\\張裕鑫\\AppData\\Local\\Temp\\ipykernel_28200\\973942761.py:19: FutureWarning: Setting an item of incompatible dtype is deprecated and will raise an error in a future version of pandas. Value '[nan nan nan ... nan nan nan]' has dtype incompatible with float64, please explicitly cast to a compatible dtype first.\n",
      "  ER_total.loc[mask, cols_to_shift] = ER_total.loc[mask, cols_to_shift].shift(1, axis=1)\n",
      "C:\\Users\\張裕鑫\\AppData\\Local\\Temp\\ipykernel_28200\\973942761.py:19: FutureWarning: Setting an item of incompatible dtype is deprecated and will raise an error in a future version of pandas. Value '[nan nan nan ... nan nan nan]' has dtype incompatible with float64, please explicitly cast to a compatible dtype first.\n",
      "  ER_total.loc[mask, cols_to_shift] = ER_total.loc[mask, cols_to_shift].shift(1, axis=1)\n",
      "C:\\Users\\張裕鑫\\AppData\\Local\\Temp\\ipykernel_28200\\973942761.py:19: FutureWarning: Setting an item of incompatible dtype is deprecated and will raise an error in a future version of pandas. Value '[nan nan nan ... nan nan nan]' has dtype incompatible with float64, please explicitly cast to a compatible dtype first.\n",
      "  ER_total.loc[mask, cols_to_shift] = ER_total.loc[mask, cols_to_shift].shift(1, axis=1)\n",
      "C:\\Users\\張裕鑫\\AppData\\Local\\Temp\\ipykernel_28200\\973942761.py:19: FutureWarning: Setting an item of incompatible dtype is deprecated and will raise an error in a future version of pandas. Value '[nan nan nan ... nan nan nan]' has dtype incompatible with float64, please explicitly cast to a compatible dtype first.\n",
      "  ER_total.loc[mask, cols_to_shift] = ER_total.loc[mask, cols_to_shift].shift(1, axis=1)\n",
      "C:\\Users\\張裕鑫\\AppData\\Local\\Temp\\ipykernel_28200\\973942761.py:19: FutureWarning: Setting an item of incompatible dtype is deprecated and will raise an error in a future version of pandas. Value '[nan nan nan ... '2339' nan nan]' has dtype incompatible with float64, please explicitly cast to a compatible dtype first.\n",
      "  ER_total.loc[mask, cols_to_shift] = ER_total.loc[mask, cols_to_shift].shift(1, axis=1)\n"
     ]
    }
   ],
   "source": [
    "# 找到包含 '急診' 或 '兒科' 的行\n",
    "ER_total['ED_specialty_code'] = ER_total['ED_specialty_code'].astype(str) \n",
    "\n",
    "# 不要全部轉成str, 反正原本的數字再配對就會直接變成nan, 得到index後就把nan的行數刪掉, 留下來的理論上全部都要是True, 如果有False則代表有例外\n",
    "# 例外就可以再去查是為什麼\n",
    "mask = ER_total['ED_specialty_code'].str.contains(r'急診|兒科')\n",
    "selected= ER_total[mask]\n",
    "print (np.shape (selected)[0])\n",
    "\n",
    "# column的範圍從 'GCS_E' 到倒数第二列\n",
    "start_col = 'GCS_E'\n",
    "end_col = ER_total.columns[-2]\n",
    "\n",
    "start_idx = ER_total.columns.get_loc('GCS_E')\n",
    "end_idx = ER_total.columns.get_loc(end_col)\n",
    "cols_to_shift = ER_total.columns[start_idx:end_idx+1]\n",
    "\n",
    "# 對符合條件的行進行處理\n",
    "ER_total.loc[mask, cols_to_shift] = ER_total.loc[mask, cols_to_shift].shift(1, axis=1)\n",
    "\n",
    "# 獲取符合条件的最後一個字符\n",
    "ER_total.loc[mask, 'GCS_E'] = ER_total.loc[mask, 'Triage_depend'].str[-1]"
   ]
  },
  {
   "cell_type": "markdown",
   "metadata": {},
   "source": [
    "- **有一筆是地址往後移了一欄**"
   ]
  },
  {
   "cell_type": "code",
   "execution_count": 7,
   "metadata": {},
   "outputs": [
    {
     "name": "stdout",
     "output_type": "stream",
     "text": [
      "3\n"
     ]
    },
    {
     "name": "stderr",
     "output_type": "stream",
     "text": [
      "C:\\Users\\張裕鑫\\AppData\\Local\\Temp\\ipykernel_28200\\3092612433.py:22: FutureWarning: Setting an item of incompatible dtype is deprecated and will raise an error in a future version of pandas. Value '[nan nan nan]' has dtype incompatible with float64, please explicitly cast to a compatible dtype first.\n",
      "  ER_total.loc[indices_to_shift, cols_to_shift] = ER_total.loc[indices_to_shift, cols_to_shift].shift(-1, axis=1)\n",
      "C:\\Users\\張裕鑫\\AppData\\Local\\Temp\\ipykernel_28200\\3092612433.py:22: FutureWarning: Setting an item of incompatible dtype is deprecated and will raise an error in a future version of pandas. Value '[nan nan nan]' has dtype incompatible with float64, please explicitly cast to a compatible dtype first.\n",
      "  ER_total.loc[indices_to_shift, cols_to_shift] = ER_total.loc[indices_to_shift, cols_to_shift].shift(-1, axis=1)\n",
      "C:\\Users\\張裕鑫\\AppData\\Local\\Temp\\ipykernel_28200\\3092612433.py:22: FutureWarning: Setting an item of incompatible dtype is deprecated and will raise an error in a future version of pandas. Value '[nan nan nan]' has dtype incompatible with float64, please explicitly cast to a compatible dtype first.\n",
      "  ER_total.loc[indices_to_shift, cols_to_shift] = ER_total.loc[indices_to_shift, cols_to_shift].shift(-1, axis=1)\n",
      "C:\\Users\\張裕鑫\\AppData\\Local\\Temp\\ipykernel_28200\\3092612433.py:22: FutureWarning: Setting an item of incompatible dtype is deprecated and will raise an error in a future version of pandas. Value '['1604' '408' '2039']' has dtype incompatible with int64, please explicitly cast to a compatible dtype first.\n",
      "  ER_total.loc[indices_to_shift, cols_to_shift] = ER_total.loc[indices_to_shift, cols_to_shift].shift(-1, axis=1)\n",
      "C:\\Users\\張裕鑫\\AppData\\Local\\Temp\\ipykernel_28200\\3092612433.py:22: FutureWarning: Setting an item of incompatible dtype is deprecated and will raise an error in a future version of pandas. Value '[nan nan nan]' has dtype incompatible with float64, please explicitly cast to a compatible dtype first.\n",
      "  ER_total.loc[indices_to_shift, cols_to_shift] = ER_total.loc[indices_to_shift, cols_to_shift].shift(-1, axis=1)\n",
      "C:\\Users\\張裕鑫\\AppData\\Local\\Temp\\ipykernel_28200\\3092612433.py:22: FutureWarning: Setting an item of incompatible dtype is deprecated and will raise an error in a future version of pandas. Value '['619' '1841' '0']' has dtype incompatible with int64, please explicitly cast to a compatible dtype first.\n",
      "  ER_total.loc[indices_to_shift, cols_to_shift] = ER_total.loc[indices_to_shift, cols_to_shift].shift(-1, axis=1)\n",
      "C:\\Users\\張裕鑫\\AppData\\Local\\Temp\\ipykernel_28200\\3092612433.py:22: FutureWarning: Setting an item of incompatible dtype is deprecated and will raise an error in a future version of pandas. Value '[nan nan nan]' has dtype incompatible with float64, please explicitly cast to a compatible dtype first.\n",
      "  ER_total.loc[indices_to_shift, cols_to_shift] = ER_total.loc[indices_to_shift, cols_to_shift].shift(-1, axis=1)\n",
      "C:\\Users\\張裕鑫\\AppData\\Local\\Temp\\ipykernel_28200\\3092612433.py:22: FutureWarning: Setting an item of incompatible dtype is deprecated and will raise an error in a future version of pandas. Value '[nan nan nan]' has dtype incompatible with float64, please explicitly cast to a compatible dtype first.\n",
      "  ER_total.loc[indices_to_shift, cols_to_shift] = ER_total.loc[indices_to_shift, cols_to_shift].shift(-1, axis=1)\n",
      "C:\\Users\\張裕鑫\\AppData\\Local\\Temp\\ipykernel_28200\\3092612433.py:22: FutureWarning: Setting an item of incompatible dtype is deprecated and will raise an error in a future version of pandas. Value '[nan nan nan]' has dtype incompatible with float64, please explicitly cast to a compatible dtype first.\n",
      "  ER_total.loc[indices_to_shift, cols_to_shift] = ER_total.loc[indices_to_shift, cols_to_shift].shift(-1, axis=1)\n"
     ]
    },
    {
     "name": "stdout",
     "output_type": "stream",
     "text": [
      "0\n"
     ]
    }
   ],
   "source": [
    "\n",
    "ER_total['首診主治醫師代碼'] = ER_total['首診主治醫師代碼'].astype(str) \n",
    "# 第一次不要全部轉成str, 反正原本的數字再配對就會直接變成nan, 得到index後就把nan的行數刪掉, 留下來的理論上全部都要是True, 如果有False則代表有例外\n",
    "# 例外就可以再去查是為什麼\n",
    "\n",
    "#確認是哪一種- 'nan' or np.nan, 這邊是'nan'\n",
    "#ER_total['首診主治醫師代碼'].isin(['nan']).any().any()\n",
    "#ER_total['首診主治醫師代碼'].isna().any().any()\n",
    "\n",
    "ER_total['首診主治醫師代碼'] = ER_total['首診主治醫師代碼'].replace('nan', np.nan)\n",
    "indices_to_shift = ER_total[ER_total['首診主治醫師代碼'].apply(check_column)].index\n",
    "selected= ER_total.iloc[indices_to_shift,:]\n",
    "print(len(indices_to_shift))\n",
    "\n",
    "start_col = '首診主治醫師代碼'\n",
    "start_idx = ER_total.columns.get_loc(start_col)\n",
    "end_idx = np.shape(ER_total)[1]\n",
    "cols_to_shift = ER_total.columns[start_idx:]\n",
    "\n",
    "\n",
    "# 对符合条件的行进行处理，将列往前移动一个位置\n",
    "X= ER_total.iloc[indices_to_shift, start_idx-1]+ ER_total.iloc[indices_to_shift, start_idx]  # 地址先合併好, 挑出來, 不然會被下面順移時蓋掉\n",
    "ER_total.loc[indices_to_shift, cols_to_shift] = ER_total.loc[indices_to_shift, cols_to_shift].shift(-1, axis=1)\n",
    "ER_total.iloc[indices_to_shift, start_idx-1] = X  #補回去\n",
    "\n",
    "# 将最后一列设置为 NaN\n",
    "ER_total.iloc[:, -1] = np.nan\n",
    "\n",
    "#確認有沒有正確改好, print出來應該為0\n",
    "indices_to_shift = ER_total[ER_total['首診主治醫師代碼'].apply(check_column)].index\n",
    "selected= ER_total.loc[indices_to_shift,:]\n",
    "print(len(indices_to_shift))"
   ]
  },
  {
   "cell_type": "code",
   "execution_count": 8,
   "metadata": {},
   "outputs": [],
   "source": [
    "# %%[change format]\n",
    "ER_total['ED_Time'] = ER_total.apply(lambda row: combine_datetime_MK(row['EDdate'], row['EDtime']), axis=1)\n",
    "EDtime_index = ER_total.columns.get_loc('EDtime')\n",
    "ER_total.insert(EDtime_index + 1, 'ED_Time', ER_total.pop('ED_Time'))\n",
    "\n",
    "ER_total['ED_DIS_date']= ER_total['ED_DIS_date'].astype(int)\n",
    "ER_total['ED_DIS_time']= ER_total['ED_DIS_time'].astype(int)\n",
    "\n",
    "ER_total['ED_DIS_Time'] = ER_total.apply(lambda row: combine_datetime_MK(row['ED_DIS_date'], row['ED_DIS_time']), axis=1)\n",
    "ED_DIS_time_index = ER_total.columns.get_loc('ED_DIS_time')\n",
    "ER_total.insert(ED_DIS_time_index + 1, 'ED_DIS_Time', ER_total.pop('ED_DIS_Time'))"
   ]
  },
  {
   "cell_type": "markdown",
   "metadata": {},
   "source": [
    "## **Merge**"
   ]
  },
  {
   "cell_type": "markdown",
   "metadata": {},
   "source": [
    "#### **processing**"
   ]
  },
  {
   "cell_type": "code",
   "execution_count": 9,
   "metadata": {},
   "outputs": [],
   "source": [
    "df_CMUH_2021 = df_CMUH_2021_origin.copy()\n",
    "df_CMUH_2023 = df_CMUH_2023_origin.copy()\n",
    "\n",
    "df_CMUH_whole = pd.concat([df_CMUH_2021, df_CMUH_2023]).reset_index (drop=True)"
   ]
  },
  {
   "cell_type": "code",
   "execution_count": 10,
   "metadata": {},
   "outputs": [],
   "source": [
    "df_CMUH_whole_2 = pd.merge(\n",
    "    df_CMUH_whole,\n",
    "    ER_total[\n",
    "        [\n",
    "            \"ID\",\n",
    "            \"ED_ID\",\n",
    "            \"ED_Time\",\n",
    "            \"ED_DIS_Time\",\n",
    "            \"SBP\",\n",
    "            \"DBP\",\n",
    "            \"HR\",\n",
    "            \"BT\",\n",
    "            \"RR\",\n",
    "            \"GCS_M\",\n",
    "            \"Past_history\",\n",
    "            \"ICD\",\n",
    "            \"ICD_1\",\n",
    "            \"ICD_2\",\n",
    "            \"ICD_3\",\n",
    "            \"ICD_4\",\n",
    "            \"ICD_5\"\n",
    "        ]\n",
    "    ],\n",
    "    on=\"ID\",\n",
    "    how=\"left\",\n",
    ")"
   ]
  },
  {
   "cell_type": "markdown",
   "metadata": {},
   "source": [
    "- CBC的Report_Time 要介於入院和出院間"
   ]
  },
  {
   "cell_type": "code",
   "execution_count": 11,
   "metadata": {},
   "outputs": [],
   "source": [
    "df_CMUH_whole_2['ED_match'] = (\n",
    "    (df_CMUH_whole_2['Report_Time'] >= df_CMUH_whole_2['ED_Time']) &\n",
    "    (df_CMUH_whole_2['Report_Time'] <= df_CMUH_whole_2['ED_DIS_Time'] + timedelta(hours=4))\n",
    ").astype(int)\n",
    "\n",
    "df_CMUH_whole_2[\"delta_CBC_ED_Time\"] = df_CMUH_whole_2['Report_Time'] - df_CMUH_whole_2['ED_Time']"
   ]
  },
  {
   "cell_type": "markdown",
   "metadata": {},
   "source": [
    "- 把單一個Sample_ID 只有ED_match==0的抓出來"
   ]
  },
  {
   "cell_type": "code",
   "execution_count": 12,
   "metadata": {},
   "outputs": [],
   "source": [
    "# Step 1: 找出只出現 ED_match == 0 的 Sample_ID\n",
    "sample_ids_group = df_CMUH_whole_2.groupby('Sample_ID')['ED_match'].sum()\n",
    "only_0_sample_ids = sample_ids_group[sample_ids_group == 0].index\n",
    "\n",
    "# Step 2: 把這些 Sample_ID 的 ED_ID 設為 NaN\n",
    "df_CMUH_whole_2.loc[df_CMUH_whole_2['Sample_ID'].isin(only_0_sample_ids), 'ED_ID'] = pd.NA\n"
   ]
  },
  {
   "cell_type": "markdown",
   "metadata": {},
   "source": [
    "- 不在入院和出院的資料刪掉"
   ]
  },
  {
   "cell_type": "code",
   "execution_count": 13,
   "metadata": {},
   "outputs": [],
   "source": [
    "# 篩選 ED_match == 1 的資料\n",
    "df_matched = df_CMUH_whole_2[~(df_CMUH_whole_2['ED_ID'].isna())]\n",
    "\n",
    "# 篩選 ED_match == 0 的資料\n",
    "df_notmatched = df_CMUH_whole_2[(df_CMUH_whole_2['ED_ID'].isna())]"
   ]
  },
  {
   "cell_type": "markdown",
   "metadata": {},
   "source": [
    "- 刪掉重複"
   ]
  },
  {
   "cell_type": "code",
   "execution_count": 14,
   "metadata": {},
   "outputs": [],
   "source": [
    "df_matched_2 = df_matched [df_matched['ED_match']==1].reset_index(drop=True)\n",
    "\n",
    "df_matched_2 = df_matched_2.sort_values(by=['Sample_ID',  'delta_CBC_ED_Time'], ascending=True)\n",
    "\n",
    "\n",
    "#duplicate_rows = df_CMUH_whole_3.loc[df_CMUH_whole_3.duplicated(subset=['Sample_ID', 'Report_Time'], keep=False), ['Sample_ID', 'Report_Time', 'ED_Time', 'delta_CBC_ED_Time']]\n",
    "df_matched_3 = df_matched_2.drop_duplicates(subset='Sample_ID', keep='first').reset_index(drop=True)\n"
   ]
  },
  {
   "cell_type": "code",
   "execution_count": 15,
   "metadata": {},
   "outputs": [],
   "source": [
    "df_notmatched_2 = df_notmatched.drop_duplicates(subset='Sample_ID', keep='first').reset_index(drop=True)\n"
   ]
  },
  {
   "cell_type": "markdown",
   "metadata": {},
   "source": [
    "- 合併回去"
   ]
  },
  {
   "cell_type": "code",
   "execution_count": 16,
   "metadata": {},
   "outputs": [],
   "source": [
    "df_CMUH_whole_3= pd.concat([df_notmatched_2, df_matched_3], axis=0)"
   ]
  },
  {
   "cell_type": "markdown",
   "metadata": {},
   "source": [
    "#### **Formatting**"
   ]
  },
  {
   "cell_type": "code",
   "execution_count": 17,
   "metadata": {},
   "outputs": [
    {
     "name": "stdout",
     "output_type": "stream",
     "text": [
      "SBP has invalid values: [<NA> nan '.' '...' '..']\n",
      "DBP has invalid values: [<NA> nan '.' '...' '..']\n",
      "HR has invalid values: [<NA> nan '.' '...' '..']\n",
      "RR has invalid values: [<NA> nan '.' '0/E']\n",
      "BT has invalid values: [<NA> nan '.']\n",
      "GCS_M has invalid values: [<NA>]\n"
     ]
    }
   ],
   "source": [
    "VS_cols = ['SBP', 'DBP', 'HR', 'RR', 'BT', 'GCS_M']\n",
    "df_CMUH_whole_3.loc[df_CMUH_whole_3['ED_ID'].isna(), VS_cols] = pd.NA\n",
    "\n",
    "for col in VS_cols:\n",
    "    invalid_vals = df_CMUH_whole_3[~df_CMUH_whole_3[col].apply(pd.to_numeric, errors='coerce').notna()][col].unique()\n",
    "    print(f\"{col} has invalid values: {invalid_vals}\")\n",
    "\n",
    "\n",
    "df_CMUH_whole_3[VS_cols] = df_CMUH_whole_3[VS_cols].apply(pd.to_numeric, errors='coerce')"
   ]
  },
  {
   "cell_type": "markdown",
   "metadata": {},
   "source": [
    "- 切割出原本的train and validate set"
   ]
  },
  {
   "cell_type": "code",
   "execution_count": 18,
   "metadata": {},
   "outputs": [],
   "source": [
    "# 設定切割時間點\n",
    "cutoff_date = pd.to_datetime('2022-12-31')\n",
    "\n",
    "# 分成兩個 DataFrame\n",
    "df_2021_final = df_CMUH_whole_3[df_CMUH_whole_3['Report_Time'] <= cutoff_date].reset_index(drop=True)\n",
    "df_2023_final = df_CMUH_whole_3[df_CMUH_whole_3['Report_Time'] > cutoff_date].reset_index(drop=True)\n"
   ]
  },
  {
   "cell_type": "markdown",
   "metadata": {},
   "source": [
    "#### **算出MEWS**"
   ]
  },
  {
   "cell_type": "code",
   "execution_count": 19,
   "metadata": {},
   "outputs": [],
   "source": [
    "df_2021_final.loc[:,'MEWS'] = df_2021_final.apply(calculate_mews, axis=1)\n",
    "df_2023_final.loc[:,'MEWS'] = df_2023_final.apply(calculate_mews, axis=1)"
   ]
  },
  {
   "cell_type": "markdown",
   "metadata": {},
   "source": [
    "#### **算出SIRS**"
   ]
  },
  {
   "cell_type": "code",
   "execution_count": 20,
   "metadata": {},
   "outputs": [],
   "source": [
    "df_2021_final.loc[:,'SIRS'] = df_2021_final.apply(calculate_SIRS, axis=1)\n",
    "df_2023_final.loc[:,'SIRS'] = df_2023_final.apply(calculate_SIRS, axis=1)"
   ]
  },
  {
   "cell_type": "markdown",
   "metadata": {},
   "source": [
    "## **saving**"
   ]
  },
  {
   "cell_type": "code",
   "execution_count": 21,
   "metadata": {},
   "outputs": [
    {
     "data": {
      "text/plain": [
       "'D:\\\\python_code\\\\CPD\\\\GS\\\\data'"
      ]
     },
     "execution_count": 21,
     "metadata": {},
     "output_type": "execute_result"
    }
   ],
   "source": [
    "variable_path"
   ]
  },
  {
   "cell_type": "code",
   "execution_count": 22,
   "metadata": {},
   "outputs": [],
   "source": [
    "df_2021_final.to_csv(rf\"{variable_path}\\CMUH_GS_2021_triage.csv\", encoding= \"utf-8-sig\", index = False)\n",
    "df_2023_final.to_csv(rf\"{variable_path}\\CMUH_GS_2023_triage.csv\", encoding= \"utf-8-sig\", index = False)"
   ]
  }
 ],
 "metadata": {
  "kernelspec": {
   "display_name": "IDA_project",
   "language": "python",
   "name": "python3"
  },
  "language_info": {
   "codemirror_mode": {
    "name": "ipython",
    "version": 3
   },
   "file_extension": ".py",
   "mimetype": "text/x-python",
   "name": "python",
   "nbconvert_exporter": "python",
   "pygments_lexer": "ipython3",
   "version": "3.9.18"
  }
 },
 "nbformat": 4,
 "nbformat_minor": 2
}
