{
 "cells": [
  {
   "cell_type": "markdown",
   "metadata": {},
   "source": [
    "## **Library**"
   ]
  },
  {
   "cell_type": "code",
   "execution_count": 1,
   "metadata": {},
   "outputs": [],
   "source": [
    "# ========= Basic Utilities and System Setup =========\n",
    "import os\n",
    "import sys\n",
    "import time\n",
    "\n",
    "# ========= Data Handling =========\n",
    "import numpy as np\n",
    "import pandas as pd\n",
    "from scipy.stats import uniform, randint\n",
    "\n",
    "# ========= Machine Learning =========\n",
    "from sklearn.model_selection import train_test_split, GroupShuffleSplit\n",
    "from sklearn.metrics import (\n",
    "    confusion_matrix, accuracy_score, f1_score, roc_auc_score,\n",
    "    average_precision_score, roc_curve, precision_recall_curve\n",
    ")\n",
    "from sklearn.preprocessing import label_binarize\n",
    "from sklearn.linear_model import LogisticRegression\n",
    "from catboost import CatBoostClassifier\n",
    "\n",
    "# ========= Tools and Visualization =========\n",
    "from tqdm import tqdm\n",
    "import shap\n",
    "from joblib import dump, load\n",
    "\n",
    "# ========= Custom Modules =========\n",
    "# Add custom module path\n",
    "src_path = os.path.abspath(os.path.join(os.getcwd(), '..', 'src'))\n",
    "sys.path.insert(0, src_path)\n",
    "\n",
    "from config import data_dir, cache_dir, output_dir\n",
    "from model_utils import (\n",
    "    custom_classify,\n",
    "    get_metrics,\n",
    "    PlotConfusionMatrix,\n",
    "    imputer,\n",
    "    scaling,\n",
    ")\n",
    "\n",
    "from compare_auc_delong_xu import delong_roc_test\n"
   ]
  },
  {
   "cell_type": "markdown",
   "metadata": {},
   "source": [
    "## **Settings**"
   ]
  },
  {
   "cell_type": "code",
   "execution_count": 2,
   "metadata": {},
   "outputs": [],
   "source": [
    "random_seed= 564\n",
    "class_weights = {0: 1, 1: 1, 2:1}\n",
    "\"\"\"\n",
    "class_1_threshold= 0.037\n",
    "class_2_threshold= 0.023\n",
    "class_0_threshold= 0.940\n",
    "\"\"\"\n",
    "class_1_threshold= 0.051\n",
    "class_2_threshold= 0.019\n",
    "class_0_threshold= 0.921\n",
    "\n",
    "impute_method = 'mean'\n"
   ]
  },
  {
   "cell_type": "markdown",
   "metadata": {},
   "source": [
    "## **Assign Variables**"
   ]
  },
  {
   "cell_type": "code",
   "execution_count": 24,
   "metadata": {},
   "outputs": [],
   "source": [
    "# Load data \n",
    "data = pd.read_csv(\n",
    "    os.path.join(data_dir, 'CMUH_GS_2021_triage.csv'),\n",
    ")\n",
    "\n",
    "data_test = pd.read_csv(\n",
    "    os.path.join(data_dir, 'CMUH_GS_2023_triage.csv'),\n",
    ")\n",
    "\n",
    "# Load external validation datasets from AN and WMH hospitals\n",
    "data_AN = pd.read_csv(\n",
    "    os.path.join(data_dir, 'AN_GS_2023.csv'),\n",
    ")\n",
    "\n",
    "data_WK = pd.read_csv(\n",
    "    os.path.join(data_dir, 'WK_GS_2023.csv'),\n",
    ")"
   ]
  },
  {
   "cell_type": "code",
   "execution_count": 26,
   "metadata": {},
   "outputs": [],
   "source": [
    "y = data.loc[:,'final_label']\n",
    "x = data.iloc[:,6:93]\n",
    "\n",
    "y_test = data_test.loc[:,'final_label']\n",
    "x_test = data_test.iloc[:,6:93]\n",
    "\n",
    "y_wk = data_WK.loc[:,'final_label']\n",
    "x_wk = data_WK.iloc[:,6:93]\n",
    "\n",
    "y_an = data_AN.loc[:,'final_label']\n",
    "x_an = data_AN.iloc[:,6:93]\n",
    "\n",
    "x_base = data[['SIRS']]\n",
    "x_test_base = data_test[['SIRS']]"
   ]
  },
  {
   "cell_type": "code",
   "execution_count": 5,
   "metadata": {},
   "outputs": [
    {
     "name": "stdout",
     "output_type": "stream",
     "text": [
      "total case: 28503\n",
      "Counts of 0: 25534\n",
      "Counts of 1: 2174\n",
      "Counts of 2: 795\n",
      "Proportion of 2: 2.79%\n",
      "Proportion of 1: 7.63%\n",
      "Proportion of 0: 89.58%\n",
      "total case: 15801\n",
      "Counts of 0: 14387\n",
      "Counts of 1: 997\n",
      "Counts of 2: 417\n",
      "Proportion of 1: 6.31%\n",
      "Proportion of 0: 91.05%\n",
      "Proportion of 2: 2.64%\n",
      "total case: 2632\n",
      "Counts of 0: 2415\n",
      "Counts of 1: 173\n",
      "Counts of 2: 44\n",
      "Proportion of 2: 1.67%\n",
      "Proportion of 1: 6.57%\n",
      "Proportion of 0: 91.76%\n",
      "total case: 3811\n",
      "Counts of 0: 3556\n",
      "Counts of 1: 185\n",
      "Counts of 2: 70\n",
      "Proportion of 2: 1.84%\n",
      "Proportion of 1: 4.85%\n",
      "Proportion of 0: 93.31%\n"
     ]
    }
   ],
   "source": [
    "from collections import Counter\n",
    "\n",
    "for i in [y, y_test, y_wk, y_an] :\n",
    "    element_counts = Counter(i)\n",
    "    total_elements = len(i)\n",
    "    # 打印结果\n",
    "    print(f\"total case: {total_elements}\")\n",
    "    print(\"Counts of 0:\", element_counts[0])\n",
    "    print(\"Counts of 1:\", element_counts[1])\n",
    "    print(\"Counts of 2:\", element_counts[2])\n",
    "\n",
    "\n",
    "    # 计算各个元素的比例\n",
    "    element_proportions = {key: count / total_elements for key, count in element_counts.items()}\n",
    "    \n",
    "    # 打印各个元素的比例\n",
    "    for key, proportion in element_proportions.items():\n",
    "        print(f\"Proportion of {key}: {proportion:.2%}\")\n"
   ]
  },
  {
   "cell_type": "markdown",
   "metadata": {},
   "source": [
    "## **Statistics**"
   ]
  },
  {
   "cell_type": "markdown",
   "metadata": {},
   "source": [
    "#### **Missing rate**"
   ]
  },
  {
   "cell_type": "code",
   "execution_count": 9,
   "metadata": {},
   "outputs": [
    {
     "name": "stdout",
     "output_type": "stream",
     "text": [
      "                Cohort     Variable  Missing Count  Missing %\n",
      "12  Development (CMUH)          MDW           1511       5.30\n",
      "78  Development (CMUH)          SBP           1212       4.25\n",
      "79  Development (CMUH)          DBP           1212       4.25\n",
      "80  Development (CMUH)           HR           1104       3.87\n",
      "19  Development (CMUH)    MN_AL2_EO            698       2.45\n",
      "23  Development (CMUH)      MN_C_EO            698       2.45\n",
      "27  Development (CMUH)   MN_LALS_EO            698       2.45\n",
      "31  Development (CMUH)  MN_LMALS_EO            698       2.45\n",
      "35  Development (CMUH)   MN_MALS_EO            698       2.45\n",
      "39  Development (CMUH)  MN_UMALS_EO            698       2.45\n"
     ]
    }
   ],
   "source": [
    "cohorts = {\n",
    "    'Development (CMUH)': data,\n",
    "    'Internal Test (CMUH)': data_test,\n",
    "    'External (WMH)': data_WK,\n",
    "    'External (ANH)': data_AN\n",
    "}\n",
    "\n",
    "# 計算每個 cohort 中每一欄的 missing 數量與比例\n",
    "missing_summary = []\n",
    "\n",
    "for name, df in cohorts.items():\n",
    "    total = len(df)\n",
    "    missing_count = df.isnull().sum()\n",
    "    missing_percent = (missing_count / total * 100).round(2)\n",
    "    for col in df.columns:\n",
    "        if missing_count[col] > 0:\n",
    "            missing_summary.append({\n",
    "                'Cohort': name,\n",
    "                'Variable': col,\n",
    "                'Missing Count': missing_count[col],\n",
    "                'Missing %': missing_percent[col]\n",
    "            })\n",
    "\n",
    "# 整理為表格\n",
    "missing_df = pd.DataFrame(missing_summary)\n",
    "missing_df = missing_df.sort_values(by=['Cohort', 'Missing %'], ascending=[True, False])\n",
    "\n",
    "# 顯示前幾列\n",
    "print(missing_df.head(10))"
   ]
  },
  {
   "cell_type": "markdown",
   "metadata": {},
   "source": [
    "#### **統計blood culture是在CBC 多久後抽取**"
   ]
  },
  {
   "cell_type": "code",
   "execution_count": 27,
   "metadata": {},
   "outputs": [
    {
     "name": "stdout",
     "output_type": "stream",
     "text": [
      "統計摘要（單位：小時）：\n",
      "count    28503.000000\n",
      "mean        -0.082478\n",
      "std          2.278543\n",
      "min        -11.990278\n",
      "25%         -0.668611\n",
      "50%         -0.440000\n",
      "75%         -0.283611\n",
      "max         11.988611\n",
      "Name: bloodcx_duration_12_1, dtype: float64\n",
      "\n",
      "各時間區間比例：\n",
      "< -6 hr: 197 (0.69%)\n",
      "-6 ~ -2 hr: 822 (2.88%)\n",
      "-2 ~ 0 hr: 24404 (85.62%)\n",
      "0–6 hr: 1937 (6.8%)\n",
      "6–12 hr: 1143 (4.01%)\n",
      "12–24 hr: 0 (0.0%)\n",
      "24–48 hr: 0 (0.0%)\n",
      "48–72 hr: 0 (0.0%)\n",
      ">72 hr: 0 (0.0%)\n"
     ]
    },
    {
     "data": {
      "image/png": "[encoded data removed]",
      "text/plain": [
       "<Figure size 1000x500 with 1 Axes>"
      ]
     },
     "metadata": {},
     "output_type": "display_data"
    },
    {
     "data": {
      "image/png": "[encoded data removed]",
      "text/plain": [
       "<Figure size 800x200 with 1 Axes>"
      ]
     },
     "metadata": {},
     "output_type": "display_data"
    }
   ],
   "source": [
    "import pandas as pd\n",
    "import matplotlib.pyplot as plt\n",
    "\n",
    "# Step 1: 轉換字串為 timedelta，再換算成小時\n",
    "duration_str = data['bloodcx_duration_12_1'].dropna()\n",
    "duration_timedelta = pd.to_timedelta(duration_str, errors='coerce')\n",
    "duration_hours = duration_timedelta.dt.total_seconds() / 3600\n",
    "duration_hours = duration_hours.dropna()\n",
    "\n",
    "# Step 2: 統計摘要\n",
    "summary = duration_hours.describe()\n",
    "print(\"統計摘要（單位：小時）：\")\n",
    "print(summary)\n",
    "\n",
    "# Step 3: 設定分組區間（含負值細分）\n",
    "bins = [-float('inf'), -6, -2, 0, 6, 12, 24, 48, 72, float('inf')]\n",
    "labels = ['< -6 hr', '-6 ~ -2 hr', '-2 ~ 0 hr', '0–6 hr', '6–12 hr', '12–24 hr', '24–48 hr', '48–72 hr', '>72 hr']\n",
    "\n",
    "# Step 4: 分組統計\n",
    "duration_groups = pd.cut(duration_hours, bins=bins, labels=labels, include_lowest=True)\n",
    "group_counts = duration_groups.value_counts().sort_index()\n",
    "group_percent = (group_counts / len(duration_hours) * 100).round(2)\n",
    "\n",
    "print(\"\\n各時間區間比例：\")\n",
    "for label in labels:\n",
    "    print(f\"{label}: {group_counts[label]} ({group_percent[label]}%)\")\n",
    "\n",
    "# Step 5: 繪圖\n",
    "# 直方圖\n",
    "plt.figure(figsize=(10, 5))\n",
    "plt.hist(duration_hours, bins=60, edgecolor='black')\n",
    "plt.title('Distribution of bloodcx_duration_12_1 (in hours)')\n",
    "plt.xlabel('Duration (hr)')\n",
    "plt.ylabel('Count')\n",
    "plt.grid(True)\n",
    "plt.show()\n",
    "\n",
    "# 箱型圖\n",
    "plt.figure(figsize=(8, 2))\n",
    "plt.boxplot(duration_hours, vert=False)\n",
    "plt.title('Boxplot of bloodcx_duration_12_1 (in hours)')\n",
    "plt.xlabel('Duration (hr)')\n",
    "plt.grid(True)\n",
    "plt.show()\n"
   ]
  },
  {
   "cell_type": "markdown",
   "metadata": {},
   "source": [
    "> CBC是用report time, blood culture 適用Draw time, 本身時間就差了一點"
   ]
  },
  {
   "cell_type": "markdown",
   "metadata": {},
   "source": [
    "#### **Comorbidity**"
   ]
  },
  {
   "cell_type": "code",
   "execution_count": 35,
   "metadata": {},
   "outputs": [
    {
     "data": {
      "application/vnd.microsoft.datawrangler.viewer.v0+json": {
       "columns": [
        {
         "name": "index",
         "rawType": "int64",
         "type": "integer"
        },
        {
         "name": "CAD",
         "rawType": "object",
         "type": "unknown"
        }
       ],
       "ref": "51f50bed-d574-4247-b29b-5ab6e9ff0dfe",
       "rows": [
        [
         "0",
         null
        ],
        [
         "1",
         null
        ],
        [
         "2",
         null
        ],
        [
         "3",
         null
        ],
        [
         "4",
         "False"
        ],
        [
         "5",
         null
        ],
        [
         "6",
         "False"
        ],
        [
         "7",
         "False"
        ],
        [
         "8",
         null
        ],
        [
         "9",
         "False"
        ],
        [
         "10",
         "False"
        ],
        [
         "11",
         "False"
        ],
        [
         "12",
         null
        ],
        [
         "13",
         "False"
        ],
        [
         "14",
         "False"
        ],
        [
         "15",
         "False"
        ],
        [
         "16",
         "False"
        ],
        [
         "17",
         "False"
        ],
        [
         "18",
         null
        ],
        [
         "19",
         null
        ],
        [
         "20",
         null
        ],
        [
         "21",
         "False"
        ],
        [
         "22",
         "False"
        ],
        [
         "23",
         null
        ],
        [
         "24",
         "False"
        ],
        [
         "25",
         null
        ],
        [
         "26",
         null
        ],
        [
         "27",
         "False"
        ],
        [
         "28",
         "False"
        ],
        [
         "29",
         "False"
        ],
        [
         "30",
         "False"
        ],
        [
         "31",
         "False"
        ],
        [
         "32",
         null
        ],
        [
         "33",
         null
        ],
        [
         "34",
         null
        ],
        [
         "35",
         null
        ],
        [
         "36",
         null
        ],
        [
         "37",
         null
        ],
        [
         "38",
         "False"
        ],
        [
         "39",
         "False"
        ],
        [
         "40",
         "False"
        ],
        [
         "41",
         "False"
        ],
        [
         "42",
         "False"
        ],
        [
         "43",
         "False"
        ],
        [
         "44",
         "False"
        ],
        [
         "45",
         "False"
        ],
        [
         "46",
         "False"
        ],
        [
         "47",
         "False"
        ],
        [
         "48",
         "False"
        ],
        [
         "49",
         "False"
        ]
       ],
       "shape": {
        "columns": 1,
        "rows": 15801
       }
      },
      "text/plain": [
       "0          NaN\n",
       "1          NaN\n",
       "2          NaN\n",
       "3          NaN\n",
       "4        False\n",
       "         ...  \n",
       "15796    False\n",
       "15797    False\n",
       "15798    False\n",
       "15799    False\n",
       "15800    False\n",
       "Name: CAD, Length: 15801, dtype: object"
      ]
     },
     "execution_count": 35,
     "metadata": {},
     "output_type": "execute_result"
    }
   ],
   "source": [
    "data_test['CAD']"
   ]
  },
  {
   "cell_type": "code",
   "execution_count": 33,
   "metadata": {},
   "outputs": [
    {
     "name": "stdout",
     "output_type": "stream",
     "text": [
      "DM\n",
      "HTN\n",
      "Liver_Cirrhosis\n",
      "COPD\n",
      "ESRD\n",
      "HIV\n",
      "Cancer\n",
      "Heart_Disease\n",
      "CAD\n"
     ]
    }
   ],
   "source": [
    "# 定義 comorbidities 的 pattern 字典\n",
    "comorbidity_patterns = {\n",
    "    'DM': r'\\b(?:T2DM|DM|D/M|Diabetes|糖尿病)[\\s,，]?',\n",
    "    'HTN':  r'(?<!pulmonary\\s)\\b(?:HTN|H/T|Hypertension|高血壓)[\\s,，]?',\n",
    "    'Liver_Cirrhosis': r'\\b(?:L/C|liver cirrhosis|肝硬化)[\\s,，]?',\n",
    "    'COPD': r'\\b(?:COPD|阻塞性肺病)[\\s,，]?',\n",
    "    'ESRD': r'(?:\\b(?:ESRD|H/D|P/D|HD|PD)\\b|洗腎|透析|末期腎衰竭)',\n",
    "    'HIV': r'\\b(?:HIV|AIDS|愛滋)[\\s,，]?',\n",
    "    'Cancer': r'(?:cancer|leukemia|lymphoma|惡性腫瘤|癌)',\n",
    "    'Heart_Disease': r'\\b(?:heart disease)[\\s,，]?',\n",
    "    'CAD': r'\\b(?:CAD|心肌梗塞|STEMI|冠狀動脈)[\\s,，]?'\n",
    "}\n",
    "\n",
    "\n",
    "# 自動產生布林欄位\n",
    "for label, pattern in comorbidity_patterns.items():\n",
    "    print(f\"{label}\")\n",
    "    col_name = f'{label}'\n",
    "    data_test[col_name] = data_test['Past_history'].str.contains(pattern, case=False, regex=True)\n"
   ]
  },
  {
   "cell_type": "code",
   "execution_count": 42,
   "metadata": {},
   "outputs": [
    {
     "name": "stdout",
     "output_type": "stream",
     "text": [
      "DM\n",
      "HTN\n",
      "Liver_Cirrhosis\n",
      "COPD\n",
      "ESRD\n",
      "HIV\n",
      "Cancer\n",
      "Heart_Disease\n",
      "CAD\n"
     ]
    },
    {
     "data": {
      "application/vnd.microsoft.datawrangler.viewer.v0+json": {
       "columns": [
        {
         "name": "index",
         "rawType": "int64",
         "type": "integer"
        },
        {
         "name": "Comorbidity",
         "rawType": "object",
         "type": "string"
        },
        {
         "name": "True_Count",
         "rawType": "int64",
         "type": "integer"
        },
        {
         "name": "Percentage",
         "rawType": "object",
         "type": "string"
        }
       ],
       "ref": "da8a5701-c138-4687-aa65-3b3c4b35f9b6",
       "rows": [
        [
         "0",
         "HTN",
         "5046",
         "31.9%"
        ],
        [
         "1",
         "DM",
         "3629",
         "23.0%"
        ],
        [
         "2",
         "Cancer",
         "2312",
         "14.6%"
        ],
        [
         "3",
         "Heart_Disease",
         "2092",
         "13.2%"
        ],
        [
         "4",
         "ESRD",
         "787",
         "5.0%"
        ],
        [
         "5",
         "CAD",
         "452",
         "2.9%"
        ],
        [
         "6",
         "Liver_Cirrhosis",
         "176",
         "1.1%"
        ],
        [
         "7",
         "HIV",
         "47",
         "0.3%"
        ],
        [
         "8",
         "COPD",
         "46",
         "0.3%"
        ]
       ],
       "shape": {
        "columns": 3,
        "rows": 9
       }
      },
      "text/html": [
       "<div>\n",
       "<style scoped>\n",
       "    .dataframe tbody tr th:only-of-type {\n",
       "        vertical-align: middle;\n",
       "    }\n",
       "\n",
       "    .dataframe tbody tr th {\n",
       "        vertical-align: top;\n",
       "    }\n",
       "\n",
       "    .dataframe thead th {\n",
       "        text-align: right;\n",
       "    }\n",
       "</style>\n",
       "<table border=\"1\" class=\"dataframe\">\n",
       "  <thead>\n",
       "    <tr style=\"text-align: right;\">\n",
       "      <th></th>\n",
       "      <th>Comorbidity</th>\n",
       "      <th>True_Count</th>\n",
       "      <th>Percentage</th>\n",
       "    </tr>\n",
       "  </thead>\n",
       "  <tbody>\n",
       "    <tr>\n",
       "      <th>0</th>\n",
       "      <td>HTN</td>\n",
       "      <td>5046</td>\n",
       "      <td>31.9%</td>\n",
       "    </tr>\n",
       "    <tr>\n",
       "      <th>1</th>\n",
       "      <td>DM</td>\n",
       "      <td>3629</td>\n",
       "      <td>23.0%</td>\n",
       "    </tr>\n",
       "    <tr>\n",
       "      <th>2</th>\n",
       "      <td>Cancer</td>\n",
       "      <td>2312</td>\n",
       "      <td>14.6%</td>\n",
       "    </tr>\n",
       "    <tr>\n",
       "      <th>3</th>\n",
       "      <td>Heart_Disease</td>\n",
       "      <td>2092</td>\n",
       "      <td>13.2%</td>\n",
       "    </tr>\n",
       "    <tr>\n",
       "      <th>4</th>\n",
       "      <td>ESRD</td>\n",
       "      <td>787</td>\n",
       "      <td>5.0%</td>\n",
       "    </tr>\n",
       "    <tr>\n",
       "      <th>5</th>\n",
       "      <td>CAD</td>\n",
       "      <td>452</td>\n",
       "      <td>2.9%</td>\n",
       "    </tr>\n",
       "    <tr>\n",
       "      <th>6</th>\n",
       "      <td>Liver_Cirrhosis</td>\n",
       "      <td>176</td>\n",
       "      <td>1.1%</td>\n",
       "    </tr>\n",
       "    <tr>\n",
       "      <th>7</th>\n",
       "      <td>HIV</td>\n",
       "      <td>47</td>\n",
       "      <td>0.3%</td>\n",
       "    </tr>\n",
       "    <tr>\n",
       "      <th>8</th>\n",
       "      <td>COPD</td>\n",
       "      <td>46</td>\n",
       "      <td>0.3%</td>\n",
       "    </tr>\n",
       "  </tbody>\n",
       "</table>\n",
       "</div>"
      ],
      "text/plain": [
       "       Comorbidity  True_Count Percentage\n",
       "0              HTN        5046      31.9%\n",
       "1               DM        3629      23.0%\n",
       "2           Cancer        2312      14.6%\n",
       "3    Heart_Disease        2092      13.2%\n",
       "4             ESRD         787       5.0%\n",
       "5              CAD         452       2.9%\n",
       "6  Liver_Cirrhosis         176       1.1%\n",
       "7              HIV          47       0.3%\n",
       "8             COPD          46       0.3%"
      ]
     },
     "execution_count": 42,
     "metadata": {},
     "output_type": "execute_result"
    }
   ],
   "source": [
    "# 總樣本數\n",
    "total_rows = len(data_test)\n",
    "\n",
    "# 建立結果儲存表\n",
    "summary = []\n",
    "\n",
    "for label, pattern in comorbidity_patterns.items():\n",
    "    print (label)\n",
    "    col_name = f'{label}'\n",
    "    true_count = data_test[col_name].sum()\n",
    "    percentage = true_count / len(data_test) * 100\n",
    "    summary.append({\n",
    "        'Comorbidity': label,\n",
    "        'True_Count': true_count,\n",
    "        'Percentage': f\"{percentage:.1f}%\"\n",
    "    })\n",
    "\n",
    "# 顯示統計結果表格\n",
    "import pandas as pd\n",
    "summary_df = pd.DataFrame(summary)\n",
    "summary_df = summary_df.sort_values(by='True_Count', ascending=False).reset_index(drop=True)\n",
    "\n",
    "summary_df\n"
   ]
  },
  {
   "cell_type": "code",
   "execution_count": 41,
   "metadata": {},
   "outputs": [
    {
     "data": {
      "application/vnd.microsoft.datawrangler.viewer.v0+json": {
       "columns": [
        {
         "name": "index",
         "rawType": "int64",
         "type": "integer"
        },
        {
         "name": "Past_history",
         "rawType": "object",
         "type": "unknown"
        },
        {
         "name": "HTN",
         "rawType": "object",
         "type": "unknown"
        },
        {
         "name": "DM",
         "rawType": "object",
         "type": "unknown"
        },
        {
         "name": "ESRD",
         "rawType": "object",
         "type": "unknown"
        },
        {
         "name": "Cancer",
         "rawType": "object",
         "type": "unknown"
        }
       ],
       "ref": "677ab562-0226-4229-9fbd-14943a25648a",
       "rows": [
        [
         "0",
         null,
         null,
         null,
         null,
         null
        ],
        [
         "1",
         null,
         null,
         null,
         null,
         null
        ],
        [
         "2",
         null,
         null,
         null,
         null,
         null
        ],
        [
         "3",
         null,
         null,
         null,
         null,
         null
        ],
        [
         "4",
         "護理:liver disease,OP history,其他。 醫囑:其他：as chart。",
         "False",
         "False",
         "False",
         "False"
        ],
        [
         "5",
         null,
         null,
         null,
         null,
         null
        ],
        [
         "6",
         "護理:heart disease,OP history,renal disease。 醫囑:其他：as chart。",
         "False",
         "False",
         "False",
         "False"
        ],
        [
         "7",
         "護理:無。 醫囑:其他：as chart。",
         "False",
         "False",
         "False",
         "False"
        ],
        [
         "8",
         null,
         null,
         null,
         null,
         null
        ],
        [
         "9",
         "護理:OP history。 醫囑:無。",
         "False",
         "False",
         "False",
         "False"
        ],
        [
         "10",
         "護理:DM,H/T,其他。 醫囑:高血壓。。。。糖尿病。",
         "True",
         "True",
         "False",
         "False"
        ],
        [
         "11",
         "護理:H/T,heart disease。 醫囑:無。",
         "True",
         "False",
         "False",
         "False"
        ],
        [
         "12",
         null,
         null,
         null,
         null,
         null
        ],
        [
         "13",
         "護理:無。 醫囑:無。",
         "False",
         "False",
         "False",
         "False"
        ],
        [
         "14",
         "護理:無。 醫囑:其他：as chart。",
         "False",
         "False",
         "False",
         "False"
        ],
        [
         "15",
         "護理:H/T,其他。 醫囑:無。",
         "True",
         "False",
         "False",
         "False"
        ],
        [
         "16",
         "護理:Cancer disease。 醫囑:無。",
         "False",
         "False",
         "False",
         "True"
        ],
        [
         "17",
         "護理:H/T,Lung disease,Cancer disease,其他。 醫囑:無。",
         "True",
         "False",
         "False",
         "True"
        ],
        [
         "18",
         null,
         null,
         null,
         null,
         null
        ],
        [
         "19",
         null,
         null,
         null,
         null,
         null
        ],
        [
         "20",
         null,
         null,
         null,
         null,
         null
        ],
        [
         "21",
         "護理:其他。 醫囑:其他：as chart。",
         "False",
         "False",
         "False",
         "False"
        ],
        [
         "22",
         "護理:H/T。 醫囑:高血壓。。。。。。無。",
         "True",
         "False",
         "False",
         "False"
        ],
        [
         "23",
         null,
         null,
         null,
         null,
         null
        ],
        [
         "24",
         "護理:DM,H/T。 醫囑:糖尿病。",
         "True",
         "True",
         "False",
         "False"
        ],
        [
         "25",
         null,
         null,
         null,
         null,
         null
        ],
        [
         "26",
         null,
         null,
         null,
         null,
         null
        ],
        [
         "27",
         "護理:H/T。 醫囑:其他：as chart。",
         "True",
         "False",
         "False",
         "False"
        ],
        [
         "28",
         "護理:無。 醫囑:其他：SLE。",
         "False",
         "False",
         "False",
         "False"
        ],
        [
         "29",
         "護理:無。 醫囑:無。",
         "False",
         "False",
         "False",
         "False"
        ],
        [
         "30",
         "護理:heart disease。 醫囑:",
         "False",
         "False",
         "False",
         "False"
        ],
        [
         "31",
         "護理:其他。 醫囑:無。",
         "False",
         "False",
         "False",
         "False"
        ],
        [
         "32",
         null,
         null,
         null,
         null,
         null
        ],
        [
         "33",
         null,
         null,
         null,
         null,
         null
        ],
        [
         "34",
         null,
         null,
         null,
         null,
         null
        ],
        [
         "35",
         null,
         null,
         null,
         null,
         null
        ],
        [
         "36",
         null,
         null,
         null,
         null,
         null
        ],
        [
         "37",
         null,
         null,
         null,
         null,
         null
        ],
        [
         "38",
         "護理:DM,H/T,heart disease。 醫囑:其他：as chart。",
         "True",
         "True",
         "False",
         "False"
        ],
        [
         "39",
         "護理: 醫囑:無。",
         "False",
         "False",
         "False",
         "False"
        ],
        [
         "40",
         "護理:其他。 醫囑:其他：thalassemia。",
         "False",
         "False",
         "False",
         "False"
        ],
        [
         "41",
         "護理:其他。 醫囑:其他：heroin abuser。",
         "False",
         "False",
         "False",
         "False"
        ],
        [
         "42",
         "護理:無。 醫囑:無。",
         "False",
         "False",
         "False",
         "False"
        ],
        [
         "43",
         "護理:liver disease。 醫囑:肝硬化。",
         "False",
         "False",
         "False",
         "False"
        ],
        [
         "44",
         "護理:liver disease,其他。 醫囑:慢性肝炎。其他：BPH。",
         "False",
         "False",
         "False",
         "False"
        ],
        [
         "45",
         "護理:DM,H/T。 醫囑:癌症。其他：肝惡性腫瘤, 明示。為原發性者。",
         "True",
         "True",
         "False",
         "True"
        ],
        [
         "46",
         "護理:liver disease。 醫囑:肝硬化。",
         "False",
         "False",
         "False",
         "False"
        ],
        [
         "47",
         "護理:其他。 醫囑:其他：as above。",
         "False",
         "False",
         "False",
         "False"
        ],
        [
         "48",
         "護理:無。 醫囑:無。",
         "False",
         "False",
         "False",
         "False"
        ],
        [
         "49",
         "護理:無。 醫囑:無。",
         "False",
         "False",
         "False",
         "False"
        ]
       ],
       "shape": {
        "columns": 5,
        "rows": 15801
       }
      },
      "text/html": [
       "<div>\n",
       "<style scoped>\n",
       "    .dataframe tbody tr th:only-of-type {\n",
       "        vertical-align: middle;\n",
       "    }\n",
       "\n",
       "    .dataframe tbody tr th {\n",
       "        vertical-align: top;\n",
       "    }\n",
       "\n",
       "    .dataframe thead th {\n",
       "        text-align: right;\n",
       "    }\n",
       "</style>\n",
       "<table border=\"1\" class=\"dataframe\">\n",
       "  <thead>\n",
       "    <tr style=\"text-align: right;\">\n",
       "      <th></th>\n",
       "      <th>Past_history</th>\n",
       "      <th>HTN</th>\n",
       "      <th>DM</th>\n",
       "      <th>ESRD</th>\n",
       "      <th>Cancer</th>\n",
       "    </tr>\n",
       "  </thead>\n",
       "  <tbody>\n",
       "    <tr>\n",
       "      <th>0</th>\n",
       "      <td>NaN</td>\n",
       "      <td>NaN</td>\n",
       "      <td>NaN</td>\n",
       "      <td>NaN</td>\n",
       "      <td>NaN</td>\n",
       "    </tr>\n",
       "    <tr>\n",
       "      <th>1</th>\n",
       "      <td>NaN</td>\n",
       "      <td>NaN</td>\n",
       "      <td>NaN</td>\n",
       "      <td>NaN</td>\n",
       "      <td>NaN</td>\n",
       "    </tr>\n",
       "    <tr>\n",
       "      <th>2</th>\n",
       "      <td>NaN</td>\n",
       "      <td>NaN</td>\n",
       "      <td>NaN</td>\n",
       "      <td>NaN</td>\n",
       "      <td>NaN</td>\n",
       "    </tr>\n",
       "    <tr>\n",
       "      <th>3</th>\n",
       "      <td>NaN</td>\n",
       "      <td>NaN</td>\n",
       "      <td>NaN</td>\n",
       "      <td>NaN</td>\n",
       "      <td>NaN</td>\n",
       "    </tr>\n",
       "    <tr>\n",
       "      <th>4</th>\n",
       "      <td>護理:liver disease,OP history,其他。 醫囑:其他：as chart。</td>\n",
       "      <td>False</td>\n",
       "      <td>False</td>\n",
       "      <td>False</td>\n",
       "      <td>False</td>\n",
       "    </tr>\n",
       "    <tr>\n",
       "      <th>...</th>\n",
       "      <td>...</td>\n",
       "      <td>...</td>\n",
       "      <td>...</td>\n",
       "      <td>...</td>\n",
       "      <td>...</td>\n",
       "    </tr>\n",
       "    <tr>\n",
       "      <th>15796</th>\n",
       "      <td>護理:H/T,heart disease,其他。 醫囑:無。</td>\n",
       "      <td>True</td>\n",
       "      <td>False</td>\n",
       "      <td>False</td>\n",
       "      <td>False</td>\n",
       "    </tr>\n",
       "    <tr>\n",
       "      <th>15797</th>\n",
       "      <td>護理:其他。 醫囑:無。</td>\n",
       "      <td>False</td>\n",
       "      <td>False</td>\n",
       "      <td>False</td>\n",
       "      <td>False</td>\n",
       "    </tr>\n",
       "    <tr>\n",
       "      <th>15798</th>\n",
       "      <td>護理:其他。 醫囑:其他：as chart。</td>\n",
       "      <td>False</td>\n",
       "      <td>False</td>\n",
       "      <td>False</td>\n",
       "      <td>False</td>\n",
       "    </tr>\n",
       "    <tr>\n",
       "      <th>15799</th>\n",
       "      <td>護理:heart disease,Cancer disease,OP history,其他。...</td>\n",
       "      <td>False</td>\n",
       "      <td>False</td>\n",
       "      <td>False</td>\n",
       "      <td>True</td>\n",
       "    </tr>\n",
       "    <tr>\n",
       "      <th>15800</th>\n",
       "      <td>護理:其他。 醫囑:其他：as chart。</td>\n",
       "      <td>False</td>\n",
       "      <td>False</td>\n",
       "      <td>False</td>\n",
       "      <td>False</td>\n",
       "    </tr>\n",
       "  </tbody>\n",
       "</table>\n",
       "<p>15801 rows × 5 columns</p>\n",
       "</div>"
      ],
      "text/plain": [
       "                                            Past_history    HTN     DM   ESRD  \\\n",
       "0                                                    NaN    NaN    NaN    NaN   \n",
       "1                                                    NaN    NaN    NaN    NaN   \n",
       "2                                                    NaN    NaN    NaN    NaN   \n",
       "3                                                    NaN    NaN    NaN    NaN   \n",
       "4        護理:liver disease,OP history,其他。 醫囑:其他：as chart。  False  False  False   \n",
       "...                                                  ...    ...    ...    ...   \n",
       "15796                     護理:H/T,heart disease,其他。 醫囑:無。   True  False  False   \n",
       "15797                                       護理:其他。 醫囑:無。  False  False  False   \n",
       "15798                             護理:其他。 醫囑:其他：as chart。  False  False  False   \n",
       "15799  護理:heart disease,Cancer disease,OP history,其他。...  False  False  False   \n",
       "15800                             護理:其他。 醫囑:其他：as chart。  False  False  False   \n",
       "\n",
       "      Cancer  \n",
       "0        NaN  \n",
       "1        NaN  \n",
       "2        NaN  \n",
       "3        NaN  \n",
       "4      False  \n",
       "...      ...  \n",
       "15796  False  \n",
       "15797  False  \n",
       "15798  False  \n",
       "15799   True  \n",
       "15800  False  \n",
       "\n",
       "[15801 rows x 5 columns]"
      ]
     },
     "execution_count": 41,
     "metadata": {},
     "output_type": "execute_result"
    }
   ],
   "source": [
    "check = data_test[[\"Past_history\",\"HTN\", \"DM\", \"ESRD\", \"Cancer\"]]\n",
    "check"
   ]
  },
  {
   "cell_type": "markdown",
   "metadata": {},
   "source": [
    "#### **統計菌種**"
   ]
  },
  {
   "cell_type": "code",
   "execution_count": 102,
   "metadata": {},
   "outputs": [
    {
     "data": {
      "application/vnd.microsoft.datawrangler.viewer.v0+json": {
       "columns": [
        {
         "name": "index",
         "rawType": "int64",
         "type": "integer"
        },
        {
         "name": "bac",
         "rawType": "object",
         "type": "string"
        },
        {
         "name": "count",
         "rawType": "int64",
         "type": "integer"
        },
        {
         "name": "accuracy",
         "rawType": "float64",
         "type": "float"
        },
        {
         "name": "bacteremia_accuracy",
         "rawType": "float64",
         "type": "float"
        }
       ],
       "ref": "57b69613-d67b-4d30-8a05-f766a9877eac",
       "rows": [
        [
         "0",
         "Achromobacter xylosoxidans",
         "2",
         "0.5",
         "1.0"
        ],
        [
         "1",
         "Acinetobacter baumannii",
         "10",
         "0.4",
         "1.0"
        ],
        [
         "2",
         "Acinetobacter baumannii/calcoaceticus complex",
         "2",
         "1.0",
         "1.0"
        ],
        [
         "3",
         "Acinetobacter junii",
         "1",
         "0.0",
         "1.0"
        ],
        [
         "4",
         "Acinetobacter lwoffii",
         "2",
         "1.0",
         "1.0"
        ],
        [
         "5",
         "Acinetobacter nosocomialis",
         "2",
         "0.5",
         "1.0"
        ],
        [
         "6",
         "Acinetobacter pittii",
         "1",
         "0.0",
         "0.0"
        ],
        [
         "7",
         "Acinetobacter radioresistens",
         "1",
         "0.0",
         "0.0"
        ],
        [
         "8",
         "Acinetobacter spp.",
         "1",
         "0.0",
         "0.0"
        ],
        [
         "9",
         "Acinetobacter ursingii",
         "1",
         "0.0",
         "0.0"
        ],
        [
         "10",
         "Aeromonas spp.",
         "12",
         "0.8333333333333334",
         "1.0"
        ],
        [
         "11",
         "Aggregatibacter actinomycetemcomitans",
         "1",
         "1.0",
         "1.0"
        ],
        [
         "12",
         "Aggregatibacter segnis",
         "1",
         "0.0",
         "1.0"
        ],
        [
         "13",
         "Alistipes onderdonkii",
         "1",
         "0.0",
         "0.0"
        ],
        [
         "14",
         "Bacteroides fragilis",
         "13",
         "0.7692307692307693",
         "0.8461538461538461"
        ],
        [
         "15",
         "Bacteroides ovatus",
         "2",
         "0.5",
         "1.0"
        ],
        [
         "16",
         "Bacteroides salyersiae",
         "1",
         "0.0",
         "0.0"
        ],
        [
         "17",
         "Bacteroides spp.",
         "1",
         "1.0",
         "1.0"
        ],
        [
         "18",
         "Bacteroides thetaiotaomicron",
         "3",
         "0.6666666666666666",
         "0.6666666666666666"
        ],
        [
         "19",
         "Bacteroides uniformis",
         "1",
         "1.0",
         "1.0"
        ],
        [
         "20",
         "Bacteroides vulgatus",
         "3",
         "0.6666666666666666",
         "0.6666666666666666"
        ],
        [
         "21",
         "Bilophila spp.",
         "1",
         "1.0",
         "1.0"
        ],
        [
         "22",
         "Brevundimonas vesicularis",
         "1",
         "0.0",
         "0.0"
        ],
        [
         "23",
         "Burkholderia cepacia",
         "2",
         "0.0",
         "1.0"
        ],
        [
         "24",
         "Burkholderia pseudomallei",
         "2",
         "0.5",
         "1.0"
        ],
        [
         "25",
         "Campylobacter fetus",
         "1",
         "0.0",
         "1.0"
        ],
        [
         "26",
         "Campylobacter spp.",
         "3",
         "0.3333333333333333",
         "0.6666666666666666"
        ],
        [
         "27",
         "Chryseobacterium arthrosphaerae",
         "1",
         "0.0",
         "1.0"
        ],
        [
         "28",
         "Chryseobacterium pallidum",
         "1",
         "0.0",
         "1.0"
        ],
        [
         "29",
         "Citrobacter freundii",
         "3",
         "1.0",
         "1.0"
        ],
        [
         "30",
         "Citrobacter koseri",
         "13",
         "0.7692307692307693",
         "0.7692307692307693"
        ],
        [
         "31",
         "Comamonas kerstersii",
         "1",
         "1.0",
         "1.0"
        ],
        [
         "32",
         "Corynebacterium striatum",
         "2",
         "0.5",
         "1.0"
        ],
        [
         "33",
         "Desulfovibrio desulfuricans",
         "1",
         "1.0",
         "1.0"
        ],
        [
         "34",
         "Eikenella corrodens",
         "1",
         "0.0",
         "0.0"
        ],
        [
         "35",
         "Elizabethkingia anophelis",
         "1",
         "1.0",
         "1.0"
        ],
        [
         "36",
         "Elizabethkingia meningoseptica",
         "2",
         "1.0",
         "1.0"
        ],
        [
         "37",
         "Empedobacter brevis",
         "1",
         "1.0",
         "1.0"
        ],
        [
         "38",
         "Enterobacter bugandensis",
         "3",
         "0.6666666666666666",
         "0.6666666666666666"
        ],
        [
         "39",
         "Enterobacter cloacae",
         "3",
         "0.6666666666666666",
         "1.0"
        ],
        [
         "40",
         "Enterobacter cloacae complex",
         "20",
         "0.75",
         "0.9"
        ],
        [
         "41",
         "Enterobacter xiangfangensis",
         "1",
         "0.0",
         "1.0"
        ],
        [
         "42",
         "Escherichia coli",
         "558",
         "0.8010752688172043",
         "0.9444444444444444"
        ],
        [
         "43",
         "Fusobacterium necrophorum",
         "1",
         "1.0",
         "1.0"
        ],
        [
         "44",
         "Fusobacterium nucleatum",
         "2",
         "0.5",
         "1.0"
        ],
        [
         "45",
         "Fusobacterium spp.",
         "4",
         "0.25",
         "0.5"
        ],
        [
         "46",
         "Gram Negative Bacilli",
         "3",
         "0.6666666666666666",
         "0.6666666666666666"
        ],
        [
         "47",
         "Haemophilus influenzae",
         "1",
         "1.0",
         "1.0"
        ],
        [
         "48",
         "Haemophilus parainfluenzae",
         "1",
         "0.0",
         "0.0"
        ],
        [
         "49",
         "Klebsiella aerogenes",
         "5",
         "0.4",
         "1.0"
        ]
       ],
       "shape": {
        "columns": 4,
        "rows": 107
       }
      },
      "text/html": [
       "<div>\n",
       "<style scoped>\n",
       "    .dataframe tbody tr th:only-of-type {\n",
       "        vertical-align: middle;\n",
       "    }\n",
       "\n",
       "    .dataframe tbody tr th {\n",
       "        vertical-align: top;\n",
       "    }\n",
       "\n",
       "    .dataframe thead th {\n",
       "        text-align: right;\n",
       "    }\n",
       "</style>\n",
       "<table border=\"1\" class=\"dataframe\">\n",
       "  <thead>\n",
       "    <tr style=\"text-align: right;\">\n",
       "      <th></th>\n",
       "      <th>bac</th>\n",
       "      <th>count</th>\n",
       "      <th>accuracy</th>\n",
       "      <th>bacteremia_accuracy</th>\n",
       "    </tr>\n",
       "  </thead>\n",
       "  <tbody>\n",
       "    <tr>\n",
       "      <th>0</th>\n",
       "      <td>Achromobacter xylosoxidans</td>\n",
       "      <td>2</td>\n",
       "      <td>0.5</td>\n",
       "      <td>1.0</td>\n",
       "    </tr>\n",
       "    <tr>\n",
       "      <th>1</th>\n",
       "      <td>Acinetobacter baumannii</td>\n",
       "      <td>10</td>\n",
       "      <td>0.4</td>\n",
       "      <td>1.0</td>\n",
       "    </tr>\n",
       "    <tr>\n",
       "      <th>2</th>\n",
       "      <td>Acinetobacter baumannii/calcoaceticus complex</td>\n",
       "      <td>2</td>\n",
       "      <td>1.0</td>\n",
       "      <td>1.0</td>\n",
       "    </tr>\n",
       "    <tr>\n",
       "      <th>3</th>\n",
       "      <td>Acinetobacter junii</td>\n",
       "      <td>1</td>\n",
       "      <td>0.0</td>\n",
       "      <td>1.0</td>\n",
       "    </tr>\n",
       "    <tr>\n",
       "      <th>4</th>\n",
       "      <td>Acinetobacter lwoffii</td>\n",
       "      <td>2</td>\n",
       "      <td>1.0</td>\n",
       "      <td>1.0</td>\n",
       "    </tr>\n",
       "    <tr>\n",
       "      <th>...</th>\n",
       "      <td>...</td>\n",
       "      <td>...</td>\n",
       "      <td>...</td>\n",
       "      <td>...</td>\n",
       "    </tr>\n",
       "    <tr>\n",
       "      <th>102</th>\n",
       "      <td>Streptococcus anginosus</td>\n",
       "      <td>2</td>\n",
       "      <td>1.0</td>\n",
       "      <td>1.0</td>\n",
       "    </tr>\n",
       "    <tr>\n",
       "      <th>103</th>\n",
       "      <td>Streptococcus constellatus</td>\n",
       "      <td>2</td>\n",
       "      <td>1.0</td>\n",
       "      <td>1.0</td>\n",
       "    </tr>\n",
       "    <tr>\n",
       "      <th>104</th>\n",
       "      <td>Streptococcus mitis group</td>\n",
       "      <td>1</td>\n",
       "      <td>1.0</td>\n",
       "      <td>1.0</td>\n",
       "    </tr>\n",
       "    <tr>\n",
       "      <th>105</th>\n",
       "      <td>Streptococcus oralis</td>\n",
       "      <td>1</td>\n",
       "      <td>1.0</td>\n",
       "      <td>1.0</td>\n",
       "    </tr>\n",
       "    <tr>\n",
       "      <th>106</th>\n",
       "      <td>Veillonella parvula</td>\n",
       "      <td>2</td>\n",
       "      <td>0.0</td>\n",
       "      <td>0.5</td>\n",
       "    </tr>\n",
       "  </tbody>\n",
       "</table>\n",
       "<p>107 rows × 4 columns</p>\n",
       "</div>"
      ],
      "text/plain": [
       "                                               bac  count  accuracy  \\\n",
       "0                       Achromobacter xylosoxidans      2       0.5   \n",
       "1                          Acinetobacter baumannii     10       0.4   \n",
       "2    Acinetobacter baumannii/calcoaceticus complex      2       1.0   \n",
       "3                              Acinetobacter junii      1       0.0   \n",
       "4                            Acinetobacter lwoffii      2       1.0   \n",
       "..                                             ...    ...       ...   \n",
       "102                        Streptococcus anginosus      2       1.0   \n",
       "103                     Streptococcus constellatus      2       1.0   \n",
       "104                      Streptococcus mitis group      1       1.0   \n",
       "105                           Streptococcus oralis      1       1.0   \n",
       "106                            Veillonella parvula      2       0.0   \n",
       "\n",
       "     bacteremia_accuracy  \n",
       "0                    1.0  \n",
       "1                    1.0  \n",
       "2                    1.0  \n",
       "3                    1.0  \n",
       "4                    1.0  \n",
       "..                   ...  \n",
       "102                  1.0  \n",
       "103                  1.0  \n",
       "104                  1.0  \n",
       "105                  1.0  \n",
       "106                  0.5  \n",
       "\n",
       "[107 rows x 4 columns]"
      ]
     },
     "execution_count": 102,
     "metadata": {},
     "output_type": "execute_result"
    }
   ],
   "source": [
    "# 建立結果儲存清單\n",
    "\n",
    "df= data_test.copy()\n",
    "target_class = 1\n",
    "bac_all = []\n",
    "for i in range(1, 9):\n",
    "    sub_label_col = f'bloodcx_36_{i}_sub_label'\n",
    "    if sub_label_col in df.columns:\n",
    "        bac_cols = [f'bloodcx_36_{i}_bac_1', f'bloodcx_36_{i}_bac_2', f'bloodcx_36_{i}_bac_3']\n",
    "        for col in bac_cols:\n",
    "            subset = df[df[sub_label_col] == target_class][['Sample_ID', 'final_label', 'predictions', col]].copy()\n",
    "            subset = subset.rename(columns={col: 'bac'})\n",
    "            bac_all.append(subset)\n",
    "\n",
    "# 合併資料\n",
    "bac_df = pd.concat(bac_all, ignore_index=True)\n",
    "\n",
    "# 去除無效資料\n",
    "bac_df = bac_df[bac_df['bac'].notna()]\n",
    "bac_df = bac_df[~bac_df['bac'].isin(['no bac', '', ' '])]\n",
    "# 同一病患同一菌種只保留一次\n",
    "dedup_df = bac_df.drop_duplicates(subset=['Sample_ID','bac']).reset_index(drop=True)\n",
    "\n",
    "# 計算 match (final_label == predictions)\n",
    "dedup_df.loc[:, 'match'] = dedup_df['final_label'] == dedup_df['predictions']\n",
    "# 計算 bacteremia_match：若 prediction 為 1 或 2 就算正確\n",
    "dedup_df.loc[:, 'bacteremia_match'] = dedup_df['predictions'].isin([1, 2])\n",
    "\n",
    "\n",
    "# 聚合統計\n",
    "summary_df = dedup_df.groupby('bac').agg(\n",
    "    count=('Sample_ID', 'count'),\n",
    "    accuracy=('match', 'mean'),\n",
    "    bacteremia_accuracy=('bacteremia_match', 'mean')\n",
    ").reset_index()\n",
    "\n",
    "# 百分比格式化可選\n",
    "# summary_df['accuracy'] = summary_df['accuracy'] * 100\n",
    "# summary_df['bacteremia_accuracy'] = summary_df['bacteremia_accuracy'] * 100\n",
    "\n",
    "summary_df"
   ]
  },
  {
   "cell_type": "code",
   "execution_count": null,
   "metadata": {},
   "outputs": [
    {
     "data": {
      "application/vnd.microsoft.datawrangler.viewer.v0+json": {
       "columns": [
        {
         "name": "index",
         "rawType": "int64",
         "type": "integer"
        },
        {
         "name": "bac",
         "rawType": "object",
         "type": "string"
        },
        {
         "name": "count",
         "rawType": "int64",
         "type": "integer"
        },
        {
         "name": "accuracy",
         "rawType": "float64",
         "type": "float"
        },
        {
         "name": "bacteremia_accuracy",
         "rawType": "float64",
         "type": "float"
        }
       ],
       "ref": "fe5fc937-0e2c-4eba-a09e-28ce7521d0a3",
       "rows": [
        [
         "0",
         "Achromobacter xylosoxidans",
         "2",
         "0.5",
         "1.0"
        ],
        [
         "1",
         "Acinetobacter baumannii",
         "10",
         "0.4",
         "1.0"
        ],
        [
         "2",
         "Acinetobacter baumannii/calcoaceticus complex",
         "2",
         "1.0",
         "1.0"
        ],
        [
         "3",
         "Acinetobacter junii",
         "1",
         "0.0",
         "1.0"
        ],
        [
         "4",
         "Acinetobacter lwoffii",
         "2",
         "1.0",
         "1.0"
        ],
        [
         "5",
         "Acinetobacter nosocomialis",
         "2",
         "0.5",
         "1.0"
        ],
        [
         "6",
         "Acinetobacter pittii",
         "1",
         "0.0",
         "0.0"
        ],
        [
         "7",
         "Acinetobacter radioresistens",
         "1",
         "0.0",
         "0.0"
        ],
        [
         "8",
         "Acinetobacter spp.",
         "1",
         "0.0",
         "0.0"
        ],
        [
         "9",
         "Acinetobacter ursingii",
         "1",
         "0.0",
         "0.0"
        ],
        [
         "10",
         "Actinomyces georgiae",
         "1",
         "0.0",
         "0.0"
        ],
        [
         "11",
         "Actinomyces naeslundii",
         "1",
         "1.0",
         "1.0"
        ],
        [
         "12",
         "Actinomyces odontolyticus",
         "3",
         "0.3333333333333333",
         "1.0"
        ],
        [
         "13",
         "Actinomyces radingae",
         "1",
         "0.0",
         "0.0"
        ],
        [
         "14",
         "Actinomyces spp.",
         "1",
         "1.0",
         "1.0"
        ],
        [
         "15",
         "Actinomyces turicensis",
         "1",
         "0.0",
         "1.0"
        ],
        [
         "16",
         "Aerococcus spp.",
         "1",
         "0.0",
         "1.0"
        ],
        [
         "17",
         "Aeromonas spp.",
         "12",
         "0.8333333333333334",
         "1.0"
        ],
        [
         "18",
         "Aggregatibacter actinomycetemcomitans",
         "1",
         "1.0",
         "1.0"
        ],
        [
         "19",
         "Aggregatibacter segnis",
         "1",
         "0.0",
         "1.0"
        ],
        [
         "20",
         "Alistipes onderdonkii",
         "1",
         "0.0",
         "0.0"
        ],
        [
         "21",
         "Anaerococcus hydrogenalis",
         "1",
         "0.0",
         "1.0"
        ],
        [
         "22",
         "Anaerococcus sp",
         "1",
         "0.0",
         "0.0"
        ],
        [
         "23",
         "Anaerotruncus colihominis",
         "2",
         "0.0",
         "0.5"
        ],
        [
         "24",
         "Bacillus cereus",
         "11",
         "0.5454545454545454",
         "0.6363636363636364"
        ],
        [
         "25",
         "Bacillus flexus",
         "1",
         "1.0",
         "0.0"
        ],
        [
         "26",
         "Bacillus licheniformis",
         "1",
         "1.0",
         "0.0"
        ],
        [
         "27",
         "Bacillus megaterium",
         "1",
         "0.0",
         "1.0"
        ],
        [
         "28",
         "Bacillus spp.",
         "2",
         "0.5",
         "0.5"
        ],
        [
         "29",
         "Bacillus subtilis",
         "2",
         "1.0",
         "0.0"
        ],
        [
         "30",
         "Bacteroides fragilis",
         "13",
         "0.7692307692307693",
         "0.8461538461538461"
        ],
        [
         "31",
         "Bacteroides ovatus",
         "2",
         "0.5",
         "1.0"
        ],
        [
         "32",
         "Bacteroides salyersiae",
         "1",
         "0.0",
         "0.0"
        ],
        [
         "33",
         "Bacteroides spp.",
         "1",
         "1.0",
         "1.0"
        ],
        [
         "34",
         "Bacteroides thetaiotaomicron",
         "3",
         "0.6666666666666666",
         "0.6666666666666666"
        ],
        [
         "35",
         "Bacteroides uniformis",
         "1",
         "1.0",
         "1.0"
        ],
        [
         "36",
         "Bacteroides vulgatus",
         "3",
         "0.6666666666666666",
         "0.6666666666666666"
        ],
        [
         "37",
         "Bilophila spp.",
         "1",
         "1.0",
         "1.0"
        ],
        [
         "38",
         "Brachybacterium spp",
         "1",
         "1.0",
         "1.0"
        ],
        [
         "39",
         "Brevibacterium casei",
         "4",
         "0.25",
         "0.25"
        ],
        [
         "40",
         "Brevibacterium celere",
         "1",
         "0.0",
         "0.0"
        ],
        [
         "41",
         "Brevundimonas vesicularis",
         "1",
         "0.0",
         "0.0"
        ],
        [
         "42",
         "Burkholderia cepacia",
         "2",
         "0.0",
         "1.0"
        ],
        [
         "43",
         "Burkholderia pseudomallei",
         "2",
         "0.5",
         "1.0"
        ],
        [
         "44",
         "Campylobacter fetus",
         "1",
         "0.0",
         "1.0"
        ],
        [
         "45",
         "Campylobacter spp.",
         "3",
         "0.3333333333333333",
         "0.6666666666666666"
        ],
        [
         "46",
         "Candida albicans",
         "10",
         "0.5",
         "0.7"
        ],
        [
         "47",
         "Candida glabrata",
         "8",
         "0.25",
         "1.0"
        ],
        [
         "48",
         "Candida parapsilosis",
         "1",
         "0.0",
         "1.0"
        ],
        [
         "49",
         "Candida tropicalis",
         "2",
         "0.0",
         "1.0"
        ]
       ],
       "shape": {
        "columns": 4,
        "rows": 208
       }
      },
      "text/html": [
       "<div>\n",
       "<style scoped>\n",
       "    .dataframe tbody tr th:only-of-type {\n",
       "        vertical-align: middle;\n",
       "    }\n",
       "\n",
       "    .dataframe tbody tr th {\n",
       "        vertical-align: top;\n",
       "    }\n",
       "\n",
       "    .dataframe thead th {\n",
       "        text-align: right;\n",
       "    }\n",
       "</style>\n",
       "<table border=\"1\" class=\"dataframe\">\n",
       "  <thead>\n",
       "    <tr style=\"text-align: right;\">\n",
       "      <th></th>\n",
       "      <th>bac</th>\n",
       "      <th>count</th>\n",
       "      <th>accuracy</th>\n",
       "      <th>bacteremia_accuracy</th>\n",
       "    </tr>\n",
       "  </thead>\n",
       "  <tbody>\n",
       "    <tr>\n",
       "      <th>0</th>\n",
       "      <td>Achromobacter xylosoxidans</td>\n",
       "      <td>2</td>\n",
       "      <td>0.5</td>\n",
       "      <td>1.00</td>\n",
       "    </tr>\n",
       "    <tr>\n",
       "      <th>1</th>\n",
       "      <td>Acinetobacter baumannii</td>\n",
       "      <td>10</td>\n",
       "      <td>0.4</td>\n",
       "      <td>1.00</td>\n",
       "    </tr>\n",
       "    <tr>\n",
       "      <th>2</th>\n",
       "      <td>Acinetobacter baumannii/calcoaceticus complex</td>\n",
       "      <td>2</td>\n",
       "      <td>1.0</td>\n",
       "      <td>1.00</td>\n",
       "    </tr>\n",
       "    <tr>\n",
       "      <th>3</th>\n",
       "      <td>Acinetobacter junii</td>\n",
       "      <td>1</td>\n",
       "      <td>0.0</td>\n",
       "      <td>1.00</td>\n",
       "    </tr>\n",
       "    <tr>\n",
       "      <th>4</th>\n",
       "      <td>Acinetobacter lwoffii</td>\n",
       "      <td>2</td>\n",
       "      <td>1.0</td>\n",
       "      <td>1.00</td>\n",
       "    </tr>\n",
       "    <tr>\n",
       "      <th>...</th>\n",
       "      <td>...</td>\n",
       "      <td>...</td>\n",
       "      <td>...</td>\n",
       "      <td>...</td>\n",
       "    </tr>\n",
       "    <tr>\n",
       "      <th>203</th>\n",
       "      <td>Streptococcus salivarius</td>\n",
       "      <td>4</td>\n",
       "      <td>0.5</td>\n",
       "      <td>1.00</td>\n",
       "    </tr>\n",
       "    <tr>\n",
       "      <th>204</th>\n",
       "      <td>Streptococcus sanguinis</td>\n",
       "      <td>4</td>\n",
       "      <td>0.5</td>\n",
       "      <td>0.75</td>\n",
       "    </tr>\n",
       "    <tr>\n",
       "      <th>205</th>\n",
       "      <td>Streptococcus vestibularis</td>\n",
       "      <td>1</td>\n",
       "      <td>0.0</td>\n",
       "      <td>1.00</td>\n",
       "    </tr>\n",
       "    <tr>\n",
       "      <th>206</th>\n",
       "      <td>Trichosporon spp.</td>\n",
       "      <td>1</td>\n",
       "      <td>0.0</td>\n",
       "      <td>1.00</td>\n",
       "    </tr>\n",
       "    <tr>\n",
       "      <th>207</th>\n",
       "      <td>Veillonella parvula</td>\n",
       "      <td>2</td>\n",
       "      <td>0.0</td>\n",
       "      <td>0.50</td>\n",
       "    </tr>\n",
       "  </tbody>\n",
       "</table>\n",
       "<p>208 rows × 4 columns</p>\n",
       "</div>"
      ],
      "text/plain": [
       "                                               bac  count  accuracy  \\\n",
       "0                       Achromobacter xylosoxidans      2       0.5   \n",
       "1                          Acinetobacter baumannii     10       0.4   \n",
       "2    Acinetobacter baumannii/calcoaceticus complex      2       1.0   \n",
       "3                              Acinetobacter junii      1       0.0   \n",
       "4                            Acinetobacter lwoffii      2       1.0   \n",
       "..                                             ...    ...       ...   \n",
       "203                       Streptococcus salivarius      4       0.5   \n",
       "204                        Streptococcus sanguinis      4       0.5   \n",
       "205                     Streptococcus vestibularis      1       0.0   \n",
       "206                              Trichosporon spp.      1       0.0   \n",
       "207                            Veillonella parvula      2       0.0   \n",
       "\n",
       "     bacteremia_accuracy  \n",
       "0                   1.00  \n",
       "1                   1.00  \n",
       "2                   1.00  \n",
       "3                   1.00  \n",
       "4                   1.00  \n",
       "..                   ...  \n",
       "203                 1.00  \n",
       "204                 0.75  \n",
       "205                 1.00  \n",
       "206                 1.00  \n",
       "207                 0.50  \n",
       "\n",
       "[208 rows x 4 columns]"
      ]
     },
     "execution_count": 103,
     "metadata": {},
     "output_type": "execute_result"
    }
   ],
   "source": [
    "# 建立結果儲存清單\n",
    "\n",
    "df= data.copy()\n",
    "target_class = 1\n",
    "bac_all = []\n",
    "for i in range(1, 9):\n",
    "    sub_label_col = f'bloodcx_36_{i}_sub_label'\n",
    "    if sub_label_col in df.columns:\n",
    "        bac_cols = [f'bloodcx_36_{i}_bac_1', f'bloodcx_36_{i}_bac_2', f'bloodcx_36_{i}_bac_3']\n",
    "        for col in bac_cols:\n",
    "            subset = df[df[sub_label_col] != -1][['Sample_ID', 'final_label', 'predictions', col]].copy()\n",
    "            subset = subset.rename(columns={col: 'bac'})\n",
    "            bac_all.append(subset)\n",
    "\n",
    "# 合併資料\n",
    "bac_df = pd.concat(bac_all, ignore_index=True)\n",
    "\n",
    "# 去除無效資料\n",
    "bac_df = bac_df[bac_df['bac'].notna()]\n",
    "bac_df = bac_df[~bac_df['bac'].isin(['no bac', '', ' '])]\n",
    "# 同一病患同一菌種只保留一次\n",
    "dedup_df = bac_df.drop_duplicates(subset=['Sample_ID','bac']).reset_index(drop=True)\n",
    "\n",
    "# 計算 match (final_label == predictions)\n",
    "dedup_df.loc[:, 'match'] = dedup_df['final_label'] == dedup_df['predictions']\n",
    "# 計算 bacteremia_match：若 prediction 為 1 或 2 就算正確\n",
    "dedup_df.loc[:, 'bacteremia_match'] = dedup_df['predictions'].isin([1, 2])\n",
    "\n",
    "\n",
    "# 聚合統計\n",
    "summary_df = dedup_df.groupby('bac').agg(\n",
    "    count=('Sample_ID', 'count'),\n",
    "    accuracy=('match', 'mean'),\n",
    "    bacteremia_accuracy=('bacteremia_match', 'mean')\n",
    ").reset_index()\n",
    "\n",
    "# 百分比格式化可選\n",
    "# summary_df['accuracy'] = summary_df['accuracy'] * 100\n",
    "# summary_df['bacteremia_accuracy'] = summary_df['bacteremia_accuracy'] * 100\n",
    "\n",
    "summary_df"
   ]
  },
  {
   "cell_type": "markdown",
   "metadata": {},
   "source": [
    "## **Start training with all variables**"
   ]
  },
  {
   "cell_type": "code",
   "execution_count": 27,
   "metadata": {},
   "outputs": [],
   "source": [
    "gss = GroupShuffleSplit(n_splits=1, test_size=0.2, random_state=random_seed)\n",
    "train_idx, val_idx = next(gss.split(x, y, groups=data['ID']))\n",
    "\n",
    "x_train, x_val = x.iloc[train_idx], x.iloc[val_idx]\n",
    "y_train, y_val = y.iloc[train_idx], y.iloc[val_idx]\n",
    "\n",
    "y_val_bin = label_binarize(y_val, classes=[0, 1, 2])\n",
    "\n",
    "x_train_imp, m_mean = imputer(x_train, impute_method, train=True)\n",
    "x_train_scale, train_scaler = scaling(x_train_imp, None, train=True)\n",
    "\n",
    "x_val_imp = imputer(x_val, impute_method, False, m_mean)\n",
    "x_val_scale, train_scaler = scaling (x_val_imp, train_scaler, train= False)\n"
   ]
  },
  {
   "cell_type": "markdown",
   "metadata": {},
   "source": [
    "#### **Proposed Catboost model**"
   ]
  },
  {
   "cell_type": "code",
   "execution_count": 28,
   "metadata": {},
   "outputs": [
    {
     "data": {
      "application/vnd.microsoft.datawrangler.viewer.v0+json": {
       "columns": [
        {
         "name": "index",
         "rawType": "object",
         "type": "string"
        },
        {
         "name": "AUROC",
         "rawType": "float64",
         "type": "float"
        },
        {
         "name": "AUPRC",
         "rawType": "float64",
         "type": "float"
        },
        {
         "name": "Accuracy",
         "rawType": "float64",
         "type": "float"
        },
        {
         "name": "F1 Score",
         "rawType": "float64",
         "type": "float"
        },
        {
         "name": "Sensitivity",
         "rawType": "float64",
         "type": "float"
        },
        {
         "name": "Specificity",
         "rawType": "float64",
         "type": "float"
        },
        {
         "name": "PPV",
         "rawType": "float64",
         "type": "float"
        },
        {
         "name": "NPV",
         "rawType": "float64",
         "type": "float"
        }
       ],
       "ref": "4b5e6a08-963c-4232-90a4-c277ad91ec97",
       "rows": [
        [
         "Class 0",
         "0.8448743972303507",
         "0.9747670151108415",
         "0.6990902729181245",
         "0.8022988505747126",
         "0.6832419733750978",
         "0.8322368421052632",
         "0.9716035634743875",
         "0.2382297551789077"
        ],
        [
         "Class 1",
         "0.8582725467889089",
         "0.3970759038458256",
         "0.841147655703289",
         "0.3668061366806137",
         "0.5950226244343891",
         "0.8617747440273038",
         "0.2651209677419355",
         "0.962108382726503"
        ],
        [
         "Class 2",
         "0.7672506241180941",
         "0.09577446843706948",
         "0.7988103568929321",
         "0.1140215716486903",
         "0.4457831325301205",
         "0.8093693693693693",
         "0.06537102473498234",
         "0.9799301919720768"
        ]
       ],
       "shape": {
        "columns": 8,
        "rows": 3
       }
      },
      "text/html": [
       "<div>\n",
       "<style scoped>\n",
       "    .dataframe tbody tr th:only-of-type {\n",
       "        vertical-align: middle;\n",
       "    }\n",
       "\n",
       "    .dataframe tbody tr th {\n",
       "        vertical-align: top;\n",
       "    }\n",
       "\n",
       "    .dataframe thead th {\n",
       "        text-align: right;\n",
       "    }\n",
       "</style>\n",
       "<table border=\"1\" class=\"dataframe\">\n",
       "  <thead>\n",
       "    <tr style=\"text-align: right;\">\n",
       "      <th></th>\n",
       "      <th>AUROC</th>\n",
       "      <th>AUPRC</th>\n",
       "      <th>Accuracy</th>\n",
       "      <th>F1 Score</th>\n",
       "      <th>Sensitivity</th>\n",
       "      <th>Specificity</th>\n",
       "      <th>PPV</th>\n",
       "      <th>NPV</th>\n",
       "    </tr>\n",
       "  </thead>\n",
       "  <tbody>\n",
       "    <tr>\n",
       "      <th>Class 0</th>\n",
       "      <td>0.844874</td>\n",
       "      <td>0.974767</td>\n",
       "      <td>0.699090</td>\n",
       "      <td>0.802299</td>\n",
       "      <td>0.683242</td>\n",
       "      <td>0.832237</td>\n",
       "      <td>0.971604</td>\n",
       "      <td>0.238230</td>\n",
       "    </tr>\n",
       "    <tr>\n",
       "      <th>Class 1</th>\n",
       "      <td>0.858273</td>\n",
       "      <td>0.397076</td>\n",
       "      <td>0.841148</td>\n",
       "      <td>0.366806</td>\n",
       "      <td>0.595023</td>\n",
       "      <td>0.861775</td>\n",
       "      <td>0.265121</td>\n",
       "      <td>0.962108</td>\n",
       "    </tr>\n",
       "    <tr>\n",
       "      <th>Class 2</th>\n",
       "      <td>0.767251</td>\n",
       "      <td>0.095774</td>\n",
       "      <td>0.798810</td>\n",
       "      <td>0.114022</td>\n",
       "      <td>0.445783</td>\n",
       "      <td>0.809369</td>\n",
       "      <td>0.065371</td>\n",
       "      <td>0.979930</td>\n",
       "    </tr>\n",
       "  </tbody>\n",
       "</table>\n",
       "</div>"
      ],
      "text/plain": [
       "            AUROC     AUPRC  Accuracy  F1 Score  Sensitivity  Specificity  \\\n",
       "Class 0  0.844874  0.974767  0.699090  0.802299     0.683242     0.832237   \n",
       "Class 1  0.858273  0.397076  0.841148  0.366806     0.595023     0.861775   \n",
       "Class 2  0.767251  0.095774  0.798810  0.114022     0.445783     0.809369   \n",
       "\n",
       "              PPV       NPV  \n",
       "Class 0  0.971604  0.238230  \n",
       "Class 1  0.265121  0.962108  \n",
       "Class 2  0.065371  0.979930  "
      ]
     },
     "execution_count": 28,
     "metadata": {},
     "output_type": "execute_result"
    }
   ],
   "source": [
    "thresholds = [0.9272343792533552, 0.06422078447989431, 0.022038478123997483]\n",
    "# model fit\n",
    "model= CatBoostClassifier(verbose=False, class_weights=class_weights)\n",
    "model.fit(x_train_scale, y_train)\n",
    "\n",
    "y_prob = model.predict_proba(x_val_scale)\n",
    "y_prob_bin = custom_classify(y_prob, thresholds)\n",
    "y_pred = y_prob_bin.argmax(axis=1)\n",
    "\n",
    "metrics , cm = get_metrics(y_val, y_pred, y_prob)\n",
    "metrics\n"
   ]
  },
  {
   "cell_type": "code",
   "execution_count": 29,
   "metadata": {},
   "outputs": [
    {
     "data": {
      "text/plain": [
       "[0.9272343792533552, 0.06422078447989431, 0.022038478123997483]"
      ]
     },
     "execution_count": 29,
     "metadata": {},
     "output_type": "execute_result"
    }
   ],
   "source": [
    "thresholds"
   ]
  },
  {
   "cell_type": "markdown",
   "metadata": {},
   "source": [
    "#### **baseline model**"
   ]
  },
  {
   "cell_type": "code",
   "execution_count": 19,
   "metadata": {},
   "outputs": [
    {
     "name": "stderr",
     "output_type": "stream",
     "text": [
      "d:\\python_code\\CPD\\GS\\src\\model_utils.py:56: RuntimeWarning: invalid value encountered in longlong_scalars\n",
      "  class_ppv = TP[i] / (TP[i] + FP[i])\n"
     ]
    },
    {
     "data": {
      "application/vnd.microsoft.datawrangler.viewer.v0+json": {
       "columns": [
        {
         "name": "index",
         "rawType": "object",
         "type": "string"
        },
        {
         "name": "AUROC",
         "rawType": "float64",
         "type": "float"
        },
        {
         "name": "AUPRC",
         "rawType": "float64",
         "type": "float"
        },
        {
         "name": "Accuracy",
         "rawType": "float64",
         "type": "float"
        },
        {
         "name": "F1 Score",
         "rawType": "float64",
         "type": "float"
        },
        {
         "name": "Sensitivity",
         "rawType": "float64",
         "type": "float"
        },
        {
         "name": "Specificity",
         "rawType": "float64",
         "type": "float"
        },
        {
         "name": "PPV",
         "rawType": "float64",
         "type": "float"
        },
        {
         "name": "NPV",
         "rawType": "float64",
         "type": "float"
        }
       ],
       "ref": "6eb7abbf-b8f2-41de-baa0-7b59dda0a7da",
       "rows": [
        [
         "Class 0",
         "0.6864839531900424",
         "0.9347458229394291",
         "0.7781665500349895",
         "0.8681912681912682",
         "0.8175411119812059",
         "0.4473684210526316",
         "0.925531914893617",
         "0.22591362126245848"
        ],
        [
         "Class 1",
         "0.6869649540047051",
         "0.1345482420885028",
         "0.7813156053184045",
         "0.24058323207776428",
         "0.4479638009049774",
         "0.8092529389457717",
         "0.1644518272425249",
         "0.9459219858156028"
        ],
        [
         "Class 2",
         "0.6555638771301422",
         "0.051369259568403894",
         "0.9709587123862841",
         "0.0",
         "0.0",
         "1.0",
         null,
         "0.9709587123862841"
        ]
       ],
       "shape": {
        "columns": 8,
        "rows": 3
       }
      },
      "text/html": [
       "<div>\n",
       "<style scoped>\n",
       "    .dataframe tbody tr th:only-of-type {\n",
       "        vertical-align: middle;\n",
       "    }\n",
       "\n",
       "    .dataframe tbody tr th {\n",
       "        vertical-align: top;\n",
       "    }\n",
       "\n",
       "    .dataframe thead th {\n",
       "        text-align: right;\n",
       "    }\n",
       "</style>\n",
       "<table border=\"1\" class=\"dataframe\">\n",
       "  <thead>\n",
       "    <tr style=\"text-align: right;\">\n",
       "      <th></th>\n",
       "      <th>AUROC</th>\n",
       "      <th>AUPRC</th>\n",
       "      <th>Accuracy</th>\n",
       "      <th>F1 Score</th>\n",
       "      <th>Sensitivity</th>\n",
       "      <th>Specificity</th>\n",
       "      <th>PPV</th>\n",
       "      <th>NPV</th>\n",
       "    </tr>\n",
       "  </thead>\n",
       "  <tbody>\n",
       "    <tr>\n",
       "      <th>Class 0</th>\n",
       "      <td>0.686484</td>\n",
       "      <td>0.934746</td>\n",
       "      <td>0.778167</td>\n",
       "      <td>0.868191</td>\n",
       "      <td>0.817541</td>\n",
       "      <td>0.447368</td>\n",
       "      <td>0.925532</td>\n",
       "      <td>0.225914</td>\n",
       "    </tr>\n",
       "    <tr>\n",
       "      <th>Class 1</th>\n",
       "      <td>0.686965</td>\n",
       "      <td>0.134548</td>\n",
       "      <td>0.781316</td>\n",
       "      <td>0.240583</td>\n",
       "      <td>0.447964</td>\n",
       "      <td>0.809253</td>\n",
       "      <td>0.164452</td>\n",
       "      <td>0.945922</td>\n",
       "    </tr>\n",
       "    <tr>\n",
       "      <th>Class 2</th>\n",
       "      <td>0.655564</td>\n",
       "      <td>0.051369</td>\n",
       "      <td>0.970959</td>\n",
       "      <td>0.000000</td>\n",
       "      <td>0.000000</td>\n",
       "      <td>1.000000</td>\n",
       "      <td>NaN</td>\n",
       "      <td>0.970959</td>\n",
       "    </tr>\n",
       "  </tbody>\n",
       "</table>\n",
       "</div>"
      ],
      "text/plain": [
       "            AUROC     AUPRC  Accuracy  F1 Score  Sensitivity  Specificity  \\\n",
       "Class 0  0.686484  0.934746  0.778167  0.868191     0.817541     0.447368   \n",
       "Class 1  0.686965  0.134548  0.781316  0.240583     0.447964     0.809253   \n",
       "Class 2  0.655564  0.051369  0.970959  0.000000     0.000000     1.000000   \n",
       "\n",
       "              PPV       NPV  \n",
       "Class 0  0.925532  0.225914  \n",
       "Class 1  0.164452  0.945922  \n",
       "Class 2       NaN  0.970959  "
      ]
     },
     "execution_count": 19,
     "metadata": {},
     "output_type": "execute_result"
    }
   ],
   "source": [
    "thresholds_base= [0.9328896724591703, 0.08088092642845418, 0.042009236485803694]\n",
    "\n",
    "gss = GroupShuffleSplit(n_splits=1, test_size=0.2, random_state=random_seed)\n",
    "train_idx, val_idx = next(gss.split(x_base, y, groups=data['ID']))\n",
    "\n",
    "x_train_base, x_val_base = x_base.iloc[train_idx], x_base.iloc[val_idx]\n",
    "y_train, y_val = y.iloc[train_idx], y.iloc[val_idx]\n",
    "\n",
    "\n",
    "x_train_base_imp, m_mean = imputer(x_train_base, impute_method, train=True)\n",
    "x_train_base_scale, train_scaler = scaling(x_train_base_imp, None, train=True)\n",
    "\n",
    "# 標準化\n",
    "x_val_base_imp = imputer(x_val_base, impute_method, False, m_mean)\n",
    "x_val_base_scale, train_scaler = scaling (x_val_base_imp, train_scaler, train= False)\n",
    "\n",
    "# Logistic Regression 模型\n",
    "lr_model = LogisticRegression(multi_class='ovr', solver='lbfgs', max_iter=1000)\n",
    "lr_model.fit(x_train_base_scale, y_train)\n",
    "\n",
    "# 預測機率與評估\n",
    "y_prob_base = lr_model.predict_proba(x_val_base_scale)\n",
    "y_prob_bin = custom_classify(y_prob_base, thresholds_base)\n",
    "y_pred_base = y_prob_bin.argmax(axis=1)\n",
    "\n",
    "metrics, cm_model = get_metrics(y_val, y_pred_base, y_prob_base)\n",
    "\n",
    "# 将class_metrics字典转换为DataFrame\n",
    "class_metrics_df = pd.DataFrame(metrics)\n",
    "class_metrics_df\n"
   ]
  },
  {
   "cell_type": "markdown",
   "metadata": {},
   "source": [
    "#### **Find the Best threshold**"
   ]
  },
  {
   "cell_type": "code",
   "execution_count": 20,
   "metadata": {},
   "outputs": [],
   "source": [
    "def find_best_threshold_by_youden(y_true, y_prob):\n",
    "    fpr, tpr, thresholds = roc_curve(y_true, y_prob)\n",
    "    youden_index = tpr - fpr\n",
    "    best_threshold = thresholds[np.argmax(youden_index)]\n",
    "    return best_threshold"
   ]
  },
  {
   "cell_type": "code",
   "execution_count": 21,
   "metadata": {},
   "outputs": [
    {
     "data": {
      "text/plain": [
       "[0.9272343792533552, 0.06422078447989431, 0.022038478123997483]"
      ]
     },
     "execution_count": 21,
     "metadata": {},
     "output_type": "execute_result"
    }
   ],
   "source": [
    "thresholds = []\n",
    "for i in range(3):\n",
    "    y_true_binary = (y_val == i).astype(int)\n",
    "    y_prob_class = y_prob[:, i]\n",
    "    best_thresh = find_best_threshold_by_youden(y_true_binary, y_prob_class)\n",
    "    thresholds.append(best_thresh)\n",
    "\n",
    "thresholds"
   ]
  },
  {
   "cell_type": "code",
   "execution_count": 22,
   "metadata": {},
   "outputs": [
    {
     "data": {
      "text/plain": [
       "[0.9328896724591703, 0.08088092642845418, 0.042009236485803694]"
      ]
     },
     "execution_count": 22,
     "metadata": {},
     "output_type": "execute_result"
    }
   ],
   "source": [
    "thresholds = []\n",
    "for i in range(3):\n",
    "    y_true_binary = (y_val == i).astype(int)\n",
    "    y_prob_class = y_prob_base[:, i]\n",
    "    best_thresh = find_best_threshold_by_youden(y_true_binary, y_prob_class)\n",
    "    thresholds.append(best_thresh)\n",
    "\n",
    "thresholds\n"
   ]
  },
  {
   "cell_type": "code",
   "execution_count": 23,
   "metadata": {},
   "outputs": [
    {
     "ename": "NameError",
     "evalue": "name 'plt' is not defined",
     "output_type": "error",
     "traceback": [
      "\u001b[1;31m---------------------------------------------------------------------------\u001b[0m",
      "\u001b[1;31mNameError\u001b[0m                                 Traceback (most recent call last)",
      "Cell \u001b[1;32mIn[23], line 4\u001b[0m\n\u001b[0;32m      2\u001b[0m indices \u001b[38;5;241m=\u001b[39m np\u001b[38;5;241m.\u001b[39margsort(importances) [::][\u001b[38;5;241m-\u001b[39m\u001b[38;5;241m15\u001b[39m:]\n\u001b[0;32m      3\u001b[0m features \u001b[38;5;241m=\u001b[39m x\u001b[38;5;241m.\u001b[39mcolumns\n\u001b[1;32m----> 4\u001b[0m \u001b[43mplt\u001b[49m\u001b[38;5;241m.\u001b[39msubplots(figsize\u001b[38;5;241m=\u001b[39m(\u001b[38;5;241m6\u001b[39m,\u001b[38;5;241m18\u001b[39m))\n\u001b[0;32m      5\u001b[0m plt\u001b[38;5;241m.\u001b[39mtitle(\u001b[38;5;124m'\u001b[39m\u001b[38;5;124mFeature Importances\u001b[39m\u001b[38;5;124m'\u001b[39m)\n\u001b[0;32m      6\u001b[0m plt\u001b[38;5;241m.\u001b[39mbarh(\u001b[38;5;28mrange\u001b[39m(\u001b[38;5;28mlen\u001b[39m(indices)), importances[indices], color\u001b[38;5;241m=\u001b[39m\u001b[38;5;124m'\u001b[39m\u001b[38;5;124mb\u001b[39m\u001b[38;5;124m'\u001b[39m, align\u001b[38;5;241m=\u001b[39m\u001b[38;5;124m'\u001b[39m\u001b[38;5;124mcenter\u001b[39m\u001b[38;5;124m'\u001b[39m)\n",
      "\u001b[1;31mNameError\u001b[0m: name 'plt' is not defined"
     ]
    }
   ],
   "source": [
    "importances = model.feature_importances_\n",
    "indices = np.argsort(importances) [::][-15:]\n",
    "features = x.columns\n",
    "plt.subplots(figsize=(6,18))\n",
    "plt.title('Feature Importances')\n",
    "plt.barh(range(len(indices)), importances[indices], color='b', align='center')\n",
    "plt.yticks(range(len(indices)), [features[i] for i in indices])\n",
    "plt.xlabel('Relative Importance')\n",
    "plt.savefig(f\"rf_feature_importance.png\", dpi = 300, facecolor='white', transparent = True, bbox_inches = \"tight\")\n",
    "plt.show()\n"
   ]
  },
  {
   "cell_type": "markdown",
   "metadata": {},
   "source": [
    "## **Class weight**"
   ]
  },
  {
   "cell_type": "code",
   "execution_count": 6,
   "metadata": {},
   "outputs": [],
   "source": [
    "gss = GroupShuffleSplit(n_splits=1, test_size=0.2, random_state=random_seed)\n",
    "train_idx, val_idx = next(gss.split(x, y, groups=data['ID']))\n",
    "\n",
    "x_train, x_val = x.iloc[train_idx], x.iloc[val_idx]\n",
    "y_train, y_val = y.iloc[train_idx], y.iloc[val_idx]\n",
    "\n",
    "y_val_bin = label_binarize(y_val, classes=[0, 1, 2])\n",
    "\n",
    "x_train_imp, m_mean = imputer(x_train, impute_method, train=True)\n",
    "x_train_scale, train_scaler = scaling(x_train_imp, None, train=True)\n",
    "\n",
    "x_val_imp = imputer(x_val, impute_method, False, m_mean)\n",
    "x_val_scale, train_scaler = scaling (x_val_imp, train_scaler, train= False)\n"
   ]
  },
  {
   "cell_type": "markdown",
   "metadata": {},
   "source": [
    "#### **Proposed Catboost model**"
   ]
  },
  {
   "cell_type": "code",
   "execution_count": null,
   "metadata": {},
   "outputs": [
    {
     "name": "stderr",
     "output_type": "stream",
     "text": [
      "100%|██████████| 20/20 [05:14<00:00, 15.73s/it]\n"
     ]
    },
    {
     "data": {
      "application/vnd.microsoft.datawrangler.viewer.v0+json": {
       "columns": [
        {
         "name": "index",
         "rawType": "object",
         "type": "string"
        },
        {
         "name": "AUROC",
         "rawType": "float64",
         "type": "float"
        },
        {
         "name": "AUPRC",
         "rawType": "float64",
         "type": "float"
        },
        {
         "name": "Accuracy",
         "rawType": "float64",
         "type": "float"
        },
        {
         "name": "F1 Score",
         "rawType": "float64",
         "type": "float"
        },
        {
         "name": "Sensitivity",
         "rawType": "float64",
         "type": "float"
        },
        {
         "name": "Specificity",
         "rawType": "float64",
         "type": "float"
        },
        {
         "name": "PPV",
         "rawType": "float64",
         "type": "float"
        },
        {
         "name": "NPV",
         "rawType": "float64",
         "type": "float"
        },
        {
         "name": "a",
         "rawType": "int64",
         "type": "integer"
        },
        {
         "name": "b",
         "rawType": "int64",
         "type": "integer"
        }
       ],
       "ref": "bcfd51d2-48f5-45e0-83bc-6f2819e0f8e0",
       "rows": [
        [
         "Class 0",
         "0.8338754610930224",
         "0.9727803808715071",
         "0.4027291812456263",
         "0.5036347775516138",
         "0.33907595927956147",
         "0.9375",
         "0.9785310734463277",
         "0.14445007602635582",
         "8",
         "32"
        ],
        [
         "Class 1",
         "0.8530003757869647",
         "0.3801936625735725",
         "0.7489503149055283",
         "0.2850024912805182",
         "0.6470588235294118",
         "0.7574895714827455",
         "0.18274760383386582",
         "0.9624186942905324",
         "8",
         "32"
        ],
        [
         "Class 2",
         "0.6989612504070335",
         "0.07192765271201683",
         "0.5858992302309307",
         "0.0706713780918728",
         "0.5421686746987951",
         "0.5872072072072072",
         "0.0377992440151197",
         "0.9772113943028485",
         "8",
         "32"
        ]
       ],
       "shape": {
        "columns": 10,
        "rows": 3
       }
      },
      "text/html": [
       "<div>\n",
       "<style scoped>\n",
       "    .dataframe tbody tr th:only-of-type {\n",
       "        vertical-align: middle;\n",
       "    }\n",
       "\n",
       "    .dataframe tbody tr th {\n",
       "        vertical-align: top;\n",
       "    }\n",
       "\n",
       "    .dataframe thead th {\n",
       "        text-align: right;\n",
       "    }\n",
       "</style>\n",
       "<table border=\"1\" class=\"dataframe\">\n",
       "  <thead>\n",
       "    <tr style=\"text-align: right;\">\n",
       "      <th></th>\n",
       "      <th>AUROC</th>\n",
       "      <th>AUPRC</th>\n",
       "      <th>Accuracy</th>\n",
       "      <th>F1 Score</th>\n",
       "      <th>Sensitivity</th>\n",
       "      <th>Specificity</th>\n",
       "      <th>PPV</th>\n",
       "      <th>NPV</th>\n",
       "      <th>a</th>\n",
       "      <th>b</th>\n",
       "    </tr>\n",
       "  </thead>\n",
       "  <tbody>\n",
       "    <tr>\n",
       "      <th>Class 0</th>\n",
       "      <td>0.833875</td>\n",
       "      <td>0.972780</td>\n",
       "      <td>0.402729</td>\n",
       "      <td>0.503635</td>\n",
       "      <td>0.339076</td>\n",
       "      <td>0.937500</td>\n",
       "      <td>0.978531</td>\n",
       "      <td>0.144450</td>\n",
       "      <td>8</td>\n",
       "      <td>32</td>\n",
       "    </tr>\n",
       "    <tr>\n",
       "      <th>Class 1</th>\n",
       "      <td>0.853000</td>\n",
       "      <td>0.380194</td>\n",
       "      <td>0.748950</td>\n",
       "      <td>0.285002</td>\n",
       "      <td>0.647059</td>\n",
       "      <td>0.757490</td>\n",
       "      <td>0.182748</td>\n",
       "      <td>0.962419</td>\n",
       "      <td>8</td>\n",
       "      <td>32</td>\n",
       "    </tr>\n",
       "    <tr>\n",
       "      <th>Class 2</th>\n",
       "      <td>0.698961</td>\n",
       "      <td>0.071928</td>\n",
       "      <td>0.585899</td>\n",
       "      <td>0.070671</td>\n",
       "      <td>0.542169</td>\n",
       "      <td>0.587207</td>\n",
       "      <td>0.037799</td>\n",
       "      <td>0.977211</td>\n",
       "      <td>8</td>\n",
       "      <td>32</td>\n",
       "    </tr>\n",
       "  </tbody>\n",
       "</table>\n",
       "</div>"
      ],
      "text/plain": [
       "            AUROC     AUPRC  Accuracy  F1 Score  Sensitivity  Specificity  \\\n",
       "Class 0  0.833875  0.972780  0.402729  0.503635     0.339076     0.937500   \n",
       "Class 1  0.853000  0.380194  0.748950  0.285002     0.647059     0.757490   \n",
       "Class 2  0.698961  0.071928  0.585899  0.070671     0.542169     0.587207   \n",
       "\n",
       "              PPV       NPV  a   b  \n",
       "Class 0  0.978531  0.144450  8  32  \n",
       "Class 1  0.182748  0.962419  8  32  \n",
       "Class 2  0.037799  0.977211  8  32  "
      ]
     },
     "execution_count": 11,
     "metadata": {},
     "output_type": "execute_result"
    }
   ],
   "source": [
    "import itertools\n",
    "\n",
    "# a 和 b 的可能取值\n",
    "a_values = [1, 2, 4, 8]\n",
    "b_values = [1, 4, 8, 16, 32]\n",
    "\n",
    "results = []\n",
    "\n",
    "# 所有 (a, b) 組合\n",
    "for a, b in tqdm(itertools.product(a_values, b_values), total=len(a_values) * len(b_values)):\n",
    "    class_weights = {0: 1, 1: a, 2: b}\n",
    "\n",
    "    model = CatBoostClassifier(verbose=False, class_weights=class_weights)\n",
    "    model.fit(x_train_scale, y_train)\n",
    "\n",
    "    y_prob = model.predict_proba(x_val_scale)\n",
    "    y_prob_bin = custom_classify(y_prob, thresholds)\n",
    "    y_pred = y_prob_bin.argmax(axis=1)\n",
    "\n",
    "    metrics, cm = get_metrics(y_val, y_pred, y_prob)\n",
    "\n",
    "\n",
    "    metrics['a'] = a\n",
    "    metrics['b'] = b\n",
    "\n",
    "    results.append(metrics)\n",
    "\n",
    "# ✅ 最後將 list of single-row DataFrames 合併成一整張表\n",
    "results_df = pd.concat(results, ignore_index=False)\n",
    "results_df = results_df.reset_index(names='Class')\n",
    "results_df"
   ]
  },
  {
   "cell_type": "code",
   "execution_count": 13,
   "metadata": {},
   "outputs": [],
   "source": [
    "results_df = pd.concat(results, ignore_index=False)\n",
    "results_df = results_df.reset_index(names='Class')"
   ]
  },
  {
   "cell_type": "markdown",
   "metadata": {},
   "source": [
    "## **CBC/CPD vs CBC vs CPD**"
   ]
  },
  {
   "cell_type": "markdown",
   "metadata": {},
   "source": [
    "#### **Assign variables**"
   ]
  },
  {
   "cell_type": "code",
   "execution_count": 12,
   "metadata": {},
   "outputs": [],
   "source": [
    "y = data.loc[:,'final_label']\n",
    "y_test = data_test.loc[:,'final_label']\n",
    "y_wk = data_WK.loc[:,'final_label']\n",
    "y_an = data_AN.loc[:,'final_label']\n",
    "\n",
    "\n",
    "x = data.iloc[:,6:93]\n",
    "x_test = data_test.iloc[:,6:93]\n",
    "x_wk = data_WK.iloc[:,6:93]\n",
    "x_an = data_AN.iloc[:,6:93]\n",
    "\n",
    "x_cbc = x.iloc[:,0:31]\n",
    "x_test_cbc = x_test.iloc[:,0:31]\n",
    "x_wk_cbc = x_wk.iloc[:,0:31]\n",
    "x_an_cbc = x_an.iloc[:,0:31]\n",
    "\n",
    "x_cpd = x.iloc[:,31:]\n",
    "x_test_cpd = x_test.iloc[:,31:]\n",
    "x_wk_cpd = x_wk.iloc[:,31:]\n",
    "x_an_cpd = x_an.iloc[:,31:]"
   ]
  },
  {
   "cell_type": "markdown",
   "metadata": {},
   "source": [
    "#### **Start training**"
   ]
  },
  {
   "cell_type": "code",
   "execution_count": null,
   "metadata": {},
   "outputs": [
    {
     "name": "stdout",
     "output_type": "stream",
     "text": [
      "All\n",
      "            AUROC     AUPRC  Accuracy  F1 Score  Sensitivity  Specificity  \\\n",
      "Class 0  0.844874  0.974767  0.699090  0.802299     0.683242     0.832237   \n",
      "Class 1  0.858273  0.397076  0.841148  0.366806     0.595023     0.861775   \n",
      "Class 2  0.767251  0.095774  0.798810  0.114022     0.445783     0.809369   \n",
      "\n",
      "              PPV       NPV  \n",
      "Class 0  0.971604  0.238230  \n",
      "Class 1  0.265121  0.962108  \n",
      "Class 2  0.065371  0.979930  \n",
      "CBC\n",
      "            AUROC     AUPRC  Accuracy  F1 Score  Sensitivity  Specificity  \\\n",
      "Class 0  0.822152  0.971717  0.663401  0.774390     0.646437     0.805921   \n",
      "Class 1  0.829630  0.333570  0.814031  0.317277     0.558824     0.835419   \n",
      "Class 2  0.755401  0.094752  0.788139  0.100965     0.409639     0.799459   \n",
      "\n",
      "              PPV       NPV  \n",
      "Class 0  0.965497  0.213415  \n",
      "Class 1  0.221525  0.957618  \n",
      "Class 2  0.057578  0.978390  \n",
      "CPD\n",
      "            AUROC     AUPRC  Accuracy  F1 Score  Sensitivity  Specificity  \\\n",
      "Class 0  0.831112  0.972033  0.679146  0.786992     0.663273     0.812500   \n",
      "Class 1  0.844242  0.390106  0.837649  0.348315     0.561086     0.860827   \n",
      "Class 2  0.725390  0.084046  0.778866  0.095851     0.403614     0.790090   \n",
      "\n",
      "              PPV       NPV  \n",
      "Class 0  0.967447  0.223126  \n",
      "Class 1  0.252546  0.959020  \n",
      "Class 2  0.054383  0.977921  \n"
     ]
    }
   ],
   "source": [
    "# 定義不同輸入資料組\n",
    "input_sets = {\n",
    "    \"All\": x,\n",
    "    \"CBC\": x_cbc,\n",
    "    \"CPD\": x_cpd\n",
    "}\n",
    "\n",
    "results = {}\n",
    "y_prob_dict = {}\n",
    "y_val_dict = {}\n",
    "\n",
    "for name, x_input in input_sets.items():\n",
    "    # 資料切分\n",
    "    print (name)\n",
    "    gss = GroupShuffleSplit(n_splits=1, test_size=0.2, random_state=random_seed)\n",
    "    train_idx, val_idx = next(gss.split(x_input, y, groups=data['ID']))\n",
    "\n",
    "    x_train, x_val = x_input.iloc[train_idx], x_input.iloc[val_idx]\n",
    "    y_train, y_val = y.iloc[train_idx], y.iloc[val_idx]\n",
    "    y_val_bin = label_binarize(y_val, classes=[0, 1, 2])\n",
    "\n",
    "    # 前處理\n",
    "    x_train_imp, m_mean = imputer(x_train, impute_method, train=True)\n",
    "    x_train_scale, train_scaler = scaling(x_train_imp, None, train=True)\n",
    "\n",
    "    x_val_imp = imputer(x_val, impute_method, train=False, num_impute_values=m_mean)\n",
    "    x_val_scale, _ = scaling(x_val_imp, train_scaler, train=False)\n",
    "\n",
    "    # 模型訓練\n",
    "    model = CatBoostClassifier(verbose=False, class_weights=class_weights)\n",
    "    model.fit(x_train_scale, y_train)\n",
    "\n",
    "    # 預測與轉換\n",
    "    y_prob = model.predict_proba(x_val_scale)\n",
    "    y_prob_dict[name] = y_prob\n",
    "    y_val_dict[name] = y_val\n",
    "    y_prob_bin = custom_classify(y_prob, thresholds)\n",
    "    y_pred = y_prob_bin.argmax(axis=1)\n",
    "\n",
    "    metrics , cm = get_metrics(y_val, y_pred, y_prob)\n",
    "\n",
    "    print (metrics)\n"
   ]
  },
  {
   "cell_type": "code",
   "execution_count": null,
   "metadata": {},
   "outputs": [],
   "source": [
    "x_train"
   ]
  },
  {
   "cell_type": "markdown",
   "metadata": {},
   "source": [
    "- save the result for Delong test"
   ]
  },
  {
   "cell_type": "code",
   "execution_count": 51,
   "metadata": {},
   "outputs": [
    {
     "data": {
      "text/plain": [
       "['d:\\\\python_code\\\\CPD\\\\GS\\\\cache\\\\y_true_for_Delong.joblib']"
      ]
     },
     "execution_count": 51,
     "metadata": {},
     "output_type": "execute_result"
    }
   ],
   "source": [
    "dump(y_prob_dict, rf'{cache_dir}\\prob_for_Delong.joblib')\n",
    "dump(y_val_dict, rf'{cache_dir}\\y_true_for_Delong.joblib')"
   ]
  },
  {
   "cell_type": "markdown",
   "metadata": {},
   "source": [
    "#### **Delong test**"
   ]
  },
  {
   "cell_type": "markdown",
   "metadata": {},
   "source": []
  },
  {
   "cell_type": "markdown",
   "metadata": {},
   "source": [
    "- Load the result for Delong test"
   ]
  },
  {
   "cell_type": "code",
   "execution_count": 52,
   "metadata": {},
   "outputs": [],
   "source": [
    "y_prob_dict = load( rf'{cache_dir}\\prob_for_Delong.joblib')\n",
    "y_val_dict =  load( rf'{cache_dir}\\y_true_for_Delong.joblib')"
   ]
  },
  {
   "cell_type": "code",
   "execution_count": 55,
   "metadata": {},
   "outputs": [
    {
     "name": "stdout",
     "output_type": "stream",
     "text": [
      "Corrected p-value for all vs cbc: 0.0051\n",
      "Corrected p-value for all vs cpd: 0.0732\n",
      "Corrected p-value for cpd vs cbc: 0.5098\n"
     ]
    }
   ],
   "source": [
    "k = 0  # class index\n",
    "y_true_binary = (y_val == k).astype(int)\n",
    "y_score_all = y_prob_dict[\"All\"][:, k]\n",
    "y_score_cbc = y_prob_dict[\"CBC\"][:, k]\n",
    "y_score_cpd = y_prob_dict[\"CPD\"][:, k]\n",
    "\n",
    "p_value_all_cbc = np.exp(delong_roc_test(y_true_binary, y_score_all, y_score_cbc))[0][0]\n",
    "p_value_all_cpd = np.exp(delong_roc_test(y_true_binary, y_score_all, y_score_cpd))[0][0]\n",
    "p_value_cbc_cpd = np.exp(delong_roc_test(y_true_binary, y_score_cbc, y_score_cpd))[0][0]\n",
    "\n",
    "print(f\"Corrected p-value for all vs cbc: {p_value_all_cbc:.4f}\")\n",
    "print(f\"Corrected p-value for all vs cpd: {p_value_all_cpd:.4f}\")\n",
    "print(f\"Corrected p-value for cpd vs cbc: {p_value_cbc_cpd:.4f}\")"
   ]
  },
  {
   "cell_type": "markdown",
   "metadata": {},
   "source": [
    "## **Imputation method**"
   ]
  },
  {
   "cell_type": "code",
   "execution_count": 57,
   "metadata": {},
   "outputs": [
    {
     "name": "stdout",
     "output_type": "stream",
     "text": [
      "mean\n",
      "Time taken for mean: 0.01 seconds\n",
      "            AUROC     AUPRC  Accuracy  F1 Score  Sensitivity  Specificity  \\\n",
      "Class 0  0.844874  0.974767  0.699090  0.802299     0.683242     0.832237   \n",
      "Class 1  0.858273  0.397076  0.841148  0.366806     0.595023     0.861775   \n",
      "Class 2  0.767251  0.095774  0.798810  0.114022     0.445783     0.809369   \n",
      "\n",
      "              PPV       NPV  \n",
      "Class 0  0.971604  0.238230  \n",
      "Class 1  0.265121  0.962108  \n",
      "Class 2  0.065371  0.979930  \n",
      "median\n",
      "Time taken for median: 0.01 seconds\n",
      "            AUROC     AUPRC  Accuracy  F1 Score  Sensitivity  Specificity  \\\n",
      "Class 0  0.844589  0.974683  0.699090  0.802299     0.683242     0.832237   \n",
      "Class 1  0.857494  0.400201  0.841148  0.366806     0.595023     0.861775   \n",
      "Class 2  0.757912  0.093371  0.798810  0.114022     0.445783     0.809369   \n",
      "\n",
      "              PPV       NPV  \n",
      "Class 0  0.971604  0.238230  \n",
      "Class 1  0.265121  0.962108  \n",
      "Class 2  0.065371  0.979930  \n",
      "zero\n",
      "Time taken for zero: 0.01 seconds\n",
      "            AUROC     AUPRC  Accuracy  F1 Score  Sensitivity  Specificity  \\\n",
      "Class 0  0.844088  0.975176  0.699090  0.802299     0.683242     0.832237   \n",
      "Class 1  0.858210  0.400018  0.841148  0.366806     0.595023     0.861775   \n",
      "Class 2  0.757094  0.092621  0.798810  0.114022     0.445783     0.809369   \n",
      "\n",
      "              PPV       NPV  \n",
      "Class 0  0.971604  0.238230  \n",
      "Class 1  0.265121  0.962108  \n",
      "Class 2  0.065371  0.979930  \n",
      "knn\n",
      "Time taken for knn: 0.01 seconds\n",
      "            AUROC     AUPRC  Accuracy  F1 Score  Sensitivity  Specificity  \\\n",
      "Class 0  0.845425  0.975385  0.699090  0.802299     0.683242     0.832237   \n",
      "Class 1  0.856802  0.400477  0.841148  0.366806     0.595023     0.861775   \n",
      "Class 2  0.768737  0.105901  0.798810  0.114022     0.445783     0.809369   \n",
      "\n",
      "              PPV       NPV  \n",
      "Class 0  0.971604  0.238230  \n",
      "Class 1  0.265121  0.962108  \n",
      "Class 2  0.065371  0.979930  \n",
      "mice\n"
     ]
    },
    {
     "name": "stderr",
     "output_type": "stream",
     "text": [
      "d:\\Anaconda\\envs\\IDA_project\\lib\\site-packages\\sklearn\\impute\\_iterative.py:801: ConvergenceWarning: [IterativeImputer] Early stopping criterion not reached.\n",
      "  warnings.warn(\n"
     ]
    },
    {
     "name": "stdout",
     "output_type": "stream",
     "text": [
      "Time taken for mice: 0.01 seconds\n",
      "            AUROC     AUPRC  Accuracy  F1 Score  Sensitivity  Specificity  \\\n",
      "Class 0  0.847014  0.975368  0.699090  0.802299     0.683242     0.832237   \n",
      "Class 1  0.858536  0.391184  0.841148  0.366806     0.595023     0.861775   \n",
      "Class 2  0.773024  0.102422  0.798810  0.114022     0.445783     0.809369   \n",
      "\n",
      "              PPV       NPV  \n",
      "Class 0  0.971604  0.238230  \n",
      "Class 1  0.265121  0.962108  \n",
      "Class 2  0.065371  0.979930  \n"
     ]
    }
   ],
   "source": [
    "imputation_methods = ['mean', 'median', 'zero', 'knn', 'mice']\n",
    "\n",
    "y_prob_dict = {}\n",
    "y_val_dict = {}\n",
    "results_imp_method = {}\n",
    "# 資料切分（固定 random seed 確保公平比較）\n",
    "gss = GroupShuffleSplit(n_splits=1, test_size=0.2, random_state=random_seed)\n",
    "train_idx, val_idx = next(gss.split(x, y, groups=data['ID']))\n",
    "\n",
    "x_train, x_val = x.iloc[train_idx], x.iloc[val_idx]\n",
    "y_train, y_val = y.iloc[train_idx], y.iloc[val_idx]\n",
    "\n",
    "for method in imputation_methods:\n",
    "    print (method)\n",
    "    \n",
    "    y_val_bin = label_binarize(y_val, classes=[0, 1, 2])\n",
    "\n",
    "    # 缺失值填補\n",
    "    x_train_imp, m_mean = imputer(x_train, method, train=True)\n",
    "    x_train_scale, train_scaler = scaling(x_train_imp, None, train=True)\n",
    "\n",
    "    x_val_imp = imputer(x_val, method, train=False, num_impute_values=m_mean)\n",
    "    x_val_scale, _ = scaling(x_val_imp, train_scaler, train=False)\n",
    "\n",
    "    # 模型訓練\n",
    "    model = CatBoostClassifier(verbose=False, class_weights=class_weights)\n",
    "    model.fit(x_train_scale, y_train)\n",
    "\n",
    "    start_time = time.time()\n",
    "    # 預測結果\n",
    "    y_prob = model.predict_proba(x_val_scale)\n",
    "    y_prob_dict[method] = y_prob\n",
    "    y_val_dict[method] = y_val  # 原始 multi-class label 保留用於 binarize\n",
    "    \n",
    "    end_time = time.time()  # ⏱️ 記錄結束時間\n",
    "    elapsed_time = end_time - start_time\n",
    "\n",
    "    metrics, cm = get_metrics(y_val, y_pred, y_prob)\n",
    "\n",
    "    print(f\"Time taken for {method}: {elapsed_time:.2f} seconds\")\n",
    "    print (metrics)\n"
   ]
  },
  {
   "cell_type": "code",
   "execution_count": 58,
   "metadata": {},
   "outputs": [],
   "source": [
    "import itertools\n",
    "\n",
    "k = 1  # 選定要比較的類別（例如 Class 2 = Gram-positive bacteremia）\n",
    "y_true_binary = (y_val_dict['mean'] == k).astype(int)  # 任一組即可，因為切分固定\n",
    "\n",
    "# 將每個方法對應的預測分數取出\n",
    "method_scores = {\n",
    "    method: y_prob[:, k] for method, y_prob in y_prob_dict.items()\n",
    "}\n",
    "\n",
    "# 儲存 p-value 結果\n",
    "delong_results = []\n",
    "\n",
    "# 所有兩兩比較組合\n",
    "for method1, method2 in itertools.combinations(method_scores.keys(), 2):\n",
    "    score1 = method_scores[method1]\n",
    "    score2 = method_scores[method2]\n",
    "\n",
    "    p_val_log = delong_roc_test(y_true_binary, score1, score2)\n",
    "    p_val = np.exp(p_val_log)[0][0]\n",
    "\n",
    "    delong_results.append({\n",
    "        'Method 1': method1,\n",
    "        'Method 2': method2,\n",
    "        'Class': f'Class {k}',\n",
    "        'p-value': round(p_val, 4)\n",
    "    })\n",
    "\n",
    "# 顯示結果為 DataFrame\n",
    "df_delong = pd.DataFrame(delong_results)"
   ]
  },
  {
   "cell_type": "code",
   "execution_count": 15,
   "metadata": {},
   "outputs": [
    {
     "data": {
      "application/vnd.microsoft.datawrangler.viewer.v0+json": {
       "columns": [
        {
         "name": "index",
         "rawType": "int64",
         "type": "integer"
        },
        {
         "name": "Method 1",
         "rawType": "object",
         "type": "string"
        },
        {
         "name": "Method 2",
         "rawType": "object",
         "type": "string"
        },
        {
         "name": "Class",
         "rawType": "object",
         "type": "string"
        },
        {
         "name": "p-value",
         "rawType": "float64",
         "type": "float"
        }
       ],
       "ref": "78a7b037-c174-4b8e-8337-736909d75ce6",
       "rows": [
        [
         "0",
         "mean",
         "median",
         "Class 1",
         "0.9631"
        ],
        [
         "1",
         "mean",
         "zero",
         "Class 1",
         "0.5816"
        ],
        [
         "2",
         "mean",
         "knn",
         "Class 1",
         "0.8821"
        ],
        [
         "3",
         "mean",
         "mice",
         "Class 1",
         "0.5198"
        ],
        [
         "4",
         "median",
         "zero",
         "Class 1",
         "0.6085"
        ],
        [
         "5",
         "median",
         "knn",
         "Class 1",
         "0.9088"
        ],
        [
         "6",
         "median",
         "mice",
         "Class 1",
         "0.4826"
        ],
        [
         "7",
         "zero",
         "knn",
         "Class 1",
         "0.7381"
        ],
        [
         "8",
         "zero",
         "mice",
         "Class 1",
         "0.1812"
        ],
        [
         "9",
         "knn",
         "mice",
         "Class 1",
         "0.3518"
        ]
       ],
       "shape": {
        "columns": 4,
        "rows": 10
       }
      },
      "text/html": [
       "<div>\n",
       "<style scoped>\n",
       "    .dataframe tbody tr th:only-of-type {\n",
       "        vertical-align: middle;\n",
       "    }\n",
       "\n",
       "    .dataframe tbody tr th {\n",
       "        vertical-align: top;\n",
       "    }\n",
       "\n",
       "    .dataframe thead th {\n",
       "        text-align: right;\n",
       "    }\n",
       "</style>\n",
       "<table border=\"1\" class=\"dataframe\">\n",
       "  <thead>\n",
       "    <tr style=\"text-align: right;\">\n",
       "      <th></th>\n",
       "      <th>Method 1</th>\n",
       "      <th>Method 2</th>\n",
       "      <th>Class</th>\n",
       "      <th>p-value</th>\n",
       "    </tr>\n",
       "  </thead>\n",
       "  <tbody>\n",
       "    <tr>\n",
       "      <th>0</th>\n",
       "      <td>mean</td>\n",
       "      <td>median</td>\n",
       "      <td>Class 1</td>\n",
       "      <td>0.9631</td>\n",
       "    </tr>\n",
       "    <tr>\n",
       "      <th>1</th>\n",
       "      <td>mean</td>\n",
       "      <td>zero</td>\n",
       "      <td>Class 1</td>\n",
       "      <td>0.5816</td>\n",
       "    </tr>\n",
       "    <tr>\n",
       "      <th>2</th>\n",
       "      <td>mean</td>\n",
       "      <td>knn</td>\n",
       "      <td>Class 1</td>\n",
       "      <td>0.8821</td>\n",
       "    </tr>\n",
       "    <tr>\n",
       "      <th>3</th>\n",
       "      <td>mean</td>\n",
       "      <td>mice</td>\n",
       "      <td>Class 1</td>\n",
       "      <td>0.5198</td>\n",
       "    </tr>\n",
       "    <tr>\n",
       "      <th>4</th>\n",
       "      <td>median</td>\n",
       "      <td>zero</td>\n",
       "      <td>Class 1</td>\n",
       "      <td>0.6085</td>\n",
       "    </tr>\n",
       "    <tr>\n",
       "      <th>5</th>\n",
       "      <td>median</td>\n",
       "      <td>knn</td>\n",
       "      <td>Class 1</td>\n",
       "      <td>0.9088</td>\n",
       "    </tr>\n",
       "    <tr>\n",
       "      <th>6</th>\n",
       "      <td>median</td>\n",
       "      <td>mice</td>\n",
       "      <td>Class 1</td>\n",
       "      <td>0.4826</td>\n",
       "    </tr>\n",
       "    <tr>\n",
       "      <th>7</th>\n",
       "      <td>zero</td>\n",
       "      <td>knn</td>\n",
       "      <td>Class 1</td>\n",
       "      <td>0.7381</td>\n",
       "    </tr>\n",
       "    <tr>\n",
       "      <th>8</th>\n",
       "      <td>zero</td>\n",
       "      <td>mice</td>\n",
       "      <td>Class 1</td>\n",
       "      <td>0.1812</td>\n",
       "    </tr>\n",
       "    <tr>\n",
       "      <th>9</th>\n",
       "      <td>knn</td>\n",
       "      <td>mice</td>\n",
       "      <td>Class 1</td>\n",
       "      <td>0.3518</td>\n",
       "    </tr>\n",
       "  </tbody>\n",
       "</table>\n",
       "</div>"
      ],
      "text/plain": [
       "  Method 1 Method 2    Class  p-value\n",
       "0     mean   median  Class 1   0.9631\n",
       "1     mean     zero  Class 1   0.5816\n",
       "2     mean      knn  Class 1   0.8821\n",
       "3     mean     mice  Class 1   0.5198\n",
       "4   median     zero  Class 1   0.6085\n",
       "5   median      knn  Class 1   0.9088\n",
       "6   median     mice  Class 1   0.4826\n",
       "7     zero      knn  Class 1   0.7381\n",
       "8     zero     mice  Class 1   0.1812\n",
       "9      knn     mice  Class 1   0.3518"
      ]
     },
     "execution_count": 15,
     "metadata": {},
     "output_type": "execute_result"
    }
   ],
   "source": [
    "df_delong"
   ]
  },
  {
   "cell_type": "markdown",
   "metadata": {},
   "source": [
    "## **three binary classifier**"
   ]
  },
  {
   "cell_type": "code",
   "execution_count": 59,
   "metadata": {},
   "outputs": [],
   "source": [
    "def get_bin_metrics(y_true, y_pred, y_prob):\n",
    "    cm = confusion_matrix(y_true, y_pred)\n",
    "    TN, FP, FN, TP = cm.ravel() if cm.shape == (2, 2) else (0, 0, 0, 0)\n",
    "\n",
    "\n",
    "    auroc = roc_auc_score(y_true, y_prob)\n",
    "    auprc = average_precision_score(y_true, y_prob)\n",
    "    accuracy = accuracy_score(y_true, y_pred)\n",
    "    f1 = f1_score(y_true, y_pred)\n",
    "    sensitivity = TP / (TP + FN) if (TP + FN) > 0 else 0\n",
    "    specificity = TN / (TN + FP) if (TN + FP) > 0 else 0\n",
    "    ppv = TP / (TP + FP) if (TP + FP) > 0 else 0\n",
    "    npv = TN / (TN + FN) if (TN + FN) > 0 else 0\n",
    "\n",
    "    metrics = {\n",
    "        'AUROC': auroc,\n",
    "        'AUPRC': auprc,\n",
    "        'Accuracy': accuracy,\n",
    "        'F1 Score': f1,\n",
    "        'Sensitivity': sensitivity,\n",
    "        'Specificity': specificity,\n",
    "        'PPV': ppv,\n",
    "        'NPV': npv\n",
    "    }\n",
    "\n",
    "    return metrics, cm\n",
    "\n",
    "def bin_youden_index_threshold(y_true, y_prob):\n",
    "    fpr, tpr, thresholds = roc_curve(y_true, y_prob)\n",
    "    youden_index = tpr - fpr\n",
    "    best_idx = youden_index.argmax()\n",
    "    best_threshold = thresholds[best_idx]\n",
    "    return best_threshold, tpr[best_idx], fpr[best_idx]"
   ]
  },
  {
   "cell_type": "code",
   "execution_count": 60,
   "metadata": {},
   "outputs": [],
   "source": [
    "# 建立 one-vs-rest 標籤\n",
    "y_0 = (y == 0).astype(int)\n",
    "y_1 = (y == 1).astype(int)\n",
    "y_2 = (y == 2).astype(int)\n",
    "\n",
    "y_test_0 = (y_test == 0).astype(int)\n",
    "y_test_1 = (y_test == 1).astype(int)\n",
    "y_test_2 = (y_test == 2).astype(int)\n",
    "\n",
    "y_wk_0 = (y_wk == 0).astype(int)\n",
    "y_wk_1 = (y_wk == 1).astype(int)\n",
    "y_wk_2 = (y_wk == 2).astype(int)\n",
    "\n",
    "y_an_0 = (y_an == 0).astype(int)\n",
    "y_an_1 = (y_an == 1).astype(int)\n",
    "y_an_2 = (y_an == 2).astype(int)"
   ]
  },
  {
   "cell_type": "code",
   "execution_count": 61,
   "metadata": {},
   "outputs": [
    {
     "name": "stdout",
     "output_type": "stream",
     "text": [
      "\n",
      "========== Training model for Class 0 vs Rest ==========\n",
      "\n",
      "========== Training model for Class 1 vs Rest ==========\n",
      "\n",
      "========== Training model for Class 2 vs Rest ==========\n"
     ]
    }
   ],
   "source": [
    "# 假設這三個是 binary target\n",
    "y_ovr_list = [(y == i).astype(int) for i in range(3)]  # y_0, y_1, y_2\n",
    "y_val_ovr_list = []  # 等一下 append 進來\n",
    "\n",
    "metrics_list = []\n",
    "threshold_list = []\n",
    "\n",
    "\n",
    "for i in range(3):\n",
    "    print(f\"\\n========== Training model for Class {i} vs Rest ==========\")\n",
    "    \n",
    "    y_binary = y_ovr_list[i]\n",
    "    \n",
    "    # Split\n",
    "    gss = GroupShuffleSplit(n_splits=1, test_size=0.2, random_state=random_seed)\n",
    "    train_idx, val_idx = next(gss.split(x, y_binary, groups=data['ID']))\n",
    "\n",
    "    x_train, x_val = x.iloc[train_idx], x.iloc[val_idx]\n",
    "    y_train, y_val = y_binary.iloc[train_idx], y_binary.iloc[val_idx]\n",
    "    # Impute and scale\n",
    "    x_train_imp, m_mean = imputer(x_train, impute_method, train=True)\n",
    "    x_train_scale, train_scaler = scaling(x_train_imp, None, train=True)\n",
    "\n",
    "    x_val_imp = imputer(x_val, impute_method, False, m_mean)\n",
    "    x_val_scale, train_scaler = scaling(x_val_imp, train_scaler, train=False)\n",
    "\n",
    "    # Model fit\n",
    "    model = CatBoostClassifier(verbose=False)\n",
    "    model.fit(x_train_scale, y_train)\n",
    "\n",
    "    # Predict\n",
    "    y_prob = model.predict_proba(x_val_scale)[:, 1]  # 只取 class 1 的機率\n",
    "\n",
    "    # ⬅️ 計算 Youden Index 最佳 threshold\n",
    "    best_threshold, best_tpr, best_fpr = bin_youden_index_threshold(y_val, y_prob)\n",
    "    threshold_list.append(best_threshold)\n",
    "\n",
    "    # ⬅️ 用最佳 threshold 產出 y_pred\n",
    "    y_pred = (y_prob >= best_threshold).astype(int)\n",
    "\n",
    "    # Evaluate\n",
    "    metrics, cm = get_bin_metrics(y_val, y_pred, y_prob)\n",
    "    metrics[\"class_label\"] = f\"class_{i}\"\n",
    "    metrics[\"youden_threshold\"] = best_threshold\n",
    "    metrics[\"TPR@threshold\"] = best_tpr\n",
    "    metrics[\"FPR@threshold\"] = best_fpr\n",
    "    metrics_list.append(metrics)\n",
    "\n",
    "metrics_list"
   ]
  },
  {
   "cell_type": "markdown",
   "metadata": {},
   "source": [
    "## **remove Blood culture less than 1 set**"
   ]
  },
  {
   "cell_type": "code",
   "execution_count": 62,
   "metadata": {},
   "outputs": [],
   "source": [
    "data = pd.read_csv(fr'{data_dir}\\CMUH_GS_2021_triage.csv')"
   ]
  },
  {
   "cell_type": "code",
   "execution_count": 66,
   "metadata": {},
   "outputs": [],
   "source": [
    "# 移除 bloodcx_Value_12_2 為 'no record' 的資料列\n",
    "data_2 = data[data['bloodcx_Value_12_2'] != 'no record']\n",
    "\n",
    "y = data_2.loc[:,'final_label']\n",
    "x = data_2.iloc[:,6:93]"
   ]
  },
  {
   "cell_type": "code",
   "execution_count": 64,
   "metadata": {},
   "outputs": [
    {
     "name": "stdout",
     "output_type": "stream",
     "text": [
      "total case: 12458\n",
      "Counts of 0: 10195\n",
      "Counts of 1: 1656\n",
      "Counts of 2: 607\n",
      "Proportion of 2: 4.87%\n",
      "Proportion of 1: 13.29%\n",
      "Proportion of 0: 81.83%\n"
     ]
    }
   ],
   "source": [
    "for i in [y] :\n",
    "    element_counts = Counter(i)\n",
    "    total_elements = len(i)\n",
    "    # 打印结果\n",
    "    print(f\"total case: {total_elements}\")\n",
    "    print(\"Counts of 0:\", element_counts[0])\n",
    "    print(\"Counts of 1:\", element_counts[1])\n",
    "    print(\"Counts of 2:\", element_counts[2])\n",
    "\n",
    "\n",
    "    # 计算各个元素的比例\n",
    "    element_proportions = {key: count / total_elements for key, count in element_counts.items()}\n",
    "    \n",
    "    # 打印各个元素的比例\n",
    "    for key, proportion in element_proportions.items():\n",
    "        print(f\"Proportion of {key}: {proportion:.2%}\")"
   ]
  },
  {
   "cell_type": "code",
   "execution_count": 70,
   "metadata": {},
   "outputs": [
    {
     "data": {
      "application/vnd.microsoft.datawrangler.viewer.v0+json": {
       "columns": [
        {
         "name": "index",
         "rawType": "object",
         "type": "string"
        },
        {
         "name": "AUROC",
         "rawType": "float64",
         "type": "float"
        },
        {
         "name": "AUPRC",
         "rawType": "float64",
         "type": "float"
        },
        {
         "name": "Accuracy",
         "rawType": "float64",
         "type": "float"
        },
        {
         "name": "F1 Score",
         "rawType": "float64",
         "type": "float"
        },
        {
         "name": "Sensitivity",
         "rawType": "float64",
         "type": "float"
        },
        {
         "name": "Specificity",
         "rawType": "float64",
         "type": "float"
        },
        {
         "name": "PPV",
         "rawType": "float64",
         "type": "float"
        },
        {
         "name": "NPV",
         "rawType": "float64",
         "type": "float"
        }
       ],
       "ref": "9a861069-5a75-41c9-98a7-1416d9285450",
       "rows": [
        [
         "Class 0",
         "0.8069422061061868",
         "0.944896661667675",
         "0.6295399515738499",
         "0.7228260869565217",
         "0.586764705882353",
         "0.8287671232876712",
         "0.9410377358490566",
         "0.3009950248756219"
        ],
        [
         "Class 1",
         "0.8075870354448007",
         "0.43337876363072964",
         "0.8022598870056498",
         "0.4138755980861244",
         "0.5457413249211357",
         "0.8398889403054142",
         "0.3333333333333333",
         "0.9264931087289433"
        ],
        [
         "Class 2",
         "0.7292573203785454",
         "0.12842151864411444",
         "0.7191283292978208",
         "0.13861386138613863",
         "0.4628099173553719",
         "0.7322868052609249",
         "0.08151382823871907",
         "0.9637074260189838"
        ]
       ],
       "shape": {
        "columns": 8,
        "rows": 3
       }
      },
      "text/html": [
       "<div>\n",
       "<style scoped>\n",
       "    .dataframe tbody tr th:only-of-type {\n",
       "        vertical-align: middle;\n",
       "    }\n",
       "\n",
       "    .dataframe tbody tr th {\n",
       "        vertical-align: top;\n",
       "    }\n",
       "\n",
       "    .dataframe thead th {\n",
       "        text-align: right;\n",
       "    }\n",
       "</style>\n",
       "<table border=\"1\" class=\"dataframe\">\n",
       "  <thead>\n",
       "    <tr style=\"text-align: right;\">\n",
       "      <th></th>\n",
       "      <th>AUROC</th>\n",
       "      <th>AUPRC</th>\n",
       "      <th>Accuracy</th>\n",
       "      <th>F1 Score</th>\n",
       "      <th>Sensitivity</th>\n",
       "      <th>Specificity</th>\n",
       "      <th>PPV</th>\n",
       "      <th>NPV</th>\n",
       "    </tr>\n",
       "  </thead>\n",
       "  <tbody>\n",
       "    <tr>\n",
       "      <th>Class 0</th>\n",
       "      <td>0.806942</td>\n",
       "      <td>0.944897</td>\n",
       "      <td>0.629540</td>\n",
       "      <td>0.722826</td>\n",
       "      <td>0.586765</td>\n",
       "      <td>0.828767</td>\n",
       "      <td>0.941038</td>\n",
       "      <td>0.300995</td>\n",
       "    </tr>\n",
       "    <tr>\n",
       "      <th>Class 1</th>\n",
       "      <td>0.807587</td>\n",
       "      <td>0.433379</td>\n",
       "      <td>0.802260</td>\n",
       "      <td>0.413876</td>\n",
       "      <td>0.545741</td>\n",
       "      <td>0.839889</td>\n",
       "      <td>0.333333</td>\n",
       "      <td>0.926493</td>\n",
       "    </tr>\n",
       "    <tr>\n",
       "      <th>Class 2</th>\n",
       "      <td>0.729257</td>\n",
       "      <td>0.128422</td>\n",
       "      <td>0.719128</td>\n",
       "      <td>0.138614</td>\n",
       "      <td>0.462810</td>\n",
       "      <td>0.732287</td>\n",
       "      <td>0.081514</td>\n",
       "      <td>0.963707</td>\n",
       "    </tr>\n",
       "  </tbody>\n",
       "</table>\n",
       "</div>"
      ],
      "text/plain": [
       "            AUROC     AUPRC  Accuracy  F1 Score  Sensitivity  Specificity  \\\n",
       "Class 0  0.806942  0.944897  0.629540  0.722826     0.586765     0.828767   \n",
       "Class 1  0.807587  0.433379  0.802260  0.413876     0.545741     0.839889   \n",
       "Class 2  0.729257  0.128422  0.719128  0.138614     0.462810     0.732287   \n",
       "\n",
       "              PPV       NPV  \n",
       "Class 0  0.941038  0.300995  \n",
       "Class 1  0.333333  0.926493  \n",
       "Class 2  0.081514  0.963707  "
      ]
     },
     "execution_count": 70,
     "metadata": {},
     "output_type": "execute_result"
    }
   ],
   "source": [
    "thresholds = [0.8622456725281626, 0.10406670337892836, 0.030697224850677926]\n",
    "\n",
    "gss = GroupShuffleSplit(n_splits=1, test_size=0.2, random_state=random_seed)\n",
    "train_idx, val_idx = next(gss.split(x, y, groups=data_2['ID']))\n",
    "\n",
    "x_train, x_val = x.iloc[train_idx], x.iloc[val_idx]\n",
    "y_train, y_val = y.iloc[train_idx], y.iloc[val_idx]\n",
    "\n",
    "y_val_bin = label_binarize(y_val, classes=[0, 1, 2])\n",
    "\n",
    "x_train_imp, m_mean = imputer(x_train, impute_method, train=True)\n",
    "x_train_scale, train_scaler = scaling(x_train_imp, None, train=True)\n",
    "\n",
    "x_val_imp = imputer(x_val, impute_method, False, m_mean)\n",
    "x_val_scale, train_scaler = scaling (x_val_imp, train_scaler, train= False)\n",
    "\n",
    "# model fit\n",
    "model= CatBoostClassifier(verbose=False, class_weights=class_weights)\n",
    "model.fit(x_train_scale, y_train)\n",
    "\n",
    "y_prob = model.predict_proba(x_val_scale)\n",
    "y_prob_bin = custom_classify(y_prob, thresholds)\n",
    "y_pred = y_prob_bin.argmax(axis=1)\n",
    "\n",
    "metrics , cm = get_metrics(y_val, y_pred, y_prob)\n",
    "metrics\n"
   ]
  },
  {
   "cell_type": "code",
   "execution_count": 69,
   "metadata": {},
   "outputs": [
    {
     "data": {
      "text/plain": [
       "[0.8622456725281626, 0.10406670337892836, 0.030697224850677926]"
      ]
     },
     "execution_count": 69,
     "metadata": {},
     "output_type": "execute_result"
    }
   ],
   "source": [
    "\n",
    "thresholds = []\n",
    "for i in range(3):\n",
    "    y_true_binary = (y_val == i).astype(int)\n",
    "    y_prob_class = y_prob[:, i]\n",
    "    best_thresh = find_best_threshold_by_youden(y_true_binary, y_prob_class)\n",
    "    thresholds.append(best_thresh)\n",
    "\n",
    "thresholds"
   ]
  },
  {
   "cell_type": "markdown",
   "metadata": {},
   "source": [
    "## **Retain the first samples**"
   ]
  },
  {
   "cell_type": "code",
   "execution_count": 71,
   "metadata": {},
   "outputs": [],
   "source": [
    "data = pd.read_csv(fr'{data_dir}\\CMUH_GS_2021_triage.csv')"
   ]
  },
  {
   "cell_type": "markdown",
   "metadata": {},
   "source": [
    "- 移除掉沒有配對到ED的病患"
   ]
  },
  {
   "cell_type": "code",
   "execution_count": 72,
   "metadata": {},
   "outputs": [],
   "source": [
    "data_2 = data[data[\"ED_match\"]==1].reset_index(drop=True)"
   ]
  },
  {
   "cell_type": "code",
   "execution_count": 73,
   "metadata": {},
   "outputs": [],
   "source": [
    "# 先根據 delta_CBC_ED_Time 由小到大排序\n",
    "data_2 = data_2.sort_values(by=['ED_ID','delta_CBC_ED_Time'], ascending=True)\n",
    "\n",
    "# 接著以 ED_ID 為單位，保留第一筆（即時間最小的那筆）\n",
    "data_3 = data_2.drop_duplicates(subset='ED_ID', keep='first').reset_index(drop=True)"
   ]
  },
  {
   "cell_type": "code",
   "execution_count": null,
   "metadata": {},
   "outputs": [],
   "source": [
    "y = data_3.loc[:,'final_label']\n",
    "x = data_3.iloc[:,6:93]"
   ]
  },
  {
   "cell_type": "code",
   "execution_count": 78,
   "metadata": {},
   "outputs": [
    {
     "name": "stdout",
     "output_type": "stream",
     "text": [
      "total case: 28105\n",
      "Counts of 0: 25173\n",
      "Counts of 1: 2150\n",
      "Counts of 2: 782\n",
      "Proportion of 0: 89.57%\n",
      "Proportion of 2: 2.78%\n",
      "Proportion of 1: 7.65%\n"
     ]
    }
   ],
   "source": [
    "for i in [y] :\n",
    "    element_counts = Counter(i)\n",
    "    total_elements = len(i)\n",
    "    # 打印结果\n",
    "    print(f\"total case: {total_elements}\")\n",
    "    print(\"Counts of 0:\", element_counts[0])\n",
    "    print(\"Counts of 1:\", element_counts[1])\n",
    "    print(\"Counts of 2:\", element_counts[2])\n",
    "\n",
    "\n",
    "    # 计算各个元素的比例\n",
    "    element_proportions = {key: count / total_elements for key, count in element_counts.items()}\n",
    "    \n",
    "    # 打印各个元素的比例\n",
    "    for key, proportion in element_proportions.items():\n",
    "        print(f\"Proportion of {key}: {proportion:.2%}\")"
   ]
  },
  {
   "cell_type": "code",
   "execution_count": 77,
   "metadata": {},
   "outputs": [
    {
     "data": {
      "application/vnd.microsoft.datawrangler.viewer.v0+json": {
       "columns": [
        {
         "name": "index",
         "rawType": "object",
         "type": "string"
        },
        {
         "name": "AUROC",
         "rawType": "float64",
         "type": "float"
        },
        {
         "name": "AUPRC",
         "rawType": "float64",
         "type": "float"
        },
        {
         "name": "Accuracy",
         "rawType": "float64",
         "type": "float"
        },
        {
         "name": "F1 Score",
         "rawType": "float64",
         "type": "float"
        },
        {
         "name": "Sensitivity",
         "rawType": "float64",
         "type": "float"
        },
        {
         "name": "Specificity",
         "rawType": "float64",
         "type": "float"
        },
        {
         "name": "PPV",
         "rawType": "float64",
         "type": "float"
        },
        {
         "name": "NPV",
         "rawType": "float64",
         "type": "float"
        }
       ],
       "ref": "3095ac7f-0821-4143-b7d4-0a037acc9d8d",
       "rows": [
        [
         "Class 0",
         "0.8385571358723811",
         "0.9717831155181368",
         "0.7157571376942538",
         "0.8158726442701627",
         "0.7036139713305067",
         "0.8192771084337349",
         "0.9707520891364902",
         "0.2448559670781893"
        ],
        [
         "Class 1",
         "0.8471024258760107",
         "0.416477265536153",
         "0.8494759667509939",
         "0.37509377344336087",
         "0.589622641509434",
         "0.8710371819960862",
         "0.27502750275027504",
         "0.9623783783783784"
        ],
        [
         "Class 2",
         "0.7686596247996598",
         "0.09495899903549604",
         "0.8099024213950127",
         "0.1174496644295302",
         "0.445859872611465",
         "0.8205318951087968",
         "0.06763285024154589",
         "0.9806623694154256"
        ]
       ],
       "shape": {
        "columns": 8,
        "rows": 3
       }
      },
      "text/html": [
       "<div>\n",
       "<style scoped>\n",
       "    .dataframe tbody tr th:only-of-type {\n",
       "        vertical-align: middle;\n",
       "    }\n",
       "\n",
       "    .dataframe tbody tr th {\n",
       "        vertical-align: top;\n",
       "    }\n",
       "\n",
       "    .dataframe thead th {\n",
       "        text-align: right;\n",
       "    }\n",
       "</style>\n",
       "<table border=\"1\" class=\"dataframe\">\n",
       "  <thead>\n",
       "    <tr style=\"text-align: right;\">\n",
       "      <th></th>\n",
       "      <th>AUROC</th>\n",
       "      <th>AUPRC</th>\n",
       "      <th>Accuracy</th>\n",
       "      <th>F1 Score</th>\n",
       "      <th>Sensitivity</th>\n",
       "      <th>Specificity</th>\n",
       "      <th>PPV</th>\n",
       "      <th>NPV</th>\n",
       "    </tr>\n",
       "  </thead>\n",
       "  <tbody>\n",
       "    <tr>\n",
       "      <th>Class 0</th>\n",
       "      <td>0.838557</td>\n",
       "      <td>0.971783</td>\n",
       "      <td>0.715757</td>\n",
       "      <td>0.815873</td>\n",
       "      <td>0.703614</td>\n",
       "      <td>0.819277</td>\n",
       "      <td>0.970752</td>\n",
       "      <td>0.244856</td>\n",
       "    </tr>\n",
       "    <tr>\n",
       "      <th>Class 1</th>\n",
       "      <td>0.847102</td>\n",
       "      <td>0.416477</td>\n",
       "      <td>0.849476</td>\n",
       "      <td>0.375094</td>\n",
       "      <td>0.589623</td>\n",
       "      <td>0.871037</td>\n",
       "      <td>0.275028</td>\n",
       "      <td>0.962378</td>\n",
       "    </tr>\n",
       "    <tr>\n",
       "      <th>Class 2</th>\n",
       "      <td>0.768660</td>\n",
       "      <td>0.094959</td>\n",
       "      <td>0.809902</td>\n",
       "      <td>0.117450</td>\n",
       "      <td>0.445860</td>\n",
       "      <td>0.820532</td>\n",
       "      <td>0.067633</td>\n",
       "      <td>0.980662</td>\n",
       "    </tr>\n",
       "  </tbody>\n",
       "</table>\n",
       "</div>"
      ],
      "text/plain": [
       "            AUROC     AUPRC  Accuracy  F1 Score  Sensitivity  Specificity  \\\n",
       "Class 0  0.838557  0.971783  0.715757  0.815873     0.703614     0.819277   \n",
       "Class 1  0.847102  0.416477  0.849476  0.375094     0.589623     0.871037   \n",
       "Class 2  0.768660  0.094959  0.809902  0.117450     0.445860     0.820532   \n",
       "\n",
       "              PPV       NPV  \n",
       "Class 0  0.970752  0.244856  \n",
       "Class 1  0.275028  0.962378  \n",
       "Class 2  0.067633  0.980662  "
      ]
     },
     "execution_count": 77,
     "metadata": {},
     "output_type": "execute_result"
    }
   ],
   "source": [
    "thresholds = [0.898350670722458, 0.07286997606149803, 0.024097670804088818]\n",
    "\n",
    "gss = GroupShuffleSplit(n_splits=1, test_size=0.2, random_state=random_seed)\n",
    "train_idx, val_idx = next(gss.split(x, y, groups=data_3['ID']))\n",
    "\n",
    "x_train, x_val = x.iloc[train_idx], x.iloc[val_idx]\n",
    "y_train, y_val = y.iloc[train_idx], y.iloc[val_idx]\n",
    "\n",
    "y_val_bin = label_binarize(y_val, classes=[0, 1, 2])\n",
    "\n",
    "x_train_imp, m_mean = imputer(x_train, impute_method, train=True)\n",
    "x_train_scale, train_scaler = scaling(x_train_imp, None, train=True)\n",
    "\n",
    "x_val_imp = imputer(x_val, impute_method, False, m_mean)\n",
    "x_val_scale, train_scaler = scaling (x_val_imp, train_scaler, train= False)\n",
    "\n",
    "\n",
    "\n",
    "# model fit\n",
    "model= CatBoostClassifier(verbose=False, class_weights=class_weights)\n",
    "model.fit(x_train_scale, y_train)\n",
    "\n",
    "y_prob = model.predict_proba(x_val_scale)\n",
    "y_prob_bin = custom_classify(y_prob, thresholds)\n",
    "y_pred = y_prob_bin.argmax(axis=1)\n",
    "\n",
    "metrics , cm = get_metrics(y_val, y_pred, y_prob)\n",
    "metrics\n"
   ]
  },
  {
   "cell_type": "code",
   "execution_count": 76,
   "metadata": {},
   "outputs": [
    {
     "data": {
      "text/plain": [
       "[0.898350670722458, 0.07286997606149803, 0.024097670804088818]"
      ]
     },
     "execution_count": 76,
     "metadata": {},
     "output_type": "execute_result"
    }
   ],
   "source": [
    "thresholds = []\n",
    "for i in range(3):\n",
    "    y_true_binary = (y_val == i).astype(int)\n",
    "    y_prob_class = y_prob[:, i]\n",
    "    best_thresh = find_best_threshold_by_youden(y_true_binary, y_prob_class)\n",
    "    thresholds.append(best_thresh)\n",
    "\n",
    "thresholds"
   ]
  },
  {
   "cell_type": "code",
   "execution_count": 21,
   "metadata": {},
   "outputs": [],
   "source": [
    "y = data.loc[:,'final_label']\n",
    "x = data.iloc[:,6:93]"
   ]
  },
  {
   "cell_type": "code",
   "execution_count": 23,
   "metadata": {},
   "outputs": [
    {
     "data": {
      "application/vnd.microsoft.datawrangler.viewer.v0+json": {
       "columns": [
        {
         "name": "index",
         "rawType": "object",
         "type": "string"
        },
        {
         "name": "AUROC",
         "rawType": "float64",
         "type": "float"
        },
        {
         "name": "AUPRC",
         "rawType": "float64",
         "type": "float"
        },
        {
         "name": "Accuracy",
         "rawType": "float64",
         "type": "float"
        },
        {
         "name": "F1 Score",
         "rawType": "float64",
         "type": "float"
        },
        {
         "name": "Sensitivity",
         "rawType": "float64",
         "type": "float"
        },
        {
         "name": "Specificity",
         "rawType": "float64",
         "type": "float"
        },
        {
         "name": "PPV",
         "rawType": "float64",
         "type": "float"
        },
        {
         "name": "NPV",
         "rawType": "float64",
         "type": "float"
        }
       ],
       "ref": "b2b2a6d0-6fd0-414d-a729-28be4304e8f9",
       "rows": [
        [
         "Class 0",
         "0.8448743972303507",
         "0.9747670151108415",
         "0.7200839748075577",
         "0.8191681735985533",
         "0.7094753328112764",
         "0.8092105263157895",
         "0.9689839572192513",
         "0.24898785425101214"
        ],
        [
         "Class 1",
         "0.8582725467889089",
         "0.3970759038458256",
         "0.8112316305108468",
         "0.35272945410917816",
         "0.665158371040724",
         "0.8234736442927569",
         "0.24",
         "0.9670452015141394"
        ],
        [
         "Class 2",
         "0.7672506241180941",
         "0.09577446843706948",
         "0.8584674597620714",
         "0.11777535441657579",
         "0.3253012048192771",
         "0.8744144144144144",
         "0.07190412782956059",
         "0.9774420946626384"
        ]
       ],
       "shape": {
        "columns": 8,
        "rows": 3
       }
      },
      "text/html": [
       "<div>\n",
       "<style scoped>\n",
       "    .dataframe tbody tr th:only-of-type {\n",
       "        vertical-align: middle;\n",
       "    }\n",
       "\n",
       "    .dataframe tbody tr th {\n",
       "        vertical-align: top;\n",
       "    }\n",
       "\n",
       "    .dataframe thead th {\n",
       "        text-align: right;\n",
       "    }\n",
       "</style>\n",
       "<table border=\"1\" class=\"dataframe\">\n",
       "  <thead>\n",
       "    <tr style=\"text-align: right;\">\n",
       "      <th></th>\n",
       "      <th>AUROC</th>\n",
       "      <th>AUPRC</th>\n",
       "      <th>Accuracy</th>\n",
       "      <th>F1 Score</th>\n",
       "      <th>Sensitivity</th>\n",
       "      <th>Specificity</th>\n",
       "      <th>PPV</th>\n",
       "      <th>NPV</th>\n",
       "    </tr>\n",
       "  </thead>\n",
       "  <tbody>\n",
       "    <tr>\n",
       "      <th>Class 0</th>\n",
       "      <td>0.844874</td>\n",
       "      <td>0.974767</td>\n",
       "      <td>0.720084</td>\n",
       "      <td>0.819168</td>\n",
       "      <td>0.709475</td>\n",
       "      <td>0.809211</td>\n",
       "      <td>0.968984</td>\n",
       "      <td>0.248988</td>\n",
       "    </tr>\n",
       "    <tr>\n",
       "      <th>Class 1</th>\n",
       "      <td>0.858273</td>\n",
       "      <td>0.397076</td>\n",
       "      <td>0.811232</td>\n",
       "      <td>0.352729</td>\n",
       "      <td>0.665158</td>\n",
       "      <td>0.823474</td>\n",
       "      <td>0.240000</td>\n",
       "      <td>0.967045</td>\n",
       "    </tr>\n",
       "    <tr>\n",
       "      <th>Class 2</th>\n",
       "      <td>0.767251</td>\n",
       "      <td>0.095774</td>\n",
       "      <td>0.858467</td>\n",
       "      <td>0.117775</td>\n",
       "      <td>0.325301</td>\n",
       "      <td>0.874414</td>\n",
       "      <td>0.071904</td>\n",
       "      <td>0.977442</td>\n",
       "    </tr>\n",
       "  </tbody>\n",
       "</table>\n",
       "</div>"
      ],
      "text/plain": [
       "            AUROC     AUPRC  Accuracy  F1 Score  Sensitivity  Specificity  \\\n",
       "Class 0  0.844874  0.974767  0.720084  0.819168     0.709475     0.809211   \n",
       "Class 1  0.858273  0.397076  0.811232  0.352729     0.665158     0.823474   \n",
       "Class 2  0.767251  0.095774  0.858467  0.117775     0.325301     0.874414   \n",
       "\n",
       "              PPV       NPV  \n",
       "Class 0  0.968984  0.248988  \n",
       "Class 1  0.240000  0.967045  \n",
       "Class 2  0.071904  0.977442  "
      ]
     },
     "execution_count": 23,
     "metadata": {},
     "output_type": "execute_result"
    }
   ],
   "source": [
    "# 初始化 GroupShuffleSplit：80% training, 20% validation\n",
    "gss = GroupShuffleSplit(n_splits=1, test_size=0.2, random_state=random_seed)\n",
    "train_idx, val_idx = next(gss.split(x, y, groups=data['ID']))\n",
    "\n",
    "x_train, x_val = x.iloc[train_idx], x.iloc[val_idx]\n",
    "y_train, y_val = y.iloc[train_idx], y.iloc[val_idx]\n",
    "\n",
    "# Label binarize for multiclass\n",
    "y_val_bin = label_binarize(y_val, classes=[0, 1, 2])\n",
    "\n",
    "x_train_imp, m_mean = imputer(x_train, impute_method, train=True)\n",
    "x_train_scale, train_scaler = scaling(x_train_imp, None, train=True)\n",
    "\n",
    "x_val_imp = imputer(x_val, impute_method, False, m_mean)\n",
    "x_val_scale, train_scaler = scaling (x_val_imp, train_scaler, train= False)\n",
    "\n",
    "# Model training\n",
    "model = CatBoostClassifier(verbose=False, class_weights=class_weights)\n",
    "model.fit(x_train_scale, y_train)\n",
    "\n",
    "# Prediction\n",
    "y_prob = model.predict_proba(x_val_scale)\n",
    "y_prob_bin = custom_classify(y_prob, thresholds)\n",
    "y_pred = y_prob_bin.argmax(axis=1)\n",
    "\n",
    "# Evaluation\n",
    "metrics, cm = get_metrics(y_val, y_pred, y_prob)\n",
    "metrics"
   ]
  },
  {
   "cell_type": "markdown",
   "metadata": {},
   "source": [
    "## **remove Blood culture more than 1 set**"
   ]
  },
  {
   "cell_type": "code",
   "execution_count": 32,
   "metadata": {},
   "outputs": [],
   "source": [
    "data = pd.read_csv(fr'{data_dir}\\CMUH_GS_2021_triage.csv')"
   ]
  },
  {
   "cell_type": "code",
   "execution_count": 46,
   "metadata": {},
   "outputs": [],
   "source": [
    "# 移除 bloodcx_Value_12_2 為 'no record' 的資料列\n",
    "data_1 = data[data['bloodcx_Value_12_2'] == 'no record']\n",
    "\n",
    "y = data_1.loc[:,'final_label']\n",
    "x = data_1.iloc[:,6:93]"
   ]
  },
  {
   "cell_type": "code",
   "execution_count": 47,
   "metadata": {},
   "outputs": [
    {
     "name": "stdout",
     "output_type": "stream",
     "text": [
      "total case: 16045\n",
      "Counts of 0: 15339\n",
      "Counts of 1: 518\n",
      "Counts of 2: 188\n",
      "Proportion of 2: 1.17%\n",
      "Proportion of 1: 3.23%\n",
      "Proportion of 0: 95.60%\n"
     ]
    }
   ],
   "source": [
    "for i in [y] :\n",
    "    element_counts = Counter(i)\n",
    "    total_elements = len(i)\n",
    "    # 打印结果\n",
    "    print(f\"total case: {total_elements}\")\n",
    "    print(\"Counts of 0:\", element_counts[0])\n",
    "    print(\"Counts of 1:\", element_counts[1])\n",
    "    print(\"Counts of 2:\", element_counts[2])\n",
    "\n",
    "\n",
    "    # 计算各个元素的比例\n",
    "    element_proportions = {key: count / total_elements for key, count in element_counts.items()}\n",
    "    \n",
    "    # 打印各个元素的比例\n",
    "    for key, proportion in element_proportions.items():\n",
    "        print(f\"Proportion of {key}: {proportion:.2%}\")"
   ]
  },
  {
   "cell_type": "code",
   "execution_count": 66,
   "metadata": {},
   "outputs": [
    {
     "data": {
      "application/vnd.microsoft.datawrangler.viewer.v0+json": {
       "columns": [
        {
         "name": "index",
         "rawType": "object",
         "type": "string"
        },
        {
         "name": "AUROC",
         "rawType": "float64",
         "type": "float"
        },
        {
         "name": "AUPRC",
         "rawType": "float64",
         "type": "float"
        },
        {
         "name": "Accuracy",
         "rawType": "float64",
         "type": "float"
        },
        {
         "name": "F1 Score",
         "rawType": "float64",
         "type": "float"
        },
        {
         "name": "Sensitivity",
         "rawType": "float64",
         "type": "float"
        },
        {
         "name": "Specificity",
         "rawType": "float64",
         "type": "float"
        },
        {
         "name": "PPV",
         "rawType": "float64",
         "type": "float"
        },
        {
         "name": "NPV",
         "rawType": "float64",
         "type": "float"
        }
       ],
       "ref": "36cb392c-746c-4fc7-9bed-fd2accd8e22b",
       "rows": [
        [
         "Class 0",
         "0.7804118963021449",
         "0.9815718481810125",
         "0.6397631660953568",
         "0.7703615415176798",
         "0.6336601307189542",
         "0.7651006711409396",
         "0.9822695035460993",
         "0.09230769230769231"
        ],
        [
         "Class 1",
         "0.7890279823269514",
         "0.21352431223216342",
         "0.7787472732938611",
         "0.16273584905660377",
         "0.6571428571428571",
         "0.782860824742268",
         "0.09286675639300135",
         "0.9854014598540146"
        ],
        [
         "Class 2",
         "0.7016444061467758",
         "0.03569610302408099",
         "0.8385789965721409",
         "0.033582089552238806",
         "0.20454545454545456",
         "0.8473933649289099",
         "0.018292682926829267",
         "0.9871181450128819"
        ]
       ],
       "shape": {
        "columns": 8,
        "rows": 3
       }
      },
      "text/html": [
       "<div>\n",
       "<style scoped>\n",
       "    .dataframe tbody tr th:only-of-type {\n",
       "        vertical-align: middle;\n",
       "    }\n",
       "\n",
       "    .dataframe tbody tr th {\n",
       "        vertical-align: top;\n",
       "    }\n",
       "\n",
       "    .dataframe thead th {\n",
       "        text-align: right;\n",
       "    }\n",
       "</style>\n",
       "<table border=\"1\" class=\"dataframe\">\n",
       "  <thead>\n",
       "    <tr style=\"text-align: right;\">\n",
       "      <th></th>\n",
       "      <th>AUROC</th>\n",
       "      <th>AUPRC</th>\n",
       "      <th>Accuracy</th>\n",
       "      <th>F1 Score</th>\n",
       "      <th>Sensitivity</th>\n",
       "      <th>Specificity</th>\n",
       "      <th>PPV</th>\n",
       "      <th>NPV</th>\n",
       "    </tr>\n",
       "  </thead>\n",
       "  <tbody>\n",
       "    <tr>\n",
       "      <th>Class 0</th>\n",
       "      <td>0.780412</td>\n",
       "      <td>0.981572</td>\n",
       "      <td>0.639763</td>\n",
       "      <td>0.770362</td>\n",
       "      <td>0.633660</td>\n",
       "      <td>0.765101</td>\n",
       "      <td>0.982270</td>\n",
       "      <td>0.092308</td>\n",
       "    </tr>\n",
       "    <tr>\n",
       "      <th>Class 1</th>\n",
       "      <td>0.789028</td>\n",
       "      <td>0.213524</td>\n",
       "      <td>0.778747</td>\n",
       "      <td>0.162736</td>\n",
       "      <td>0.657143</td>\n",
       "      <td>0.782861</td>\n",
       "      <td>0.092867</td>\n",
       "      <td>0.985401</td>\n",
       "    </tr>\n",
       "    <tr>\n",
       "      <th>Class 2</th>\n",
       "      <td>0.701644</td>\n",
       "      <td>0.035696</td>\n",
       "      <td>0.838579</td>\n",
       "      <td>0.033582</td>\n",
       "      <td>0.204545</td>\n",
       "      <td>0.847393</td>\n",
       "      <td>0.018293</td>\n",
       "      <td>0.987118</td>\n",
       "    </tr>\n",
       "  </tbody>\n",
       "</table>\n",
       "</div>"
      ],
      "text/plain": [
       "            AUROC     AUPRC  Accuracy  F1 Score  Sensitivity  Specificity  \\\n",
       "Class 0  0.780412  0.981572  0.639763  0.770362     0.633660     0.765101   \n",
       "Class 1  0.789028  0.213524  0.778747  0.162736     0.657143     0.782861   \n",
       "Class 2  0.701644  0.035696  0.838579  0.033582     0.204545     0.847393   \n",
       "\n",
       "              PPV       NPV  \n",
       "Class 0  0.982270  0.092308  \n",
       "Class 1  0.092867  0.985401  \n",
       "Class 2  0.018293  0.987118  "
      ]
     },
     "execution_count": 66,
     "metadata": {},
     "output_type": "execute_result"
    }
   ],
   "source": [
    "thresholds = [0.959740022420869, 0.01724502759853907, 0.006829229383849586]\n",
    "class_weights = {0: 1, 1: 1, 2:1}\n",
    "x_train, x_val, y_train, y_val = train_test_split(x, y, test_size=.2, random_state=random_seed)\n",
    "y_val_bin = label_binarize(y_val, classes=[0, 1, 2])\n",
    "\n",
    "x_train_imp, m_mean = imputer(x_train, impute_method, train=True)\n",
    "x_train_scale, train_scaler = scaling(x_train_imp, None, train=True)\n",
    "\n",
    "x_val_imp = imputer(x_val, impute_method, False, m_mean)\n",
    "x_val_scale, train_scaler = scaling (x_val_imp, train_scaler, train= False)\n",
    "\n",
    "# model fit\n",
    "model= CatBoostClassifier(verbose=False, class_weights=class_weights)\n",
    "model.fit(x_train_scale, y_train)\n",
    "\n",
    "y_prob = model.predict_proba(x_val_scale)\n",
    "y_prob_bin = custom_classify(y_prob, thresholds)\n",
    "y_pred = y_prob_bin.argmax(axis=1)\n",
    "\n",
    "metrics , cm = get_metrics(y_val, y_pred, y_prob)\n",
    "metrics\n"
   ]
  },
  {
   "cell_type": "code",
   "execution_count": 65,
   "metadata": {},
   "outputs": [],
   "source": [
    "x_val = pd.DataFrame(x_val)\n",
    "\n",
    "# 將 y_val, y_pred, y_prob 轉為 DataFrame\n",
    "#y_val_df = pd.DataFrame(y_val, columns=[\"true_label\"])\n",
    "y_pred_df = pd.DataFrame(y_pred, columns=[\"pred_label\"])\n",
    "y_prob_df = pd.DataFrame(y_prob, columns=[f\"prob_class_{i}\" for i in range(y_prob.shape[1])])\n",
    "\n",
    "# 合併所有資料\n",
    "result_df = pd.concat([x_val.reset_index(drop=True),\n",
    "                       y_val.reset_index(drop=True),\n",
    "                       y_prob_df.reset_index(drop=True),\n",
    "                       y_pred_df.reset_index(drop=True)], axis=1)"
   ]
  },
  {
   "cell_type": "code",
   "execution_count": 20,
   "metadata": {},
   "outputs": [
    {
     "data": {
      "text/plain": [
       "[0.959740022420869, 0.01724502759853907, 0.006829229383849586]"
      ]
     },
     "execution_count": 20,
     "metadata": {},
     "output_type": "execute_result"
    }
   ],
   "source": [
    "thresholds = []\n",
    "for i in range(3):\n",
    "    y_true_binary = (y_val == i).astype(int)\n",
    "    y_prob_class = y_prob[:, i]\n",
    "    best_thresh = find_best_threshold_by_youden(y_true_binary, y_prob_class)\n",
    "    thresholds.append(best_thresh)\n",
    "\n",
    "thresholds"
   ]
  },
  {
   "cell_type": "markdown",
   "metadata": {},
   "source": [
    "## **Feature selection**"
   ]
  },
  {
   "cell_type": "markdown",
   "metadata": {},
   "source": [
    "#### **selection**"
   ]
  },
  {
   "cell_type": "code",
   "execution_count": 13,
   "metadata": {},
   "outputs": [],
   "source": [
    "import pickle\n",
    "import json\n",
    "from datetime import datetime\n",
    "\n",
    "def backward_feature_selection(x_train, y_train, x_val, y_val, min_features=5, \n",
    "                                impute_method='mean', random_seed=42,\n",
    "                                checkpoint_dir=f'{cache_dir}', \n",
    "                                checkpoint_name='backward_selection',\n",
    "                                resume_from_checkpoint=True):\n",
    "    \"\"\"\n",
    "    後向特徵選擇函數（支援檢查點保存和恢復）\n",
    "    \n",
    "    參數:\n",
    "    - x_train, y_train: 訓練資料\n",
    "    - x_val, y_val: 驗證資料\n",
    "    - min_features: 最少保留的特徵數量\n",
    "    - impute_method: 插補方法\n",
    "    - random_seed: 隨機種子\n",
    "    - checkpoint_dir: 檢查點保存目錄\n",
    "    - checkpoint_name: 檢查點文件名前綴\n",
    "    - resume_from_checkpoint: 是否嘗試從檢查點恢復\n",
    "    \"\"\"\n",
    "\n",
    "    # 檢查點文件路徑\n",
    "    checkpoint_path = os.path.join(checkpoint_dir, f'{checkpoint_name}_checkpoint.pkl')\n",
    "    progress_path = os.path.join(checkpoint_dir, f'{checkpoint_name}_progress.json')\n",
    "    # 初始化變量\n",
    "    features_selected = x_train.columns.tolist()\n",
    "    performance_history = []\n",
    "    iteration = 0\n",
    "    \n",
    "    # 三分類 binarize\n",
    "    classes = np.unique(y_train)\n",
    "    y_train_bin = label_binarize(y_train, classes=classes)\n",
    "    y_val_bin = label_binarize(y_val, classes=classes)\n",
    "    \n",
    "    # 嘗試從檢查點恢復\n",
    "    if resume_from_checkpoint and os.path.exists(checkpoint_path):\n",
    "        try:\n",
    "            with open(checkpoint_path, 'rb') as f:\n",
    "                checkpoint_data = pickle.load(f)\n",
    "            \n",
    "            features_selected = checkpoint_data['features_selected']\n",
    "            performance_history = checkpoint_data['performance_history']\n",
    "            iteration = checkpoint_data['iteration']\n",
    "            \n",
    "            print(f\"從檢查點恢復: 迭代 {iteration}, 剩餘特徵數: {len(features_selected)}\")\n",
    "            print(f\"已移除的特徵: {[item['removed'] for item in performance_history]}\")\n",
    "            \n",
    "        except Exception as e:\n",
    "            print(f\"無法載入檢查點: {e}\")\n",
    "            print(\"從頭開始...\")\n",
    "    \n",
    "    def save_checkpoint():\n",
    "        \"\"\"保存檢查點\"\"\"\n",
    "        os.makedirs(checkpoint_dir, exist_ok=True)\n",
    "        checkpoint_data = {\n",
    "            'features_selected': features_selected,\n",
    "            'performance_history': performance_history,\n",
    "            'iteration': iteration,\n",
    "            'timestamp': datetime.now().isoformat()\n",
    "        }\n",
    "        \n",
    "        # 保存二進制檢查點\n",
    "        with open(checkpoint_path, 'wb') as f:\n",
    "            pickle.dump(checkpoint_data, f)\n",
    "        \n",
    "        # 保存可讀的進度記錄\n",
    "        progress_data = {\n",
    "            'current_features_count': len(features_selected),\n",
    "            'iteration': iteration,\n",
    "            'timestamp': datetime.now().isoformat(),\n",
    "            'performance_history': performance_history\n",
    "        }\n",
    "        \n",
    "        with open(progress_path, 'w', encoding='utf-8') as f:\n",
    "            json.dump(progress_data, f, indent=2, ensure_ascii=False)  \n",
    "    # 保存初始狀態\n",
    "    if iteration == 0:\n",
    "        save_checkpoint()\n",
    "    \n",
    "    try:\n",
    "        while len(features_selected) > min_features:\n",
    "            best_macro_auc = -np.inf\n",
    "            worst_feature = None\n",
    "            best_class_aucs = None\n",
    "            best_micro_auc = None\n",
    "            \n",
    "            print(f\"\\n=== 迭代 {iteration +1} ===\")\n",
    "            print(f\"當前特徵數: {len(features_selected)}\")\n",
    "            \n",
    "            for feature in tqdm(features_selected, desc=f\"Testing removal of features (current: {len(features_selected)})\"):\n",
    "                temp_features = [f for f in features_selected if f != feature]\n",
    "                \n",
    "                # 切資料\n",
    "                x_train_sel = x_train[temp_features]\n",
    "                x_val_sel = x_val[temp_features]\n",
    "                \n",
    "                # 前處理\n",
    "                x_train_imp, m_mean = imputer(x_train_sel, impute_method, train=True)\n",
    "                x_train_scale, train_scaler = scaling(x_train_imp, None, train=True)\n",
    "\n",
    "                x_val_imp = imputer(x_val_sel, impute_method, False, m_mean)\n",
    "                x_val_scale, train_scaler = scaling(x_val_imp, train_scaler, train=False)\n",
    "\n",
    "                # Model training\n",
    "                model = CatBoostClassifier(verbose=False, class_weights=class_weights, random_seed=random_seed)\n",
    "                model.fit(x_train_scale, y_train)\n",
    "                \n",
    "                # 機率輸出 (n_samples, n_classes)\n",
    "                y_prob = model.predict_proba(x_val_scale)\n",
    "                \n",
    "                # 個別類別 AUROC\n",
    "                class_aucs = {}\n",
    "                for i, cls in enumerate(classes):\n",
    "                    class_aucs[f'class_{cls}_AUROC'] = roc_auc_score(y_val_bin[:, i], y_prob[:, i])\n",
    "                \n",
    "                # macro 與 micro AUROC\n",
    "                macro_auc = roc_auc_score(y_val_bin, y_prob, average='macro', multi_class='ovr')\n",
    "                micro_auc = roc_auc_score(y_val_bin, y_prob, average='micro', multi_class='ovr')\n",
    "                \n",
    "                if macro_auc > best_macro_auc:\n",
    "                    best_macro_auc = macro_auc\n",
    "                    best_micro_auc = micro_auc\n",
    "                    worst_feature = feature\n",
    "                    best_class_aucs = class_aucs\n",
    "            \n",
    "            # 移除最差的特徵\n",
    "            features_selected.remove(worst_feature)\n",
    "            \n",
    "            # 記錄結果\n",
    "            performance_history.append({\n",
    "                'iteration': iteration,\n",
    "                'n_features': len(features_selected),\n",
    "                'removed': worst_feature,\n",
    "                **best_class_aucs,\n",
    "                'macro_AUROC': best_macro_auc,\n",
    "                'micro_AUROC': best_micro_auc,\n",
    "                'timestamp': datetime.now().isoformat()\n",
    "            })\n",
    "            \n",
    "            print(f\"移除特徵: {worst_feature}\")\n",
    "            print(f\"剩餘特徵數: {len(features_selected)}\")\n",
    "            print(f\"Macro AUROC: {best_macro_auc:.4f}\")\n",
    "\n",
    "            iteration += 1\n",
    "            # 每次迭代後保存檢查點\n",
    "            save_checkpoint()\n",
    "            \n",
    "    except KeyboardInterrupt:\n",
    "        print(\"\\n檢測到中斷，正在保存檢查點...\")\n",
    "        save_checkpoint()\n",
    "        print(\"檢查點已保存，可以稍後恢復。\")\n",
    "        raise\n",
    "    \n",
    "    except Exception as e:\n",
    "        print(f\"\\n發生錯誤: {e}\")\n",
    "        print(\"正在保存檢查點...\")\n",
    "        save_checkpoint()\n",
    "        raise\n",
    "    \n",
    "    # 完成後清理檢查點文件（可選）\n",
    "    try:\n",
    "        if os.path.exists(checkpoint_path):\n",
    "            os.remove(checkpoint_path)\n",
    "        print(\"特徵選擇完成，檢查點文件已清理。\")\n",
    "    except:\n",
    "        pass\n",
    "    \n",
    "    return features_selected, pd.DataFrame(performance_history)\n",
    "\n",
    "\n",
    "def list_checkpoints(checkpoint_dir=f'{cache_dir}'):\n",
    "    \"\"\"列出所有可用的檢查點\"\"\"\n",
    "    if not os.path.exists(checkpoint_dir):\n",
    "        print(\"檢查點目錄不存在\")\n",
    "        return\n",
    "    \n",
    "    checkpoint_files = [f for f in os.listdir(checkpoint_dir) if f.endswith('_progress.json')]\n",
    "    \n",
    "    if not checkpoint_files:\n",
    "        print(\"沒有找到檢查點文件\")\n",
    "        return\n",
    "    \n",
    "    print(\"可用的檢查點:\")\n",
    "    for file in checkpoint_files:\n",
    "        file_path = os.path.join(checkpoint_dir, file)\n",
    "        try:\n",
    "            with open(file_path, 'r', encoding='utf-8-sig') as f:\n",
    "                data = json.load(f)\n",
    "            print(f\"  {file}: 迭代 {data['iteration']}, 特徵數 {data['current_features_count']}, 時間 {data['timestamp']}\")\n",
    "        except Exception as e:\n",
    "            print(f\"  {file}: 無法讀取 - {e}\")\n",
    "\n",
    "\n",
    "def clean_checkpoints(checkpoint_dir=f'{cache_dir}', checkpoint_name=None):\n",
    "    \"\"\"清理檢查點文件\"\"\"\n",
    "    if not os.path.exists(checkpoint_dir):\n",
    "        return\n",
    "    \n",
    "    if checkpoint_name:\n",
    "        # 清理特定檢查點\n",
    "        files_to_remove = [\n",
    "            f'{checkpoint_name}_checkpoint.pkl',\n",
    "            f'{checkpoint_name}_progress.json'\n",
    "        ]\n",
    "    else:\n",
    "        # 清理所有檢查點\n",
    "        files_to_remove = [f for f in os.listdir(checkpoint_dir) \n",
    "                          if f.endswith('_checkpoint.pkl') or f.endswith('_progress.json')]\n",
    "    \n",
    "    for file in files_to_remove:\n",
    "        file_path = os.path.join(checkpoint_dir, file)\n",
    "        try:\n",
    "            if os.path.exists(file_path):\n",
    "                os.remove(file_path)\n",
    "                print(f\"已刪除: {file}\")\n",
    "        except Exception as e:\n",
    "            print(f\"刪除失敗 {file}: {e}\")\n",
    "\n",
    "\n"
   ]
  },
  {
   "cell_type": "code",
   "execution_count": 25,
   "metadata": {},
   "outputs": [
    {
     "name": "stdout",
     "output_type": "stream",
     "text": [
      "已刪除: my_feature_selection_checkpoint.pkl\n"
     ]
    }
   ],
   "source": [
    " # 如果需要，可以清理檢查點\n",
    "clean_checkpoints(checkpoint_name='my_feature_selection')"
   ]
  },
  {
   "cell_type": "code",
   "execution_count": null,
   "metadata": {},
   "outputs": [
    {
     "name": "stdout",
     "output_type": "stream",
     "text": [
      "可用的檢查點:\n",
      "  my_feature_selection_progress.json: 迭代 55, 特徵數 32, 時間 2025-07-04T18:14:28.908600\n",
      "從檢查點恢復: 迭代 55, 剩餘特徵數: 32\n",
      "已移除的特徵: ['HCT', 'MN_AL2_NE', 'SD_LALS_EO', 'SD_LMALS_NE', 'MN_V_EO', 'SD_C_LY', 'SD_LMALS_MO', 'SD_V_EO', 'MN_AL2_EO', 'MN_C_EO', 'MO', 'MN_LALS_NE', 'BA_count', 'SD_C_MO', 'MN_AL2_LY', 'EO_count', 'Band', 'SD_V_MO', 'MN_V_LY', 'SD_C_EO', 'HGB', 'NE_count', 'NRBC', 'Metamyelocyte', 'BA', 'SD_LMALS_LY', 'SD_LALS_NE', 'MN_C_MO', 'EO', 'PDW', 'MN_MALS_EO', 'MCH', 'ANC', 'SD_LALS_LY', 'MN_LALS_EO', 'MO_count', 'SD_UMALS_NE', 'PLT', 'SD_MALS_LY', 'SD_AL2_NE', 'SD_AL2_EO', 'SD_UMALS_MO', 'MN_UMALS_MO', 'SD_MALS_NE', 'SD_MALS_MO', 'MN_LMALS_MO', 'SD_UMALS_LY', 'MN_LMALS_NE', 'SD_LMALS_EO', 'SD_MALS_EO', 'MN_UMALS_EO', 'SD_V_LY', 'LY_count', 'Aty_Lym', 'LY']\n",
      "\n",
      "=== 迭代 56 ===\n",
      "當前特徵數: 32\n"
     ]
    },
    {
     "name": "stderr",
     "output_type": "stream",
     "text": [
      "Testing removal of features (current: 32): 100%|██████████| 32/32 [04:55<00:00,  9.23s/it]\n"
     ]
    },
    {
     "name": "stdout",
     "output_type": "stream",
     "text": [
      "移除特徵: SD_UMALS_EO\n",
      "剩餘特徵數: 31\n",
      "Macro AUROC: 0.8248\n",
      "\n",
      "=== 迭代 57 ===\n",
      "當前特徵數: 31\n"
     ]
    },
    {
     "name": "stderr",
     "output_type": "stream",
     "text": [
      "Testing removal of features (current: 31): 100%|██████████| 31/31 [04:19<00:00,  8.38s/it]\n"
     ]
    },
    {
     "name": "stdout",
     "output_type": "stream",
     "text": [
      "移除特徵: MN_MALS_NE\n",
      "剩餘特徵數: 30\n",
      "Macro AUROC: 0.8264\n",
      "\n",
      "=== 迭代 58 ===\n",
      "當前特徵數: 30\n"
     ]
    },
    {
     "name": "stderr",
     "output_type": "stream",
     "text": [
      "Testing removal of features (current: 30): 100%|██████████| 30/30 [04:21<00:00,  8.73s/it]\n"
     ]
    },
    {
     "name": "stdout",
     "output_type": "stream",
     "text": [
      "移除特徵: MN_AL2_MO\n",
      "剩餘特徵數: 29\n",
      "Macro AUROC: 0.8280\n",
      "\n",
      "=== 迭代 59 ===\n",
      "當前特徵數: 29\n"
     ]
    },
    {
     "name": "stderr",
     "output_type": "stream",
     "text": [
      "Testing removal of features (current: 29): 100%|██████████| 29/29 [03:56<00:00,  8.16s/it]\n"
     ]
    },
    {
     "name": "stdout",
     "output_type": "stream",
     "text": [
      "移除特徵: MN_LMALS_EO\n",
      "剩餘特徵數: 28\n",
      "Macro AUROC: 0.8259\n",
      "\n",
      "=== 迭代 60 ===\n",
      "當前特徵數: 28\n"
     ]
    },
    {
     "name": "stderr",
     "output_type": "stream",
     "text": [
      "Testing removal of features (current: 28): 100%|██████████| 28/28 [03:49<00:00,  8.21s/it]\n"
     ]
    },
    {
     "name": "stdout",
     "output_type": "stream",
     "text": [
      "移除特徵: SD_AL2_LY\n",
      "剩餘特徵數: 27\n",
      "Macro AUROC: 0.8278\n",
      "\n",
      "=== 迭代 61 ===\n",
      "當前特徵數: 27\n"
     ]
    },
    {
     "name": "stderr",
     "output_type": "stream",
     "text": [
      "Testing removal of features (current: 27): 100%|██████████| 27/27 [03:37<00:00,  8.04s/it]\n"
     ]
    },
    {
     "name": "stdout",
     "output_type": "stream",
     "text": [
      "移除特徵: MN_UMALS_LY\n",
      "剩餘特徵數: 26\n",
      "Macro AUROC: 0.8278\n",
      "\n",
      "=== 迭代 62 ===\n",
      "當前特徵數: 26\n"
     ]
    },
    {
     "name": "stderr",
     "output_type": "stream",
     "text": [
      "Testing removal of features (current: 26): 100%|██████████| 26/26 [03:28<00:00,  8.02s/it]\n"
     ]
    },
    {
     "name": "stdout",
     "output_type": "stream",
     "text": [
      "移除特徵: RBC\n",
      "剩餘特徵數: 25\n",
      "Macro AUROC: 0.8248\n",
      "\n",
      "=== 迭代 63 ===\n",
      "當前特徵數: 25\n"
     ]
    },
    {
     "name": "stderr",
     "output_type": "stream",
     "text": [
      "Testing removal of features (current: 25): 100%|██████████| 25/25 [03:23<00:00,  8.13s/it]\n"
     ]
    },
    {
     "name": "stdout",
     "output_type": "stream",
     "text": [
      "移除特徵: Myelocyte\n",
      "剩餘特徵數: 24\n",
      "Macro AUROC: 0.8261\n",
      "\n",
      "=== 迭代 64 ===\n",
      "當前特徵數: 24\n"
     ]
    },
    {
     "name": "stderr",
     "output_type": "stream",
     "text": [
      "Testing removal of features (current: 24): 100%|██████████| 24/24 [03:13<00:00,  8.06s/it]\n"
     ]
    },
    {
     "name": "stdout",
     "output_type": "stream",
     "text": [
      "移除特徵: BLAST\n",
      "剩餘特徵數: 23\n",
      "Macro AUROC: 0.8241\n",
      "\n",
      "=== 迭代 65 ===\n",
      "當前特徵數: 23\n"
     ]
    },
    {
     "name": "stderr",
     "output_type": "stream",
     "text": [
      "Testing removal of features (current: 23): 100%|██████████| 23/23 [03:01<00:00,  7.88s/it]\n"
     ]
    },
    {
     "name": "stdout",
     "output_type": "stream",
     "text": [
      "移除特徵: MN_UMALS_NE\n",
      "剩餘特徵數: 22\n",
      "Macro AUROC: 0.8253\n",
      "\n",
      "=== 迭代 66 ===\n",
      "當前特徵數: 22\n"
     ]
    },
    {
     "name": "stderr",
     "output_type": "stream",
     "text": [
      "Testing removal of features (current: 22): 100%|██████████| 22/22 [02:51<00:00,  7.79s/it]\n"
     ]
    },
    {
     "name": "stdout",
     "output_type": "stream",
     "text": [
      "移除特徵: MN_MALS_MO\n",
      "剩餘特徵數: 21\n",
      "Macro AUROC: 0.8256\n",
      "\n",
      "=== 迭代 67 ===\n",
      "當前特徵數: 21\n"
     ]
    },
    {
     "name": "stderr",
     "output_type": "stream",
     "text": [
      "Testing removal of features (current: 21): 100%|██████████| 21/21 [02:41<00:00,  7.69s/it]\n"
     ]
    },
    {
     "name": "stdout",
     "output_type": "stream",
     "text": [
      "移除特徵: MN_LALS_LY\n",
      "剩餘特徵數: 20\n",
      "Macro AUROC: 0.8248\n",
      "\n",
      "=== 迭代 68 ===\n",
      "當前特徵數: 20\n"
     ]
    },
    {
     "name": "stderr",
     "output_type": "stream",
     "text": [
      "Testing removal of features (current: 20): 100%|██████████| 20/20 [02:31<00:00,  7.55s/it]\n"
     ]
    },
    {
     "name": "stdout",
     "output_type": "stream",
     "text": [
      "移除特徵: Promyelocyte\n",
      "剩餘特徵數: 19\n",
      "Macro AUROC: 0.8262\n",
      "\n",
      "=== 迭代 69 ===\n",
      "當前特徵數: 19\n"
     ]
    },
    {
     "name": "stderr",
     "output_type": "stream",
     "text": [
      "Testing removal of features (current: 19): 100%|██████████| 19/19 [02:23<00:00,  7.56s/it]\n"
     ]
    },
    {
     "name": "stdout",
     "output_type": "stream",
     "text": [
      "移除特徵: WBC\n",
      "剩餘特徵數: 18\n",
      "Macro AUROC: 0.8226\n",
      "\n",
      "=== 迭代 70 ===\n",
      "當前特徵數: 18\n"
     ]
    },
    {
     "name": "stderr",
     "output_type": "stream",
     "text": [
      "Testing removal of features (current: 18): 100%|██████████| 18/18 [02:11<00:00,  7.31s/it]\n"
     ]
    },
    {
     "name": "stdout",
     "output_type": "stream",
     "text": [
      "移除特徵: MN_LALS_MO\n",
      "剩餘特徵數: 17\n",
      "Macro AUROC: 0.8221\n",
      "\n",
      "=== 迭代 71 ===\n",
      "當前特徵數: 17\n"
     ]
    },
    {
     "name": "stderr",
     "output_type": "stream",
     "text": [
      "Testing removal of features (current: 17): 100%|██████████| 17/17 [02:00<00:00,  7.08s/it]\n"
     ]
    },
    {
     "name": "stdout",
     "output_type": "stream",
     "text": [
      "移除特徵: MN_V_NE\n",
      "剩餘特徵數: 16\n",
      "Macro AUROC: 0.8204\n",
      "\n",
      "=== 迭代 72 ===\n",
      "當前特徵數: 16\n"
     ]
    },
    {
     "name": "stderr",
     "output_type": "stream",
     "text": [
      "Testing removal of features (current: 16): 100%|██████████| 16/16 [01:52<00:00,  7.01s/it]\n"
     ]
    },
    {
     "name": "stdout",
     "output_type": "stream",
     "text": [
      "移除特徵: MN_MALS_LY\n",
      "剩餘特徵數: 15\n",
      "Macro AUROC: 0.8190\n",
      "\n",
      "=== 迭代 73 ===\n",
      "當前特徵數: 15\n"
     ]
    },
    {
     "name": "stderr",
     "output_type": "stream",
     "text": [
      "Testing removal of features (current: 15): 100%|██████████| 15/15 [01:44<00:00,  6.99s/it]\n"
     ]
    },
    {
     "name": "stdout",
     "output_type": "stream",
     "text": [
      "移除特徵: MN_V_MO\n",
      "剩餘特徵數: 14\n",
      "Macro AUROC: 0.8187\n",
      "\n",
      "=== 迭代 74 ===\n",
      "當前特徵數: 14\n"
     ]
    },
    {
     "name": "stderr",
     "output_type": "stream",
     "text": [
      "Testing removal of features (current: 14): 100%|██████████| 14/14 [01:37<00:00,  6.96s/it]\n"
     ]
    },
    {
     "name": "stdout",
     "output_type": "stream",
     "text": [
      "移除特徵: MCHC\n",
      "剩餘特徵數: 13\n",
      "Macro AUROC: 0.8184\n",
      "\n",
      "=== 迭代 75 ===\n",
      "當前特徵數: 13\n"
     ]
    },
    {
     "name": "stderr",
     "output_type": "stream",
     "text": [
      "Testing removal of features (current: 13): 100%|██████████| 13/13 [01:29<00:00,  6.85s/it]\n"
     ]
    },
    {
     "name": "stdout",
     "output_type": "stream",
     "text": [
      "移除特徵: SD_LALS_MO\n",
      "剩餘特徵數: 12\n",
      "Macro AUROC: 0.8134\n",
      "\n",
      "=== 迭代 76 ===\n",
      "當前特徵數: 12\n"
     ]
    },
    {
     "name": "stderr",
     "output_type": "stream",
     "text": [
      "Testing removal of features (current: 12): 100%|██████████| 12/12 [01:19<00:00,  6.65s/it]\n"
     ]
    },
    {
     "name": "stdout",
     "output_type": "stream",
     "text": [
      "移除特徵: SD_AL2_MO\n",
      "剩餘特徵數: 11\n",
      "Macro AUROC: 0.8119\n",
      "\n",
      "=== 迭代 77 ===\n",
      "當前特徵數: 11\n"
     ]
    },
    {
     "name": "stderr",
     "output_type": "stream",
     "text": [
      "Testing removal of features (current: 11): 100%|██████████| 11/11 [01:08<00:00,  6.20s/it]"
     ]
    },
    {
     "name": "stdout",
     "output_type": "stream",
     "text": [
      "移除特徵: SD_C_NE\n",
      "剩餘特徵數: 10\n",
      "Macro AUROC: 0.8107\n",
      "特徵選擇完成，檢查點文件已清理。\n",
      "特徵選擇完成！\n",
      "最終選擇的特徵數: 10\n"
     ]
    },
    {
     "name": "stderr",
     "output_type": "stream",
     "text": [
      "\n"
     ]
    }
   ],
   "source": [
    "gss = GroupShuffleSplit(n_splits=1, test_size=0.2, random_state=random_seed)\n",
    "train_idx, val_idx = next(gss.split(x, y, groups=data['ID']))\n",
    "\n",
    "x_train, x_val = x.iloc[train_idx], x.iloc[val_idx]\n",
    "y_train, y_val = y.iloc[train_idx], y.iloc[val_idx]\n",
    "\n",
    "if __name__ == \"__main__\":\n",
    "    # 列出現有檢查點\n",
    "    list_checkpoints()\n",
    "    \n",
    "    # 運行特徵選擇（會自動從檢查點恢復）\n",
    "    try:\n",
    "        selected_features, performance_log = backward_feature_selection(\n",
    "            x_train, y_train, x_val, y_val,\n",
    "            min_features=10,\n",
    "            checkpoint_name='my_feature_selection',\n",
    "            resume_from_checkpoint=True\n",
    "        )\n",
    "        print(\"特徵選擇完成！\")\n",
    "        print(f\"最終選擇的特徵數: {len(selected_features)}\")\n",
    "        \n",
    "    except KeyboardInterrupt:\n",
    "        print(\"程序被中斷，下次運行時將從檢查點恢復。\")\n",
    "    \n",
    "   "
   ]
  },
  {
   "cell_type": "code",
   "execution_count": null,
   "metadata": {},
   "outputs": [],
   "source": [
    "performance_log.to_csv(rf\"{cache_dir}\\history.csv\", index=False)\n"
   ]
  },
  {
   "cell_type": "markdown",
   "metadata": {},
   "source": [
    "### **Model performance with specific feature number**"
   ]
  },
  {
   "cell_type": "code",
   "execution_count": 13,
   "metadata": {},
   "outputs": [],
   "source": [
    "performance_log= pd.read_csv(rf\"{cache_dir}\\history.csv\")\n",
    "original_feature_count = x_train.shape[1] "
   ]
  },
  {
   "cell_type": "code",
   "execution_count": 11,
   "metadata": {},
   "outputs": [
    {
     "name": "stdout",
     "output_type": "stream",
     "text": [
      "保留特徵數：77\n",
      "['WBC', 'ANC', 'NE', 'NE_count', 'MO', 'MO_count', 'LY', 'LY_count', 'BA', 'BA_count', 'EO', 'EO_count', 'Band', 'BLAST', 'Myelocyte', 'Metamyelocyte', 'Promyelocyte', 'Aty_Lym', 'HGB', 'RBC', 'NRBC', 'PLT', 'NLR', 'PLR', 'MDW', 'PDW', 'RDW', 'MCV', 'MCH', 'MCHC', 'MN_AL2_LY', 'MN_AL2_MO', 'MN_C_LY', 'MN_C_MO', 'MN_C_NE', 'MN_LALS_EO', 'MN_LALS_LY', 'MN_LALS_MO', 'MN_LALS_NE', 'MN_LMALS_EO', 'MN_LMALS_LY', 'MN_LMALS_MO', 'MN_LMALS_NE', 'MN_MALS_EO', 'MN_MALS_LY', 'MN_MALS_MO', 'MN_MALS_NE', 'MN_UMALS_EO', 'MN_UMALS_LY', 'MN_UMALS_MO', 'MN_UMALS_NE', 'MN_V_LY', 'MN_V_MO', 'MN_V_NE', 'SD_AL2_EO', 'SD_AL2_LY', 'SD_AL2_MO', 'SD_AL2_NE', 'SD_C_EO', 'SD_C_MO', 'SD_C_NE', 'SD_LALS_LY', 'SD_LALS_MO', 'SD_LALS_NE', 'SD_LMALS_EO', 'SD_LMALS_LY', 'SD_MALS_EO', 'SD_MALS_LY', 'SD_MALS_MO', 'SD_MALS_NE', 'SD_UMALS_EO', 'SD_UMALS_LY', 'SD_UMALS_MO', 'SD_UMALS_NE', 'SD_V_LY', 'SD_V_MO', 'SD_V_NE']\n"
     ]
    },
    {
     "ename": "NameError",
     "evalue": "name 'thresholds' is not defined",
     "output_type": "error",
     "traceback": [
      "\u001b[1;31m---------------------------------------------------------------------------\u001b[0m",
      "\u001b[1;31mNameError\u001b[0m                                 Traceback (most recent call last)",
      "Cell \u001b[1;32mIn[11], line 58\u001b[0m\n\u001b[0;32m     55\u001b[0m y_wk_prob \u001b[38;5;241m=\u001b[39m model\u001b[38;5;241m.\u001b[39mpredict_proba(x_wk_scale)\n\u001b[0;32m     56\u001b[0m y_an_prob \u001b[38;5;241m=\u001b[39m model\u001b[38;5;241m.\u001b[39mpredict_proba(x_an_scale)\n\u001b[1;32m---> 58\u001b[0m y_prob_bin \u001b[38;5;241m=\u001b[39m custom_classify(y_prob, \u001b[43mthresholds\u001b[49m)\n\u001b[0;32m     59\u001b[0m y_test_prob_bin \u001b[38;5;241m=\u001b[39m custom_classify(y_test_prob, thresholds)\n\u001b[0;32m     60\u001b[0m y_wk_prob_bin \u001b[38;5;241m=\u001b[39m custom_classify(y_wk_prob, thresholds)\n",
      "\u001b[1;31mNameError\u001b[0m: name 'thresholds' is not defined"
     ]
    }
   ],
   "source": [
    "step_target =77\n",
    "# 從 performance_log 找到對應的那一行\n",
    "target_row = performance_log[performance_log['n_features'] == step_target]\n",
    "\n",
    "# 避免空值（防呆）\n",
    "if not target_row.empty:\n",
    "    # 取得當下留下來的特徵\n",
    "    best_features = x_train.columns.tolist()\n",
    "\n",
    "    for removed_feature in performance_log.loc[:target_row.index[0], 'removed']:\n",
    "        best_features.remove(removed_feature)\n",
    "\n",
    "    print(f\"保留特徵數：{len(best_features)}\")\n",
    "    print (best_features)\n",
    "else:\n",
    "    print(\"找不到剛好刪掉第 i 個特徵的那一步，請確認 performance_log 中 n_features 是否包含該值\")\n",
    "\n",
    "\n",
    "x_train_best = x_train[best_features]\n",
    "x_val_best = x_val[best_features]\n",
    "x_test_best = x_test[best_features]\n",
    "x_wk_best = x_wk[best_features]\n",
    "x_an_best = x_an[best_features]\n",
    "\n",
    "\n",
    "# train set\n",
    "x_train_imp, impute_value = imputer(x_train_best, impute_method, train=True)\n",
    "x_train_scale, train_scaler = scaling(x_train_imp, None, train=True)\n",
    "\n",
    "# validation set \n",
    "x_val_imp = imputer(x_val_best, impute_method, False, impute_value)\n",
    "x_val_scale, train_scaler = scaling(x_val_imp, train_scaler, train=False)\n",
    "\n",
    "\n",
    "# CMUH 2023 dataset\n",
    "x_test_imp = imputer(x_test_best, impute_method, False, impute_value)\n",
    "x_test_scale, train_scaler = scaling(x_test_imp, train_scaler, train=False)\n",
    "\n",
    "# wk\n",
    "x_wk_imp = imputer(x_wk_best, impute_method, False, impute_value)\n",
    "x_wk_scale, train_scaler = scaling(x_wk_imp, train_scaler, train=False)\n",
    "\n",
    "# an   \n",
    "x_an_imp = imputer(x_an_best, impute_method, False, impute_value)\n",
    "x_an_scale, train_scaler = scaling(x_an_imp, train_scaler, train=False)\n",
    "\n",
    "\n",
    "# model fit\n",
    "model= CatBoostClassifier(verbose=False, class_weights=class_weights)\n",
    "model.fit(x_train_scale, y_train)\n",
    "\n",
    "\n",
    "y_prob = model.predict_proba(x_val_scale)\n",
    "y_test_prob = model.predict_proba(x_test_scale)\n",
    "y_wk_prob = model.predict_proba(x_wk_scale)\n",
    "y_an_prob = model.predict_proba(x_an_scale)\n",
    "\n",
    "y_prob_bin = custom_classify(y_prob, thresholds)\n",
    "y_test_prob_bin = custom_classify(y_test_prob, thresholds)\n",
    "y_wk_prob_bin = custom_classify(y_wk_prob, thresholds)\n",
    "y_an_prob_bin = custom_classify(y_an_prob, thresholds)\n",
    "\n",
    "y_pred = y_prob_bin.argmax(axis=1)\n",
    "y_test_pred = y_test_prob_bin.argmax(axis=1)\n",
    "y_wk_pred = y_wk_prob_bin.argmax(axis=1)\n",
    "y_an_pred = y_an_prob_bin.argmax(axis=1)\n",
    "\n",
    "\n",
    "metrics, cm = get_metrics(y_val, y_pred, y_prob)\n",
    "metrics_test, cm_test = get_metrics(y_test, y_test_pred, y_test_prob)\n",
    "metrics_wk, cm_wk = get_metrics(y_wk, y_wk_pred, y_wk_prob)\n",
    "metrics_an, cm_an = get_metrics(y_an, y_an_pred, y_an_prob)\n",
    "\n",
    "\n",
    "print (metrics)\n",
    "print (metrics_test)\n",
    "print (metrics_wk)\n",
    "print (metrics_an)\n"
   ]
  },
  {
   "cell_type": "markdown",
   "metadata": {},
   "source": [
    "## **Hyperparameter tuning**"
   ]
  },
  {
   "cell_type": "code",
   "execution_count": 15,
   "metadata": {},
   "outputs": [
    {
     "name": "stdout",
     "output_type": "stream",
     "text": [
      "⏳ Start CatBoost Random Search with Cross-Validation...\n"
     ]
    },
    {
     "name": "stderr",
     "output_type": "stream",
     "text": [
      "Random Search: 100%|██████████| 1000/1000 [27:41:44<00:00, 99.70s/it]   "
     ]
    },
    {
     "name": "stdout",
     "output_type": "stream",
     "text": [
      "\n",
      "✅ Best CV AUROC: 0.820579148248756\n",
      "🧪 Best Params: {'border_count': 227, 'depth': 9, 'iterations': 1190, 'l2_leaf_reg': 5, 'learning_rate': 0.02600509025296281, 'random_strength': 2.14317469274157}\n"
     ]
    },
    {
     "name": "stderr",
     "output_type": "stream",
     "text": [
      "\n"
     ]
    }
   ],
   "source": [
    "from sklearn.model_selection import ParameterSampler\n",
    "from sklearn.model_selection import StratifiedKFold\n",
    "\n",
    "# CATboost\n",
    "param_distributions = {\n",
    "    'depth': randint(4, 10),\n",
    "    'learning_rate': uniform(0.005, 0.05),\n",
    "    'iterations': randint(800, 1400),\n",
    "    'l2_leaf_reg': randint(1, 6),\n",
    "    'border_count': randint(1, 255),\n",
    "    'random_strength': uniform(1, 10)\n",
    "}\n",
    "\n",
    "# 超參數設定\n",
    "n_splits = 3\n",
    "n_iter = 1000 # 減少以便快速測試，可視情況調高\n",
    "param_list = list(ParameterSampler(param_distributions, n_iter=n_iter, random_state=random_seed))\n",
    "\n",
    "best_score = 0\n",
    "best_params = None\n",
    "\n",
    "\n",
    "print(\"⏳ Start CatBoost Random Search with Cross-Validation...\")\n",
    "\n",
    "for i, params in enumerate(tqdm(param_list, desc=\"Random Search\")):\n",
    "    cv_scores = []\n",
    "    gss = GroupShuffleSplit(n_splits=n_splits, test_size=0.2, random_state=random_seed)\n",
    "    \n",
    "    for train_index, val_index in gss.split(x, y, groups=data[\"ID\"]):\n",
    "        x_train, x_val = x.iloc[train_index], x.iloc[val_index]\n",
    "        y_train, y_val = y.iloc[train_index], y.iloc[val_index]\n",
    "\n",
    "        x_train_best = x_train[best_features]\n",
    "        x_val_best = x_val[best_features]\n",
    "\n",
    "        # imputer & scaler\n",
    "        x_tr_imp, imputer_val = imputer(x_train_best, impute_method, train=True)\n",
    "        x_tr_scale, scaler = scaling(x_tr_imp, None, train=True)\n",
    "\n",
    "        x_val_imp = imputer(x_val_best, impute_method, False, imputer_val)\n",
    "        x_val_scale, _ = scaling(x_val_imp, scaler, train=False)\n",
    "\n",
    "        model = CatBoostClassifier(\n",
    "            **params,\n",
    "            loss_function=\"MultiClass\",\n",
    "            verbose=0,\n",
    "            random_seed=random_seed\n",
    "        )\n",
    "\n",
    "        model.fit(x_tr_scale, y_train)\n",
    "\n",
    "        prob = model.predict_proba(x_val_scale)  # shape = (n_samples, 3)\n",
    "        score = roc_auc_score(y_val, prob, multi_class=\"ovr\", average= \"macro\") \n",
    "\n",
    "        cv_scores.append(score)\n",
    "\n",
    "    mean_score = np.mean(cv_scores)\n",
    "\n",
    "    if mean_score > best_score:\n",
    "        best_score = mean_score\n",
    "        best_params = params\n",
    "\n",
    "print(\"\\n✅ Best CV AUROC:\", best_score)\n",
    "print(\"🧪 Best Params:\", best_params)"
   ]
  },
  {
   "cell_type": "markdown",
   "metadata": {},
   "source": [
    "## **Final Model**"
   ]
  },
  {
   "cell_type": "code",
   "execution_count": 14,
   "metadata": {},
   "outputs": [
    {
     "name": "stdout",
     "output_type": "stream",
     "text": [
      "保留特徵數：77\n",
      "['WBC', 'ANC', 'NE', 'NE_count', 'MO', 'MO_count', 'LY', 'LY_count', 'BA', 'BA_count', 'EO', 'EO_count', 'Band', 'BLAST', 'Myelocyte', 'Metamyelocyte', 'Promyelocyte', 'Aty_Lym', 'HGB', 'RBC', 'NRBC', 'PLT', 'NLR', 'PLR', 'MDW', 'PDW', 'RDW', 'MCV', 'MCH', 'MCHC', 'MN_AL2_LY', 'MN_AL2_MO', 'MN_C_LY', 'MN_C_MO', 'MN_C_NE', 'MN_LALS_EO', 'MN_LALS_LY', 'MN_LALS_MO', 'MN_LALS_NE', 'MN_LMALS_EO', 'MN_LMALS_LY', 'MN_LMALS_MO', 'MN_LMALS_NE', 'MN_MALS_EO', 'MN_MALS_LY', 'MN_MALS_MO', 'MN_MALS_NE', 'MN_UMALS_EO', 'MN_UMALS_LY', 'MN_UMALS_MO', 'MN_UMALS_NE', 'MN_V_LY', 'MN_V_MO', 'MN_V_NE', 'SD_AL2_EO', 'SD_AL2_LY', 'SD_AL2_MO', 'SD_AL2_NE', 'SD_C_EO', 'SD_C_MO', 'SD_C_NE', 'SD_LALS_LY', 'SD_LALS_MO', 'SD_LALS_NE', 'SD_LMALS_EO', 'SD_LMALS_LY', 'SD_MALS_EO', 'SD_MALS_LY', 'SD_MALS_MO', 'SD_MALS_NE', 'SD_UMALS_EO', 'SD_UMALS_LY', 'SD_UMALS_MO', 'SD_UMALS_NE', 'SD_V_LY', 'SD_V_MO', 'SD_V_NE']\n"
     ]
    }
   ],
   "source": [
    "step_target =77\n",
    "# 從 performance_log 找到對應的那一行\n",
    "target_row = performance_log[performance_log['n_features'] == step_target]\n",
    "\n",
    "\n",
    "best_features = x_train.columns.tolist()\n",
    "\n",
    "for removed_feature in performance_log.loc[:target_row.index[0], 'removed']:\n",
    "    best_features.remove(removed_feature)\n",
    "\n",
    "print(f\"保留特徵數：{len(best_features)}\")\n",
    "print (best_features)\n",
    "\n",
    "\n",
    "x_train_best = x_train[best_features]\n",
    "x_val_best = x_val[best_features]\n",
    "x_test_best = x_test[best_features]\n",
    "x_wk_best = x_wk[best_features]\n",
    "x_an_best = x_an[best_features]\n",
    "\n",
    "\n",
    "# train set\n",
    "x_train_imp, impute_value = imputer(x_train_best, impute_method, train=True)\n",
    "x_train_scale, train_scaler = scaling(x_train_imp, None, train=True)\n",
    "\n",
    "# validation set \n",
    "x_val_imp = imputer(x_val_best, impute_method, False, impute_value)\n",
    "x_val_scale, train_scaler = scaling(x_val_imp, train_scaler, train=False)\n",
    "\n",
    "\n",
    "# CMUH 2023 dataset\n",
    "x_test_imp = imputer(x_test_best, impute_method, False, impute_value)\n",
    "x_test_scale, train_scaler = scaling(x_test_imp, train_scaler, train=False)\n",
    "\n",
    "# wk\n",
    "x_wk_imp = imputer(x_wk_best, impute_method, False, impute_value)\n",
    "x_wk_scale, train_scaler = scaling(x_wk_imp, train_scaler, train=False)\n",
    "\n",
    "# an   \n",
    "x_an_imp = imputer(x_an_best, impute_method, False, impute_value)\n",
    "x_an_scale, train_scaler = scaling(x_an_imp, train_scaler, train=False)\n",
    "\n",
    "\n",
    "# model fit\n",
    "model= CatBoostClassifier(verbose=False, \n",
    "                          border_count= 227, \n",
    "                          depth= 9, \n",
    "                          iterations= 1190,\n",
    "                          l2_leaf_reg= 5, \n",
    "                          learning_rate= 0.02600509025296281, \n",
    "                          random_strength= 2.14317469274157,\n",
    "                          class_weights=class_weights)\n",
    "model.fit(x_train_scale, y_train)\n",
    "\n",
    "y_prob = model.predict_proba(x_val_scale)\n",
    "y_test_prob = model.predict_proba(x_test_scale)\n",
    "y_wk_prob = model.predict_proba(x_wk_scale)\n",
    "y_an_prob = model.predict_proba(x_an_scale)\n"
   ]
  },
  {
   "cell_type": "markdown",
   "metadata": {},
   "source": [
    "- determine the best threshold"
   ]
  },
  {
   "cell_type": "code",
   "execution_count": 15,
   "metadata": {},
   "outputs": [
    {
     "name": "stdout",
     "output_type": "stream",
     "text": [
      "Final thresholds: [0.9007937190943954, 0.03536441800385752, 0.02046970219808379]\n"
     ]
    }
   ],
   "source": [
    "thresholds = []\n",
    "\n",
    "for i in range(3):\n",
    "    y_true_binary = (y_val == i).astype(int)\n",
    "    y_prob_class = y_prob[:, i]\n",
    "    fpr, tpr, thr = roc_curve(y_true_binary, y_prob_class)\n",
    "    youden_index = tpr - fpr\n",
    "    best_thresh = thr[np.argmax(youden_index)]\n",
    "    thresholds.append(best_thresh)\n",
    "\n",
    "# Step 2: 微調 class 1 (GNB) 的 threshold → 達到 sensitivity ≥ 0.75\n",
    "gnb_index = 1\n",
    "orig_thresh = thresholds[gnb_index]\n",
    "trial_thresholds = np.linspace(orig_thresh, 0.01, 50)  # 從 youden 到更低，逐步往下降\n",
    "\n",
    "for t in trial_thresholds:\n",
    "    temp_thresholds = thresholds.copy()\n",
    "    temp_thresholds[gnb_index] = t\n",
    "    y_pred_bin = custom_classify(y_prob, temp_thresholds)\n",
    "    y_pred = y_pred_bin.argmax(axis=1)\n",
    "    \n",
    "    cm = confusion_matrix(y_val, y_pred, labels=[0, 1, 2])\n",
    "    sensitivity_gnb = cm[1, 1] / cm[1].sum()\n",
    "\n",
    "    if sensitivity_gnb >= 0.80:\n",
    "        thresholds[gnb_index] = t  # 成功就保留這個 threshold\n",
    "        break\n",
    "\n",
    "print(\"Final thresholds:\", thresholds)"
   ]
  },
  {
   "cell_type": "code",
   "execution_count": 16,
   "metadata": {},
   "outputs": [
    {
     "name": "stdout",
     "output_type": "stream",
     "text": [
      "            AUROC     AUPRC  Accuracy  F1 Score  Sensitivity  Specificity  \\\n",
      "Class 0  0.847597  0.975711  0.608817  0.724087     0.574393     0.898026   \n",
      "Class 1  0.861001  0.410876  0.712036  0.304311     0.814480     0.703451   \n",
      "Class 2  0.768014  0.093045  0.843247  0.068607     0.198795     0.862523   \n",
      "\n",
      "              PPV       NPV  \n",
      "Class 0  0.979306  0.200735  \n",
      "Class 1  0.187110  0.978376  \n",
      "Class 2  0.041457  0.972967  \n",
      "            AUROC     AUPRC  Accuracy  F1 Score  Sensitivity  Specificity  \\\n",
      "Class 0  0.841910  0.978884  0.576356  0.700840     0.545006     0.895332   \n",
      "Class 1  0.866542  0.415015  0.696728  0.250078     0.801404     0.689678   \n",
      "Class 2  0.759230  0.085415  0.834947  0.080395     0.273381     0.850169   \n",
      "\n",
      "              PPV       NPV  \n",
      "Class 0  0.981475  0.162058  \n",
      "Class 1  0.148155  0.980976  \n",
      "Class 2  0.047127  0.977358  \n",
      "            AUROC     AUPRC  Accuracy  F1 Score  Sensitivity  Specificity  \\\n",
      "Class 0  0.860450  0.983341  0.567629  0.694906     0.536646     0.912442   \n",
      "Class 1  0.869048  0.410464  0.743921  0.278373     0.751445     0.743392   \n",
      "Class 2  0.797887  0.079390  0.784195  0.053333     0.363636     0.791345   \n",
      "\n",
      "              PPV       NPV  \n",
      "Class 0  0.985551  0.150342  \n",
      "Class 1  0.170828  0.977018  \n",
      "Class 2  0.028777  0.986513  \n",
      "            AUROC     AUPRC  Accuracy  F1 Score  Sensitivity  Specificity  \\\n",
      "Class 0  0.848948  0.984809  0.615849  0.743697     0.597300     0.874510   \n",
      "Class 1  0.867611  0.325023  0.709525  0.205312     0.772973     0.706288   \n",
      "Class 2  0.774820  0.080251  0.873262  0.065764     0.242857     0.885057   \n",
      "\n",
      "              PPV       NPV  \n",
      "Class 0  0.985158  0.134743  \n",
      "Class 1  0.118377  0.983865  \n",
      "Class 2  0.038031  0.984245  \n"
     ]
    }
   ],
   "source": [
    "y_prob_bin = custom_classify(y_prob, thresholds)\n",
    "y_test_prob_bin = custom_classify(y_test_prob, thresholds)\n",
    "y_wk_prob_bin = custom_classify(y_wk_prob, thresholds)\n",
    "y_an_prob_bin = custom_classify(y_an_prob, thresholds)\n",
    "\n",
    "y_pred = y_prob_bin.argmax(axis=1)\n",
    "y_test_pred = y_test_prob_bin.argmax(axis=1)\n",
    "y_wk_pred = y_wk_prob_bin.argmax(axis=1)\n",
    "y_an_pred = y_an_prob_bin.argmax(axis=1)\n",
    "\n",
    "metrics, cm = get_metrics(y_val, y_pred, y_prob)\n",
    "metrics_test, cm_test = get_metrics(y_test, y_test_pred, y_test_prob)\n",
    "metrics_wk, cm_wk = get_metrics(y_wk, y_wk_pred, y_wk_prob)\n",
    "metrics_an, cm_an = get_metrics(y_an, y_an_pred, y_an_prob)\n",
    "\n",
    "print (metrics)\n",
    "print (metrics_test)\n",
    "print (metrics_wk)\n",
    "print (metrics_an)\n"
   ]
  },
  {
   "cell_type": "code",
   "execution_count": 17,
   "metadata": {},
   "outputs": [],
   "source": [
    "data_test['predictions'] = y_test_pred  # 將預測結果作為新列加入\n",
    "data_WK['predictions'] = y_wk_pred  # 將預測結果作為新列加入\n",
    "data_AN['predictions'] = y_an_pred  # 將預測結果作為新列加入\n"
   ]
  },
  {
   "cell_type": "markdown",
   "metadata": {},
   "source": [
    "## **SHAP**"
   ]
  },
  {
   "cell_type": "code",
   "execution_count": null,
   "metadata": {},
   "outputs": [],
   "source": [
    "from catboost import Pool\n",
    "\n",
    "step_target =77\n",
    "# 從 performance_log 找到對應的那一行\n",
    "target_row = performance_log[performance_log['n_features'] == step_target]\n",
    "\n",
    "best_features = x_train.columns.tolist()\n",
    "\n",
    "for removed_feature in performance_log.loc[:target_row.index[0], 'removed']:\n",
    "    best_features.remove(removed_feature)\n",
    "\n",
    "print(f\"保留特徵數：{len(best_features)}\")\n",
    "print (best_features)\n",
    "\n",
    "\n",
    "x_train_best = x_train[best_features]\n",
    "\n",
    "# train set\n",
    "x_train_imp, impute_value = imputer(x_train_best, impute_method, train=True)\n",
    "x_train_scale, train_scaler = scaling(x_train_imp, None, train=True)\n",
    "\n",
    "\n",
    "\n",
    "\n",
    "# model fit\n",
    "model= CatBoostClassifier(verbose=False, \n",
    "                          border_count= 227, \n",
    "                          depth= 9, \n",
    "                          iterations= 1190,\n",
    "                          l2_leaf_reg= 5, \n",
    "                          learning_rate= 0.02600509025296281, \n",
    "                          random_strength= 2.14317469274157,\n",
    "                          class_weights=class_weights)\n",
    "\n",
    "model.fit(x_train_scale, y_train)\n",
    "\n",
    "# CatBoost內建 SHAP 方法（穩定且支援 multi-class）\n",
    "shap_values = model.get_feature_importance(\n",
    "    type='ShapValues',\n",
    "    data=Pool(x_train_scale, label=y_train),\n",
    "    prettified=False\n",
    ")"
   ]
  },
  {
   "cell_type": "code",
   "execution_count": 25,
   "metadata": {},
   "outputs": [
    {
     "data": {
      "image/png": "[encoded data removed]",
      "text/plain": [
       "<Figure size 800x750 with 2 Axes>"
      ]
     },
     "metadata": {},
     "output_type": "display_data"
    }
   ],
   "source": [
    "\n",
    "target_class=2\n",
    "\n",
    "shap_values_target_class = shap_values[:, target_class, :-1]\n",
    "\n",
    "shap.summary_plot(shap_values_target_class, features=x_train_scale, feature_names=x_train_scale.columns, max_display=15)"
   ]
  },
  {
   "cell_type": "code",
   "execution_count": 26,
   "metadata": {},
   "outputs": [
    {
     "data": {
      "image/png": "[encoded data removed]",
      "text/plain": [
       "<Figure size 800x750 with 2 Axes>"
      ]
     },
     "metadata": {},
     "output_type": "display_data"
    }
   ],
   "source": [
    "\n",
    "target_class=1\n",
    "\n",
    "shap_values_target_class = shap_values[:, target_class, :-1]\n",
    "\n",
    "shap.summary_plot(shap_values_target_class, features=x_train_scale, feature_names=x_train_scale.columns, max_display=15)"
   ]
  },
  {
   "cell_type": "markdown",
   "metadata": {},
   "source": [
    "## **Plot**"
   ]
  },
  {
   "cell_type": "markdown",
   "metadata": {},
   "source": [
    "#### **AUROC and AUPRC**"
   ]
  },
  {
   "cell_type": "code",
   "execution_count": 37,
   "metadata": {},
   "outputs": [],
   "source": [
    "def plot_multiclass_roc(y_true, y_prob, class_names):\n",
    "    plt.figure(figsize=(6, 6), dpi=600)\n",
    "    for i, class_name in enumerate(class_names):\n",
    "        y_true_bin = (y_true == i).astype(int)\n",
    "        fpr, tpr, _ = roc_curve(y_true_bin, y_prob[:, i])\n",
    "        auc = roc_auc_score(y_true_bin, y_prob[:, i])\n",
    "        plt.plot(fpr, tpr, label=f'{class_name} (AUROC={auc:.3f})')\n",
    "\n",
    "    plt.plot([0, 1], [0, 1], 'k--', alpha=0.5, label='by chance')\n",
    "\n",
    "    plt.xlabel('False Positive Rate', fontsize=14)\n",
    "    plt.ylabel('True Positive Rate', fontsize=14)\n",
    "    plt.title('AUROC - Development Cohort', fontsize=14)\n",
    "    plt.xticks(fontsize=12)\n",
    "    plt.yticks(fontsize=12)\n",
    "    plt.legend(fontsize=12)\n",
    "    plt.legend()\n",
    "    plt.grid(True)\n",
    "    plt.tight_layout()\n",
    "    plt.show()\n",
    "\n",
    "# 繪製 AUPRC\n",
    "def plot_multiclass_prc(y_true, y_prob, class_names):\n",
    "    plt.figure(figsize=(6, 6), dpi=600)\n",
    "    for i, class_name in enumerate(class_names):\n",
    "        y_true_bin = (y_true == i).astype(int)\n",
    "        precision, recall, _ = precision_recall_curve(y_true_bin, y_prob[:, i])\n",
    "        ap = average_precision_score(y_true_bin, y_prob[:, i])\n",
    "        plt.plot(recall, precision, label=f'{class_name} (AUPRC={ap:.3f})')\n",
    "\n",
    "    plt.xlabel('Recall', fontsize=14)\n",
    "    plt.ylabel('Precision', fontsize=14)\n",
    "    plt.title('AUPRC - Development Cohort')\n",
    "    plt.xticks(fontsize=12)\n",
    "    plt.yticks(fontsize=12)\n",
    "    plt.legend(fontsize=12)\n",
    "    plt.grid(True)\n",
    "    plt.legend()\n",
    "    plt.tight_layout()\n",
    "    plt.show()"
   ]
  },
  {
   "cell_type": "code",
   "execution_count": null,
   "metadata": {},
   "outputs": [],
   "source": [
    "class_names = ['Nonbacteremia', 'Gram-negative bacteremia', 'Gram-positive bacteremia']\n",
    "\n",
    "plot_multiclass_roc(y_val, y_prob, class_names)\n",
    "plot_multiclass_prc(y_val, y_prob, class_names)"
   ]
  },
  {
   "cell_type": "markdown",
   "metadata": {},
   "source": [
    "#### **Calibration**"
   ]
  },
  {
   "cell_type": "code",
   "execution_count": 48,
   "metadata": {},
   "outputs": [],
   "source": [
    "from sklearn.calibration import calibration_curve\n",
    "from sklearn.metrics import brier_score_loss\n",
    "\n",
    "def plot_combined_calibration_curve(y_bins_list, y_probs_list, labels, num_classes=3):\n",
    "    class_titles = {\n",
    "       0: 'Calibration Plot of Non-Bacteremia Prediction',\n",
    "       1: 'Calibration Plot of Gram Negative Bacteremia Prediction',\n",
    "       2: 'Calibration Plot of Gram Positive Bacteremia Prediction'\n",
    "   }   \n",
    "\n",
    "    for class_idx in range(num_classes):\n",
    "        plt.figure(figsize=(10, 8),  dpi=600)\n",
    "        for i in range(len(y_bins_list)):\n",
    "            y_bin = y_bins_list[i]\n",
    "            y_prob = y_probs_list[i]\n",
    "            brier_score = brier_score_loss(y_bin[:, class_idx], y_prob[:, class_idx])\n",
    "            \n",
    "            # Calculate the calibration curve\n",
    "            fraction_of_positives, mean_predicted_value = calibration_curve(y_bin[:, class_idx], y_prob[:, class_idx], n_bins=10)\n",
    "            \n",
    "            # Plot the calibration curve\n",
    "            plt.plot(mean_predicted_value, fraction_of_positives, \"s-\", label=f\"{labels[i]} - (Brier score: {brier_score:.3f})\")\n",
    "    \n",
    "        plt.plot([0, 1], [0, 1], \"k:\", label=\"Perfectly calibrated\")\n",
    "        title_str = class_titles.get(class_idx, f\"Calibration Plot - Class {class_idx}\")\n",
    "\n",
    "        \n",
    "        plt.title(title_str, fontsize=18)\n",
    "        plt.xlabel(\"Mean predicted value\", fontsize=14)\n",
    "        plt.ylabel(\"Fraction of positives\", fontsize=14)\n",
    "        plt.xlim(-0.05, 1.05)\n",
    "        plt.ylim(-0.05, 1.05)\n",
    "        plt.legend(loc='best', fontsize=15)\n",
    "        plt.grid(True, which='major', linestyle='--', linewidth=0.7, color='gray')\n",
    "\n",
    "        plt.show()\n"
   ]
  },
  {
   "cell_type": "code",
   "execution_count": null,
   "metadata": {},
   "outputs": [],
   "source": [
    "y_val_bin = label_binarize(y_val, classes=[0, 1, 2])\n",
    "y_test_bin = label_binarize(y_test, classes=[0, 1, 2])\n",
    "y_wk_bin = label_binarize(y_wk, classes=[0, 1, 2])\n",
    "y_an_bin = label_binarize(y_an, classes=[0, 1, 2])\n",
    "\n",
    "y_bins = [y_val_bin, y_test_bin, y_wk_bin, y_an_bin]\n",
    "y_probs = [y_prob, y_test_prob, y_wk_prob, y_an_prob]\n",
    "labels = [\"CMUH development\", \"CMUH validation\", \"WMH validation\", \"ANH validation\"]\n",
    "\n",
    "plot_combined_calibration_curve(y_bins, y_probs, labels, num_classes=3)"
   ]
  }
 ],
 "metadata": {
  "kernelspec": {
   "display_name": "IDA_project",
   "language": "python",
   "name": "python3"
  },
  "language_info": {
   "codemirror_mode": {
    "name": "ipython",
    "version": 3
   },
   "file_extension": ".py",
   "mimetype": "text/x-python",
   "name": "python",
   "nbconvert_exporter": "python",
   "pygments_lexer": "ipython3",
   "version": "3.9.18"
  }
 },
 "nbformat": 4,
 "nbformat_minor": 2
}
